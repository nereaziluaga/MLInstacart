{
 "cells": [
  {
   "cell_type": "code",
   "execution_count": 1,
   "id": "8df0d936",
   "metadata": {},
   "outputs": [],
   "source": [
    "import pandas as pd\n"
   ]
  },
  {
   "cell_type": "code",
   "execution_count": 3,
   "id": "3152e7ef",
   "metadata": {},
   "outputs": [],
   "source": [
    "clusters_3 = pd.read_csv('../data/3cluster.csv')\n",
    "clusters_4= pd.read_csv('../data/4cluster.csv')"
   ]
  },
  {
   "cell_type": "code",
   "execution_count": 5,
   "id": "0c21f61c",
   "metadata": {},
   "outputs": [
    {
     "data": {
      "application/vnd.microsoft.datawrangler.viewer.v0+json": {
       "columns": [
        {
         "name": "index",
         "rawType": "int64",
         "type": "integer"
        },
        {
         "name": "cluster",
         "rawType": "int64",
         "type": "integer"
        },
        {
         "name": "edad",
         "rawType": "float64",
         "type": "float"
        },
        {
         "name": "renta_mensual",
         "rawType": "float64",
         "type": "float"
        },
        {
         "name": "tamaño_hogar",
         "rawType": "float64",
         "type": "float"
        },
        {
         "name": "recency",
         "rawType": "float64",
         "type": "float"
        },
        {
         "name": "frequency",
         "rawType": "float64",
         "type": "float"
        },
        {
         "name": "monetary",
         "rawType": "float64",
         "type": "float"
        },
        {
         "name": "gen_hombre",
         "rawType": "float64",
         "type": "float"
        },
        {
         "name": "gen_mujer",
         "rawType": "float64",
         "type": "float"
        },
        {
         "name": "est_civ_casado/a",
         "rawType": "float64",
         "type": "float"
        },
        {
         "name": "est_civ_divorciado/a",
         "rawType": "float64",
         "type": "float"
        },
        {
         "name": "est_civ_soltero/a",
         "rawType": "float64",
         "type": "float"
        },
        {
         "name": "est_civ_viudo/a",
         "rawType": "float64",
         "type": "float"
        },
        {
         "name": "zona_rural",
         "rawType": "float64",
         "type": "float"
        },
        {
         "name": "zona_suburbana",
         "rawType": "float64",
         "type": "float"
        },
        {
         "name": "zona_urbana",
         "rawType": "float64",
         "type": "float"
        }
       ],
       "conversionMethod": "pd.DataFrame",
       "ref": "d72b917f-8069-450e-a4e0-11f74c84d21e",
       "rows": [
        [
         "0",
         "0",
         "41.86",
         "2261.03",
         "1.64",
         "135.13",
         "9.49",
         "85.1",
         "0.47",
         "0.53",
         "0.49",
         "0.02",
         "0.37",
         "0.12",
         "0.11",
         "0.87",
         "0.03"
        ],
        [
         "1",
         "1",
         "36.11",
         "2423.89",
         "1.76",
         "146.22",
         "10.8",
         "91.25",
         "0.48",
         "0.52",
         "0.56",
         "0.0",
         "0.44",
         "0.0",
         "0.0",
         "0.0",
         "1.0"
        ],
        [
         "2",
         "2",
         "43.98",
         "3168.02",
         "3.88",
         "312.75",
         "44.37",
         "457.36",
         "0.49",
         "0.51",
         "1.0",
         "0.0",
         "0.0",
         "0.0",
         "0.0",
         "1.0",
         "0.0"
        ]
       ],
       "shape": {
        "columns": 16,
        "rows": 3
       }
      },
      "text/html": [
       "<div>\n",
       "<style scoped>\n",
       "    .dataframe tbody tr th:only-of-type {\n",
       "        vertical-align: middle;\n",
       "    }\n",
       "\n",
       "    .dataframe tbody tr th {\n",
       "        vertical-align: top;\n",
       "    }\n",
       "\n",
       "    .dataframe thead th {\n",
       "        text-align: right;\n",
       "    }\n",
       "</style>\n",
       "<table border=\"1\" class=\"dataframe\">\n",
       "  <thead>\n",
       "    <tr style=\"text-align: right;\">\n",
       "      <th></th>\n",
       "      <th>cluster</th>\n",
       "      <th>edad</th>\n",
       "      <th>renta_mensual</th>\n",
       "      <th>tamaño_hogar</th>\n",
       "      <th>recency</th>\n",
       "      <th>frequency</th>\n",
       "      <th>monetary</th>\n",
       "      <th>gen_hombre</th>\n",
       "      <th>gen_mujer</th>\n",
       "      <th>est_civ_casado/a</th>\n",
       "      <th>est_civ_divorciado/a</th>\n",
       "      <th>est_civ_soltero/a</th>\n",
       "      <th>est_civ_viudo/a</th>\n",
       "      <th>zona_rural</th>\n",
       "      <th>zona_suburbana</th>\n",
       "      <th>zona_urbana</th>\n",
       "    </tr>\n",
       "  </thead>\n",
       "  <tbody>\n",
       "    <tr>\n",
       "      <th>0</th>\n",
       "      <td>0</td>\n",
       "      <td>41.86</td>\n",
       "      <td>2261.03</td>\n",
       "      <td>1.64</td>\n",
       "      <td>135.13</td>\n",
       "      <td>9.49</td>\n",
       "      <td>85.10</td>\n",
       "      <td>0.47</td>\n",
       "      <td>0.53</td>\n",
       "      <td>0.49</td>\n",
       "      <td>0.02</td>\n",
       "      <td>0.37</td>\n",
       "      <td>0.12</td>\n",
       "      <td>0.11</td>\n",
       "      <td>0.87</td>\n",
       "      <td>0.03</td>\n",
       "    </tr>\n",
       "    <tr>\n",
       "      <th>1</th>\n",
       "      <td>1</td>\n",
       "      <td>36.11</td>\n",
       "      <td>2423.89</td>\n",
       "      <td>1.76</td>\n",
       "      <td>146.22</td>\n",
       "      <td>10.80</td>\n",
       "      <td>91.25</td>\n",
       "      <td>0.48</td>\n",
       "      <td>0.52</td>\n",
       "      <td>0.56</td>\n",
       "      <td>0.00</td>\n",
       "      <td>0.44</td>\n",
       "      <td>0.00</td>\n",
       "      <td>0.00</td>\n",
       "      <td>0.00</td>\n",
       "      <td>1.00</td>\n",
       "    </tr>\n",
       "    <tr>\n",
       "      <th>2</th>\n",
       "      <td>2</td>\n",
       "      <td>43.98</td>\n",
       "      <td>3168.02</td>\n",
       "      <td>3.88</td>\n",
       "      <td>312.75</td>\n",
       "      <td>44.37</td>\n",
       "      <td>457.36</td>\n",
       "      <td>0.49</td>\n",
       "      <td>0.51</td>\n",
       "      <td>1.00</td>\n",
       "      <td>0.00</td>\n",
       "      <td>0.00</td>\n",
       "      <td>0.00</td>\n",
       "      <td>0.00</td>\n",
       "      <td>1.00</td>\n",
       "      <td>0.00</td>\n",
       "    </tr>\n",
       "  </tbody>\n",
       "</table>\n",
       "</div>"
      ],
      "text/plain": [
       "   cluster   edad  renta_mensual  tamaño_hogar  recency  frequency  monetary  \\\n",
       "0        0  41.86        2261.03          1.64   135.13       9.49     85.10   \n",
       "1        1  36.11        2423.89          1.76   146.22      10.80     91.25   \n",
       "2        2  43.98        3168.02          3.88   312.75      44.37    457.36   \n",
       "\n",
       "   gen_hombre  gen_mujer  est_civ_casado/a  est_civ_divorciado/a  \\\n",
       "0        0.47       0.53              0.49                  0.02   \n",
       "1        0.48       0.52              0.56                  0.00   \n",
       "2        0.49       0.51              1.00                  0.00   \n",
       "\n",
       "   est_civ_soltero/a  est_civ_viudo/a  zona_rural  zona_suburbana  zona_urbana  \n",
       "0               0.37             0.12        0.11            0.87         0.03  \n",
       "1               0.44             0.00        0.00            0.00         1.00  \n",
       "2               0.00             0.00        0.00            1.00         0.00  "
      ]
     },
     "execution_count": 5,
     "metadata": {},
     "output_type": "execute_result"
    }
   ],
   "source": [
    "clusters_3"
   ]
  },
  {
   "cell_type": "code",
   "execution_count": 6,
   "id": "c2d8e4a8",
   "metadata": {},
   "outputs": [
    {
     "data": {
      "application/vnd.microsoft.datawrangler.viewer.v0+json": {
       "columns": [
        {
         "name": "index",
         "rawType": "int64",
         "type": "integer"
        },
        {
         "name": "cluster",
         "rawType": "int64",
         "type": "integer"
        },
        {
         "name": "edad",
         "rawType": "float64",
         "type": "float"
        },
        {
         "name": "renta_mensual",
         "rawType": "float64",
         "type": "float"
        },
        {
         "name": "tamaño_hogar",
         "rawType": "float64",
         "type": "float"
        },
        {
         "name": "recency",
         "rawType": "float64",
         "type": "float"
        },
        {
         "name": "frequency",
         "rawType": "float64",
         "type": "float"
        },
        {
         "name": "monetary",
         "rawType": "float64",
         "type": "float"
        },
        {
         "name": "gen_hombre",
         "rawType": "float64",
         "type": "float"
        },
        {
         "name": "gen_mujer",
         "rawType": "float64",
         "type": "float"
        },
        {
         "name": "est_civ_casado/a",
         "rawType": "float64",
         "type": "float"
        },
        {
         "name": "est_civ_divorciado/a",
         "rawType": "float64",
         "type": "float"
        },
        {
         "name": "est_civ_soltero/a",
         "rawType": "float64",
         "type": "float"
        },
        {
         "name": "est_civ_viudo/a",
         "rawType": "float64",
         "type": "float"
        },
        {
         "name": "zona_rural",
         "rawType": "float64",
         "type": "float"
        },
        {
         "name": "zona_suburbana",
         "rawType": "float64",
         "type": "float"
        },
        {
         "name": "zona_urbana",
         "rawType": "float64",
         "type": "float"
        }
       ],
       "conversionMethod": "pd.DataFrame",
       "ref": "d983fc03-9142-4d72-be2d-601f0acfdab5",
       "rows": [
        [
         "0",
         "0",
         "39.83",
         "2379.71",
         "1.74",
         "145.27",
         "10.54",
         "93.96",
         "0.01",
         "0.99",
         "0.54",
         "0.03",
         "0.37",
         "0.05",
         "0.01",
         "0.99",
         "0.0"
        ],
        [
         "1",
         "1",
         "38.53",
         "2355.0",
         "1.71",
         "142.14",
         "10.3",
         "88.89",
         "1.0",
         "0.0",
         "0.53",
         "0.0",
         "0.41",
         "0.06",
         "0.05",
         "0.38",
         "0.57"
        ],
        [
         "2",
         "2",
         "44.3",
         "3189.26",
         "3.95",
         "314.87",
         "45.46",
         "469.29",
         "0.49",
         "0.51",
         "1.0",
         "0.0",
         "0.0",
         "0.0",
         "0.0",
         "1.0",
         "0.0"
        ],
        [
         "3",
         "3",
         "38.0",
         "2343.01",
         "1.71",
         "141.97",
         "10.34",
         "89.0",
         "0.0",
         "1.0",
         "0.53",
         "0.0",
         "0.42",
         "0.05",
         "0.07",
         "0.0",
         "0.93"
        ]
       ],
       "shape": {
        "columns": 16,
        "rows": 4
       }
      },
      "text/html": [
       "<div>\n",
       "<style scoped>\n",
       "    .dataframe tbody tr th:only-of-type {\n",
       "        vertical-align: middle;\n",
       "    }\n",
       "\n",
       "    .dataframe tbody tr th {\n",
       "        vertical-align: top;\n",
       "    }\n",
       "\n",
       "    .dataframe thead th {\n",
       "        text-align: right;\n",
       "    }\n",
       "</style>\n",
       "<table border=\"1\" class=\"dataframe\">\n",
       "  <thead>\n",
       "    <tr style=\"text-align: right;\">\n",
       "      <th></th>\n",
       "      <th>cluster</th>\n",
       "      <th>edad</th>\n",
       "      <th>renta_mensual</th>\n",
       "      <th>tamaño_hogar</th>\n",
       "      <th>recency</th>\n",
       "      <th>frequency</th>\n",
       "      <th>monetary</th>\n",
       "      <th>gen_hombre</th>\n",
       "      <th>gen_mujer</th>\n",
       "      <th>est_civ_casado/a</th>\n",
       "      <th>est_civ_divorciado/a</th>\n",
       "      <th>est_civ_soltero/a</th>\n",
       "      <th>est_civ_viudo/a</th>\n",
       "      <th>zona_rural</th>\n",
       "      <th>zona_suburbana</th>\n",
       "      <th>zona_urbana</th>\n",
       "    </tr>\n",
       "  </thead>\n",
       "  <tbody>\n",
       "    <tr>\n",
       "      <th>0</th>\n",
       "      <td>0</td>\n",
       "      <td>39.83</td>\n",
       "      <td>2379.71</td>\n",
       "      <td>1.74</td>\n",
       "      <td>145.27</td>\n",
       "      <td>10.54</td>\n",
       "      <td>93.96</td>\n",
       "      <td>0.01</td>\n",
       "      <td>0.99</td>\n",
       "      <td>0.54</td>\n",
       "      <td>0.03</td>\n",
       "      <td>0.37</td>\n",
       "      <td>0.05</td>\n",
       "      <td>0.01</td>\n",
       "      <td>0.99</td>\n",
       "      <td>0.00</td>\n",
       "    </tr>\n",
       "    <tr>\n",
       "      <th>1</th>\n",
       "      <td>1</td>\n",
       "      <td>38.53</td>\n",
       "      <td>2355.00</td>\n",
       "      <td>1.71</td>\n",
       "      <td>142.14</td>\n",
       "      <td>10.30</td>\n",
       "      <td>88.89</td>\n",
       "      <td>1.00</td>\n",
       "      <td>0.00</td>\n",
       "      <td>0.53</td>\n",
       "      <td>0.00</td>\n",
       "      <td>0.41</td>\n",
       "      <td>0.06</td>\n",
       "      <td>0.05</td>\n",
       "      <td>0.38</td>\n",
       "      <td>0.57</td>\n",
       "    </tr>\n",
       "    <tr>\n",
       "      <th>2</th>\n",
       "      <td>2</td>\n",
       "      <td>44.30</td>\n",
       "      <td>3189.26</td>\n",
       "      <td>3.95</td>\n",
       "      <td>314.87</td>\n",
       "      <td>45.46</td>\n",
       "      <td>469.29</td>\n",
       "      <td>0.49</td>\n",
       "      <td>0.51</td>\n",
       "      <td>1.00</td>\n",
       "      <td>0.00</td>\n",
       "      <td>0.00</td>\n",
       "      <td>0.00</td>\n",
       "      <td>0.00</td>\n",
       "      <td>1.00</td>\n",
       "      <td>0.00</td>\n",
       "    </tr>\n",
       "    <tr>\n",
       "      <th>3</th>\n",
       "      <td>3</td>\n",
       "      <td>38.00</td>\n",
       "      <td>2343.01</td>\n",
       "      <td>1.71</td>\n",
       "      <td>141.97</td>\n",
       "      <td>10.34</td>\n",
       "      <td>89.00</td>\n",
       "      <td>0.00</td>\n",
       "      <td>1.00</td>\n",
       "      <td>0.53</td>\n",
       "      <td>0.00</td>\n",
       "      <td>0.42</td>\n",
       "      <td>0.05</td>\n",
       "      <td>0.07</td>\n",
       "      <td>0.00</td>\n",
       "      <td>0.93</td>\n",
       "    </tr>\n",
       "  </tbody>\n",
       "</table>\n",
       "</div>"
      ],
      "text/plain": [
       "   cluster   edad  renta_mensual  tamaño_hogar  recency  frequency  monetary  \\\n",
       "0        0  39.83        2379.71          1.74   145.27      10.54     93.96   \n",
       "1        1  38.53        2355.00          1.71   142.14      10.30     88.89   \n",
       "2        2  44.30        3189.26          3.95   314.87      45.46    469.29   \n",
       "3        3  38.00        2343.01          1.71   141.97      10.34     89.00   \n",
       "\n",
       "   gen_hombre  gen_mujer  est_civ_casado/a  est_civ_divorciado/a  \\\n",
       "0        0.01       0.99              0.54                  0.03   \n",
       "1        1.00       0.00              0.53                  0.00   \n",
       "2        0.49       0.51              1.00                  0.00   \n",
       "3        0.00       1.00              0.53                  0.00   \n",
       "\n",
       "   est_civ_soltero/a  est_civ_viudo/a  zona_rural  zona_suburbana  zona_urbana  \n",
       "0               0.37             0.05        0.01            0.99         0.00  \n",
       "1               0.41             0.06        0.05            0.38         0.57  \n",
       "2               0.00             0.00        0.00            1.00         0.00  \n",
       "3               0.42             0.05        0.07            0.00         0.93  "
      ]
     },
     "execution_count": 6,
     "metadata": {},
     "output_type": "execute_result"
    }
   ],
   "source": [
    "clusters_4"
   ]
  }
 ],
 "metadata": {
  "kernelspec": {
   "display_name": "Python 3",
   "language": "python",
   "name": "python3"
  },
  "language_info": {
   "codemirror_mode": {
    "name": "ipython",
    "version": 3
   },
   "file_extension": ".py",
   "mimetype": "text/x-python",
   "name": "python",
   "nbconvert_exporter": "python",
   "pygments_lexer": "ipython3",
   "version": "3.11.9"
  }
 },
 "nbformat": 4,
 "nbformat_minor": 5
}
