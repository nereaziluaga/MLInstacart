{
 "cells": [
  {
   "cell_type": "code",
   "execution_count": 1,
   "id": "3cecef62",
   "metadata": {},
   "outputs": [],
   "source": [
    "# Importar librerías necesarias\n",
    "import pandas as pd\n",
    "import numpy as np\n",
    "import matplotlib.pyplot as plt\n",
    "import seaborn as sns"
   ]
  },
  {
   "cell_type": "markdown",
   "id": "aa050ce3",
   "metadata": {},
   "source": [
    "Mis datasets"
   ]
  },
  {
   "cell_type": "code",
   "execution_count": 3,
   "id": "f76d144d",
   "metadata": {},
   "outputs": [
    {
     "ename": "FileNotFoundError",
     "evalue": "[Errno 2] No such file or directory: '../data/orders.csv'",
     "output_type": "error",
     "traceback": [
      "\u001b[31m---------------------------------------------------------------------------\u001b[39m",
      "\u001b[31mFileNotFoundError\u001b[39m                         Traceback (most recent call last)",
      "\u001b[36mCell\u001b[39m\u001b[36m \u001b[39m\u001b[32mIn[3]\u001b[39m\u001b[32m, line 2\u001b[39m\n\u001b[32m      1\u001b[39m \u001b[38;5;66;03m# Cargar los datos\u001b[39;00m\n\u001b[32m----> \u001b[39m\u001b[32m2\u001b[39m orders = \u001b[43mpd\u001b[49m\u001b[43m.\u001b[49m\u001b[43mread_csv\u001b[49m\u001b[43m(\u001b[49m\u001b[33;43m'\u001b[39;49m\u001b[33;43m../data/orders.csv\u001b[39;49m\u001b[33;43m'\u001b[39;49m\u001b[43m)\u001b[49m\n\u001b[32m      3\u001b[39m order_products_prior = pd.read_csv(\u001b[33m'\u001b[39m\u001b[33m../data/order_products__prior.csv\u001b[39m\u001b[33m'\u001b[39m)\n\u001b[32m      4\u001b[39m products = pd.read_csv(\u001b[33m'\u001b[39m\u001b[33m../data/products.csv\u001b[39m\u001b[33m'\u001b[39m)\n",
      "\u001b[36mFile \u001b[39m\u001b[32m~\\AppData\\Roaming\\Python\\Python311\\site-packages\\pandas\\io\\parsers\\readers.py:1026\u001b[39m, in \u001b[36mread_csv\u001b[39m\u001b[34m(filepath_or_buffer, sep, delimiter, header, names, index_col, usecols, dtype, engine, converters, true_values, false_values, skipinitialspace, skiprows, skipfooter, nrows, na_values, keep_default_na, na_filter, verbose, skip_blank_lines, parse_dates, infer_datetime_format, keep_date_col, date_parser, date_format, dayfirst, cache_dates, iterator, chunksize, compression, thousands, decimal, lineterminator, quotechar, quoting, doublequote, escapechar, comment, encoding, encoding_errors, dialect, on_bad_lines, delim_whitespace, low_memory, memory_map, float_precision, storage_options, dtype_backend)\u001b[39m\n\u001b[32m   1013\u001b[39m kwds_defaults = _refine_defaults_read(\n\u001b[32m   1014\u001b[39m     dialect,\n\u001b[32m   1015\u001b[39m     delimiter,\n\u001b[32m   (...)\u001b[39m\u001b[32m   1022\u001b[39m     dtype_backend=dtype_backend,\n\u001b[32m   1023\u001b[39m )\n\u001b[32m   1024\u001b[39m kwds.update(kwds_defaults)\n\u001b[32m-> \u001b[39m\u001b[32m1026\u001b[39m \u001b[38;5;28;01mreturn\u001b[39;00m \u001b[43m_read\u001b[49m\u001b[43m(\u001b[49m\u001b[43mfilepath_or_buffer\u001b[49m\u001b[43m,\u001b[49m\u001b[43m \u001b[49m\u001b[43mkwds\u001b[49m\u001b[43m)\u001b[49m\n",
      "\u001b[36mFile \u001b[39m\u001b[32m~\\AppData\\Roaming\\Python\\Python311\\site-packages\\pandas\\io\\parsers\\readers.py:620\u001b[39m, in \u001b[36m_read\u001b[39m\u001b[34m(filepath_or_buffer, kwds)\u001b[39m\n\u001b[32m    617\u001b[39m _validate_names(kwds.get(\u001b[33m\"\u001b[39m\u001b[33mnames\u001b[39m\u001b[33m\"\u001b[39m, \u001b[38;5;28;01mNone\u001b[39;00m))\n\u001b[32m    619\u001b[39m \u001b[38;5;66;03m# Create the parser.\u001b[39;00m\n\u001b[32m--> \u001b[39m\u001b[32m620\u001b[39m parser = \u001b[43mTextFileReader\u001b[49m\u001b[43m(\u001b[49m\u001b[43mfilepath_or_buffer\u001b[49m\u001b[43m,\u001b[49m\u001b[43m \u001b[49m\u001b[43m*\u001b[49m\u001b[43m*\u001b[49m\u001b[43mkwds\u001b[49m\u001b[43m)\u001b[49m\n\u001b[32m    622\u001b[39m \u001b[38;5;28;01mif\u001b[39;00m chunksize \u001b[38;5;129;01mor\u001b[39;00m iterator:\n\u001b[32m    623\u001b[39m     \u001b[38;5;28;01mreturn\u001b[39;00m parser\n",
      "\u001b[36mFile \u001b[39m\u001b[32m~\\AppData\\Roaming\\Python\\Python311\\site-packages\\pandas\\io\\parsers\\readers.py:1620\u001b[39m, in \u001b[36mTextFileReader.__init__\u001b[39m\u001b[34m(self, f, engine, **kwds)\u001b[39m\n\u001b[32m   1617\u001b[39m     \u001b[38;5;28mself\u001b[39m.options[\u001b[33m\"\u001b[39m\u001b[33mhas_index_names\u001b[39m\u001b[33m\"\u001b[39m] = kwds[\u001b[33m\"\u001b[39m\u001b[33mhas_index_names\u001b[39m\u001b[33m\"\u001b[39m]\n\u001b[32m   1619\u001b[39m \u001b[38;5;28mself\u001b[39m.handles: IOHandles | \u001b[38;5;28;01mNone\u001b[39;00m = \u001b[38;5;28;01mNone\u001b[39;00m\n\u001b[32m-> \u001b[39m\u001b[32m1620\u001b[39m \u001b[38;5;28mself\u001b[39m._engine = \u001b[38;5;28;43mself\u001b[39;49m\u001b[43m.\u001b[49m\u001b[43m_make_engine\u001b[49m\u001b[43m(\u001b[49m\u001b[43mf\u001b[49m\u001b[43m,\u001b[49m\u001b[43m \u001b[49m\u001b[38;5;28;43mself\u001b[39;49m\u001b[43m.\u001b[49m\u001b[43mengine\u001b[49m\u001b[43m)\u001b[49m\n",
      "\u001b[36mFile \u001b[39m\u001b[32m~\\AppData\\Roaming\\Python\\Python311\\site-packages\\pandas\\io\\parsers\\readers.py:1880\u001b[39m, in \u001b[36mTextFileReader._make_engine\u001b[39m\u001b[34m(self, f, engine)\u001b[39m\n\u001b[32m   1878\u001b[39m     \u001b[38;5;28;01mif\u001b[39;00m \u001b[33m\"\u001b[39m\u001b[33mb\u001b[39m\u001b[33m\"\u001b[39m \u001b[38;5;129;01mnot\u001b[39;00m \u001b[38;5;129;01min\u001b[39;00m mode:\n\u001b[32m   1879\u001b[39m         mode += \u001b[33m\"\u001b[39m\u001b[33mb\u001b[39m\u001b[33m\"\u001b[39m\n\u001b[32m-> \u001b[39m\u001b[32m1880\u001b[39m \u001b[38;5;28mself\u001b[39m.handles = \u001b[43mget_handle\u001b[49m\u001b[43m(\u001b[49m\n\u001b[32m   1881\u001b[39m \u001b[43m    \u001b[49m\u001b[43mf\u001b[49m\u001b[43m,\u001b[49m\n\u001b[32m   1882\u001b[39m \u001b[43m    \u001b[49m\u001b[43mmode\u001b[49m\u001b[43m,\u001b[49m\n\u001b[32m   1883\u001b[39m \u001b[43m    \u001b[49m\u001b[43mencoding\u001b[49m\u001b[43m=\u001b[49m\u001b[38;5;28;43mself\u001b[39;49m\u001b[43m.\u001b[49m\u001b[43moptions\u001b[49m\u001b[43m.\u001b[49m\u001b[43mget\u001b[49m\u001b[43m(\u001b[49m\u001b[33;43m\"\u001b[39;49m\u001b[33;43mencoding\u001b[39;49m\u001b[33;43m\"\u001b[39;49m\u001b[43m,\u001b[49m\u001b[43m \u001b[49m\u001b[38;5;28;43;01mNone\u001b[39;49;00m\u001b[43m)\u001b[49m\u001b[43m,\u001b[49m\n\u001b[32m   1884\u001b[39m \u001b[43m    \u001b[49m\u001b[43mcompression\u001b[49m\u001b[43m=\u001b[49m\u001b[38;5;28;43mself\u001b[39;49m\u001b[43m.\u001b[49m\u001b[43moptions\u001b[49m\u001b[43m.\u001b[49m\u001b[43mget\u001b[49m\u001b[43m(\u001b[49m\u001b[33;43m\"\u001b[39;49m\u001b[33;43mcompression\u001b[39;49m\u001b[33;43m\"\u001b[39;49m\u001b[43m,\u001b[49m\u001b[43m \u001b[49m\u001b[38;5;28;43;01mNone\u001b[39;49;00m\u001b[43m)\u001b[49m\u001b[43m,\u001b[49m\n\u001b[32m   1885\u001b[39m \u001b[43m    \u001b[49m\u001b[43mmemory_map\u001b[49m\u001b[43m=\u001b[49m\u001b[38;5;28;43mself\u001b[39;49m\u001b[43m.\u001b[49m\u001b[43moptions\u001b[49m\u001b[43m.\u001b[49m\u001b[43mget\u001b[49m\u001b[43m(\u001b[49m\u001b[33;43m\"\u001b[39;49m\u001b[33;43mmemory_map\u001b[39;49m\u001b[33;43m\"\u001b[39;49m\u001b[43m,\u001b[49m\u001b[43m \u001b[49m\u001b[38;5;28;43;01mFalse\u001b[39;49;00m\u001b[43m)\u001b[49m\u001b[43m,\u001b[49m\n\u001b[32m   1886\u001b[39m \u001b[43m    \u001b[49m\u001b[43mis_text\u001b[49m\u001b[43m=\u001b[49m\u001b[43mis_text\u001b[49m\u001b[43m,\u001b[49m\n\u001b[32m   1887\u001b[39m \u001b[43m    \u001b[49m\u001b[43merrors\u001b[49m\u001b[43m=\u001b[49m\u001b[38;5;28;43mself\u001b[39;49m\u001b[43m.\u001b[49m\u001b[43moptions\u001b[49m\u001b[43m.\u001b[49m\u001b[43mget\u001b[49m\u001b[43m(\u001b[49m\u001b[33;43m\"\u001b[39;49m\u001b[33;43mencoding_errors\u001b[39;49m\u001b[33;43m\"\u001b[39;49m\u001b[43m,\u001b[49m\u001b[43m \u001b[49m\u001b[33;43m\"\u001b[39;49m\u001b[33;43mstrict\u001b[39;49m\u001b[33;43m\"\u001b[39;49m\u001b[43m)\u001b[49m\u001b[43m,\u001b[49m\n\u001b[32m   1888\u001b[39m \u001b[43m    \u001b[49m\u001b[43mstorage_options\u001b[49m\u001b[43m=\u001b[49m\u001b[38;5;28;43mself\u001b[39;49m\u001b[43m.\u001b[49m\u001b[43moptions\u001b[49m\u001b[43m.\u001b[49m\u001b[43mget\u001b[49m\u001b[43m(\u001b[49m\u001b[33;43m\"\u001b[39;49m\u001b[33;43mstorage_options\u001b[39;49m\u001b[33;43m\"\u001b[39;49m\u001b[43m,\u001b[49m\u001b[43m \u001b[49m\u001b[38;5;28;43;01mNone\u001b[39;49;00m\u001b[43m)\u001b[49m\u001b[43m,\u001b[49m\n\u001b[32m   1889\u001b[39m \u001b[43m\u001b[49m\u001b[43m)\u001b[49m\n\u001b[32m   1890\u001b[39m \u001b[38;5;28;01massert\u001b[39;00m \u001b[38;5;28mself\u001b[39m.handles \u001b[38;5;129;01mis\u001b[39;00m \u001b[38;5;129;01mnot\u001b[39;00m \u001b[38;5;28;01mNone\u001b[39;00m\n\u001b[32m   1891\u001b[39m f = \u001b[38;5;28mself\u001b[39m.handles.handle\n",
      "\u001b[36mFile \u001b[39m\u001b[32m~\\AppData\\Roaming\\Python\\Python311\\site-packages\\pandas\\io\\common.py:873\u001b[39m, in \u001b[36mget_handle\u001b[39m\u001b[34m(path_or_buf, mode, encoding, compression, memory_map, is_text, errors, storage_options)\u001b[39m\n\u001b[32m    868\u001b[39m \u001b[38;5;28;01melif\u001b[39;00m \u001b[38;5;28misinstance\u001b[39m(handle, \u001b[38;5;28mstr\u001b[39m):\n\u001b[32m    869\u001b[39m     \u001b[38;5;66;03m# Check whether the filename is to be opened in binary mode.\u001b[39;00m\n\u001b[32m    870\u001b[39m     \u001b[38;5;66;03m# Binary mode does not support 'encoding' and 'newline'.\u001b[39;00m\n\u001b[32m    871\u001b[39m     \u001b[38;5;28;01mif\u001b[39;00m ioargs.encoding \u001b[38;5;129;01mand\u001b[39;00m \u001b[33m\"\u001b[39m\u001b[33mb\u001b[39m\u001b[33m\"\u001b[39m \u001b[38;5;129;01mnot\u001b[39;00m \u001b[38;5;129;01min\u001b[39;00m ioargs.mode:\n\u001b[32m    872\u001b[39m         \u001b[38;5;66;03m# Encoding\u001b[39;00m\n\u001b[32m--> \u001b[39m\u001b[32m873\u001b[39m         handle = \u001b[38;5;28;43mopen\u001b[39;49m\u001b[43m(\u001b[49m\n\u001b[32m    874\u001b[39m \u001b[43m            \u001b[49m\u001b[43mhandle\u001b[49m\u001b[43m,\u001b[49m\n\u001b[32m    875\u001b[39m \u001b[43m            \u001b[49m\u001b[43mioargs\u001b[49m\u001b[43m.\u001b[49m\u001b[43mmode\u001b[49m\u001b[43m,\u001b[49m\n\u001b[32m    876\u001b[39m \u001b[43m            \u001b[49m\u001b[43mencoding\u001b[49m\u001b[43m=\u001b[49m\u001b[43mioargs\u001b[49m\u001b[43m.\u001b[49m\u001b[43mencoding\u001b[49m\u001b[43m,\u001b[49m\n\u001b[32m    877\u001b[39m \u001b[43m            \u001b[49m\u001b[43merrors\u001b[49m\u001b[43m=\u001b[49m\u001b[43merrors\u001b[49m\u001b[43m,\u001b[49m\n\u001b[32m    878\u001b[39m \u001b[43m            \u001b[49m\u001b[43mnewline\u001b[49m\u001b[43m=\u001b[49m\u001b[33;43m\"\u001b[39;49m\u001b[33;43m\"\u001b[39;49m\u001b[43m,\u001b[49m\n\u001b[32m    879\u001b[39m \u001b[43m        \u001b[49m\u001b[43m)\u001b[49m\n\u001b[32m    880\u001b[39m     \u001b[38;5;28;01melse\u001b[39;00m:\n\u001b[32m    881\u001b[39m         \u001b[38;5;66;03m# Binary mode\u001b[39;00m\n\u001b[32m    882\u001b[39m         handle = \u001b[38;5;28mopen\u001b[39m(handle, ioargs.mode)\n",
      "\u001b[31mFileNotFoundError\u001b[39m: [Errno 2] No such file or directory: '../data/orders.csv'"
     ]
    }
   ],
   "source": [
    "# Cargar los datos\n",
    "orders = pd.read_csv('../data/orders.csv')\n",
    "order_products_prior = pd.read_csv('../data/order_products__prior.csv')\n",
    "products = pd.read_csv('../data/products.csv')\n",
    "aisles = pd.read_csv('../data/aisles.csv')\n",
    "departments = pd.read_csv('../data/departments.csv')"
   ]
  },
  {
   "cell_type": "markdown",
   "id": "a3608595",
   "metadata": {},
   "source": [
    "Diccionario para añadir imágenes a mi dataframe basado en cada una de las categorías de producto de Instacart"
   ]
  },
  {
   "cell_type": "code",
   "execution_count": null,
   "id": "ad8735fa",
   "metadata": {},
   "outputs": [],
   "source": [
    "department_image_urls = {\n",
    "    'frozen': 'https://img.freepik.com/vector-premium/ilustracion-vectorial-fusion-cristales-cuadrados-azules_1137529-31387.jpg',\n",
    "    'other': 'https://image.freepik.com/vector-gratis/ilustracion-caja-carton_75817-966.jpg',\n",
    "    'bakery': 'https://thumbs.dreamstime.com/b/watercolor-croissant-isolated-illustration-ai-generative-watercolor-croissant-isolated-illustration-generative-ai-283649230.jpg',\n",
    "    'produce': 'https://img.freepik.com/vector-premium/ilustracion-brocoli-color-plano-dibujado-mano_614983-6508.jpg',\n",
    "    'alcohol': 'https://img.freepik.com/vector-premium/tres-copas-cristal-vino-champan-cerveza-sobre-fondo-blanco_444390-16104.jpg',\n",
    "    'international': 'https://static.vecteezy.com/system/resources/thumbnails/004/218/748/small_2x/world-planet-earth-ecology-icon-free-vector.jpg',\n",
    "    'beverages': 'https://static.vecteezy.com/system/resources/previews/014/369/640/non_2x/green-pear-juice-glass-icon-cartoon-style-vector.jpg',\n",
    "    'pets': 'https://img.freepik.com/vector-premium/lindo-perro-gato-amigo-dibujos-animados-vector-icono-ilustracion-animal-naturaleza-icono-concepto-aislado-plano_138676-4548.jpg?w=740',\n",
    "    'dry goods pasta': 'https://img.freepik.com/premium-vector/red-bowl-filled-with-noodles-tomatoes_410516-77329.jpg',\n",
    "    'bulk': 'https://www.creativefabrica.com/wp-content/uploads/2023/05/31/Grain-sack-Farm-crop-harvest-Wheat-or-Graphics-71021750-1.png',\n",
    "    'personal care': 'https://img.freepik.com/vector-premium/vector-ilustracion-plana-par-cepillos-dientes_574806-756.jpg',\n",
    "    'meat seafood': 'https://static.vecteezy.com/system/resources/previews/047/725/889/non_2x/illustration-of-meat-vector.jpg',\n",
    "    'pantry': 'https://static.vecteezy.com/system/resources/previews/013/509/617/original/salt-cellar-illustration-on-white-background-free-vector.jpg',\n",
    "    'breakfast': 'https://img.freepik.com/vector-premium/cafe-llevar-croissant-vector-icono-vector_951778-96844.jpg',\n",
    "    'canned goods': 'https://th.bing.com/th/id/OIP.Uy-u6waKXr6SDzyLUMJbygHaHa?cb=iwp2&rs=1&pid=ImgDetMain',\n",
    "    'dairy eggs': 'https://img.freepik.com/vector-premium/vector-of-three-stacked-oranges-isolated-on-white-background_410516-85251.jpg',\n",
    "    'household': 'https://img.freepik.com/vector-premium/vector-icono-gratis-papel-higienico-rollo-tejido_777568-1121.jpg',\n",
    "    'babies': 'https://th.bing.com/th/id/OIP.vI6tU6ie1vvGuBHWhef34wHaHa?cb=iwp2&rs=1&pid=ImgDetMain',\n",
    "    'snacks': 'https://static.vecteezy.com/system/resources/previews/011/188/971/original/snack-chips-bag-plastic-packaging-design-illustration-icon-for-food-and-beverage-business-potato-snack-branding-element-logo-vector.jpg',\n",
    "    'deli': 'https://img.freepik.com/fotos-premium/ilustracion-queso-2d-diseno-dibujos-animados_826849-2349.jpg?w=2000',\n",
    "    'missing': 'https://robohash.org/missing2'  \n",
    "}"
   ]
  },
  {
   "cell_type": "code",
   "execution_count": null,
   "id": "5d16b70a",
   "metadata": {},
   "outputs": [
    {
     "data": {
      "application/vnd.microsoft.datawrangler.viewer.v0+json": {
       "columns": [
        {
         "name": "index",
         "rawType": "int64",
         "type": "integer"
        },
        {
         "name": "department_id",
         "rawType": "int64",
         "type": "integer"
        },
        {
         "name": "department",
         "rawType": "object",
         "type": "string"
        },
        {
         "name": "image_url",
         "rawType": "object",
         "type": "string"
        }
       ],
       "conversionMethod": "pd.DataFrame",
       "ref": "867eea80-2328-4e34-b13f-045b5fcef8c5",
       "rows": [
        [
         "0",
         "1",
         "frozen",
         "https://img.freepik.com/vector-premium/ilustracion-vectorial-fusion-cristales-cuadrados-azules_1137529-31387.jpg"
        ],
        [
         "1",
         "2",
         "other",
         "https://image.freepik.com/vector-gratis/ilustracion-caja-carton_75817-966.jpg"
        ],
        [
         "2",
         "3",
         "bakery",
         "https://thumbs.dreamstime.com/b/watercolor-croissant-isolated-illustration-ai-generative-watercolor-croissant-isolated-illustration-generative-ai-283649230.jpg"
        ],
        [
         "3",
         "4",
         "produce",
         "https://img.freepik.com/vector-premium/ilustracion-brocoli-color-plano-dibujado-mano_614983-6508.jpg"
        ],
        [
         "4",
         "5",
         "alcohol",
         "https://img.freepik.com/vector-premium/tres-copas-cristal-vino-champan-cerveza-sobre-fondo-blanco_444390-16104.jpg"
        ],
        [
         "5",
         "6",
         "international",
         "https://static.vecteezy.com/system/resources/thumbnails/004/218/748/small_2x/world-planet-earth-ecology-icon-free-vector.jpg"
        ],
        [
         "6",
         "7",
         "beverages",
         "https://static.vecteezy.com/system/resources/previews/014/369/640/non_2x/green-pear-juice-glass-icon-cartoon-style-vector.jpg"
        ],
        [
         "7",
         "8",
         "pets",
         "https://img.freepik.com/vector-premium/lindo-perro-gato-amigo-dibujos-animados-vector-icono-ilustracion-animal-naturaleza-icono-concepto-aislado-plano_138676-4548.jpg?w=740"
        ],
        [
         "8",
         "9",
         "dry goods pasta",
         "https://img.freepik.com/premium-vector/red-bowl-filled-with-noodles-tomatoes_410516-77329.jpg"
        ],
        [
         "9",
         "10",
         "bulk",
         "https://www.creativefabrica.com/wp-content/uploads/2023/05/31/Grain-sack-Farm-crop-harvest-Wheat-or-Graphics-71021750-1.png"
        ],
        [
         "10",
         "11",
         "personal care",
         "https://img.freepik.com/vector-premium/vector-ilustracion-plana-par-cepillos-dientes_574806-756.jpg"
        ],
        [
         "11",
         "12",
         "meat seafood",
         "https://static.vecteezy.com/system/resources/previews/047/725/889/non_2x/illustration-of-meat-vector.jpg"
        ],
        [
         "12",
         "13",
         "pantry",
         "https://static.vecteezy.com/system/resources/previews/013/509/617/original/salt-cellar-illustration-on-white-background-free-vector.jpg"
        ],
        [
         "13",
         "14",
         "breakfast",
         "https://img.freepik.com/vector-premium/cafe-llevar-croissant-vector-icono-vector_951778-96844.jpg"
        ],
        [
         "14",
         "15",
         "canned goods",
         "https://th.bing.com/th/id/OIP.Uy-u6waKXr6SDzyLUMJbygHaHa?cb=iwp2&rs=1&pid=ImgDetMain"
        ],
        [
         "15",
         "16",
         "dairy eggs",
         "https://img.freepik.com/vector-premium/vector-of-three-stacked-oranges-isolated-on-white-background_410516-85251.jpg"
        ],
        [
         "16",
         "17",
         "household",
         "https://img.freepik.com/vector-premium/vector-icono-gratis-papel-higienico-rollo-tejido_777568-1121.jpg"
        ],
        [
         "17",
         "18",
         "babies",
         "https://th.bing.com/th/id/OIP.vI6tU6ie1vvGuBHWhef34wHaHa?cb=iwp2&rs=1&pid=ImgDetMain"
        ],
        [
         "18",
         "19",
         "snacks",
         "https://static.vecteezy.com/system/resources/previews/011/188/971/original/snack-chips-bag-plastic-packaging-design-illustration-icon-for-food-and-beverage-business-potato-snack-branding-element-logo-vector.jpg"
        ],
        [
         "19",
         "20",
         "deli",
         "https://img.freepik.com/fotos-premium/ilustracion-queso-2d-diseno-dibujos-animados_826849-2349.jpg?w=2000"
        ],
        [
         "20",
         "21",
         "missing",
         "https://robohash.org/missing2"
        ]
       ],
       "shape": {
        "columns": 3,
        "rows": 21
       }
      },
      "text/html": [
       "<div>\n",
       "<style scoped>\n",
       "    .dataframe tbody tr th:only-of-type {\n",
       "        vertical-align: middle;\n",
       "    }\n",
       "\n",
       "    .dataframe tbody tr th {\n",
       "        vertical-align: top;\n",
       "    }\n",
       "\n",
       "    .dataframe thead th {\n",
       "        text-align: right;\n",
       "    }\n",
       "</style>\n",
       "<table border=\"1\" class=\"dataframe\">\n",
       "  <thead>\n",
       "    <tr style=\"text-align: right;\">\n",
       "      <th></th>\n",
       "      <th>department_id</th>\n",
       "      <th>department</th>\n",
       "      <th>image_url</th>\n",
       "    </tr>\n",
       "  </thead>\n",
       "  <tbody>\n",
       "    <tr>\n",
       "      <th>0</th>\n",
       "      <td>1</td>\n",
       "      <td>frozen</td>\n",
       "      <td>https://img.freepik.com/vector-premium/ilustra...</td>\n",
       "    </tr>\n",
       "    <tr>\n",
       "      <th>1</th>\n",
       "      <td>2</td>\n",
       "      <td>other</td>\n",
       "      <td>https://image.freepik.com/vector-gratis/ilustr...</td>\n",
       "    </tr>\n",
       "    <tr>\n",
       "      <th>2</th>\n",
       "      <td>3</td>\n",
       "      <td>bakery</td>\n",
       "      <td>https://thumbs.dreamstime.com/b/watercolor-cro...</td>\n",
       "    </tr>\n",
       "    <tr>\n",
       "      <th>3</th>\n",
       "      <td>4</td>\n",
       "      <td>produce</td>\n",
       "      <td>https://img.freepik.com/vector-premium/ilustra...</td>\n",
       "    </tr>\n",
       "    <tr>\n",
       "      <th>4</th>\n",
       "      <td>5</td>\n",
       "      <td>alcohol</td>\n",
       "      <td>https://img.freepik.com/vector-premium/tres-co...</td>\n",
       "    </tr>\n",
       "    <tr>\n",
       "      <th>5</th>\n",
       "      <td>6</td>\n",
       "      <td>international</td>\n",
       "      <td>https://static.vecteezy.com/system/resources/t...</td>\n",
       "    </tr>\n",
       "    <tr>\n",
       "      <th>6</th>\n",
       "      <td>7</td>\n",
       "      <td>beverages</td>\n",
       "      <td>https://static.vecteezy.com/system/resources/p...</td>\n",
       "    </tr>\n",
       "    <tr>\n",
       "      <th>7</th>\n",
       "      <td>8</td>\n",
       "      <td>pets</td>\n",
       "      <td>https://img.freepik.com/vector-premium/lindo-p...</td>\n",
       "    </tr>\n",
       "    <tr>\n",
       "      <th>8</th>\n",
       "      <td>9</td>\n",
       "      <td>dry goods pasta</td>\n",
       "      <td>https://img.freepik.com/premium-vector/red-bow...</td>\n",
       "    </tr>\n",
       "    <tr>\n",
       "      <th>9</th>\n",
       "      <td>10</td>\n",
       "      <td>bulk</td>\n",
       "      <td>https://www.creativefabrica.com/wp-content/upl...</td>\n",
       "    </tr>\n",
       "    <tr>\n",
       "      <th>10</th>\n",
       "      <td>11</td>\n",
       "      <td>personal care</td>\n",
       "      <td>https://img.freepik.com/vector-premium/vector-...</td>\n",
       "    </tr>\n",
       "    <tr>\n",
       "      <th>11</th>\n",
       "      <td>12</td>\n",
       "      <td>meat seafood</td>\n",
       "      <td>https://static.vecteezy.com/system/resources/p...</td>\n",
       "    </tr>\n",
       "    <tr>\n",
       "      <th>12</th>\n",
       "      <td>13</td>\n",
       "      <td>pantry</td>\n",
       "      <td>https://static.vecteezy.com/system/resources/p...</td>\n",
       "    </tr>\n",
       "    <tr>\n",
       "      <th>13</th>\n",
       "      <td>14</td>\n",
       "      <td>breakfast</td>\n",
       "      <td>https://img.freepik.com/vector-premium/cafe-ll...</td>\n",
       "    </tr>\n",
       "    <tr>\n",
       "      <th>14</th>\n",
       "      <td>15</td>\n",
       "      <td>canned goods</td>\n",
       "      <td>https://th.bing.com/th/id/OIP.Uy-u6waKXr6SDzyL...</td>\n",
       "    </tr>\n",
       "    <tr>\n",
       "      <th>15</th>\n",
       "      <td>16</td>\n",
       "      <td>dairy eggs</td>\n",
       "      <td>https://img.freepik.com/vector-premium/vector-...</td>\n",
       "    </tr>\n",
       "    <tr>\n",
       "      <th>16</th>\n",
       "      <td>17</td>\n",
       "      <td>household</td>\n",
       "      <td>https://img.freepik.com/vector-premium/vector-...</td>\n",
       "    </tr>\n",
       "    <tr>\n",
       "      <th>17</th>\n",
       "      <td>18</td>\n",
       "      <td>babies</td>\n",
       "      <td>https://th.bing.com/th/id/OIP.vI6tU6ie1vvGuBHW...</td>\n",
       "    </tr>\n",
       "    <tr>\n",
       "      <th>18</th>\n",
       "      <td>19</td>\n",
       "      <td>snacks</td>\n",
       "      <td>https://static.vecteezy.com/system/resources/p...</td>\n",
       "    </tr>\n",
       "    <tr>\n",
       "      <th>19</th>\n",
       "      <td>20</td>\n",
       "      <td>deli</td>\n",
       "      <td>https://img.freepik.com/fotos-premium/ilustrac...</td>\n",
       "    </tr>\n",
       "    <tr>\n",
       "      <th>20</th>\n",
       "      <td>21</td>\n",
       "      <td>missing</td>\n",
       "      <td>https://robohash.org/missing2</td>\n",
       "    </tr>\n",
       "  </tbody>\n",
       "</table>\n",
       "</div>"
      ],
      "text/plain": [
       "    department_id       department  \\\n",
       "0               1           frozen   \n",
       "1               2            other   \n",
       "2               3           bakery   \n",
       "3               4          produce   \n",
       "4               5          alcohol   \n",
       "5               6    international   \n",
       "6               7        beverages   \n",
       "7               8             pets   \n",
       "8               9  dry goods pasta   \n",
       "9              10             bulk   \n",
       "10             11    personal care   \n",
       "11             12     meat seafood   \n",
       "12             13           pantry   \n",
       "13             14        breakfast   \n",
       "14             15     canned goods   \n",
       "15             16       dairy eggs   \n",
       "16             17        household   \n",
       "17             18           babies   \n",
       "18             19           snacks   \n",
       "19             20             deli   \n",
       "20             21          missing   \n",
       "\n",
       "                                            image_url  \n",
       "0   https://img.freepik.com/vector-premium/ilustra...  \n",
       "1   https://image.freepik.com/vector-gratis/ilustr...  \n",
       "2   https://thumbs.dreamstime.com/b/watercolor-cro...  \n",
       "3   https://img.freepik.com/vector-premium/ilustra...  \n",
       "4   https://img.freepik.com/vector-premium/tres-co...  \n",
       "5   https://static.vecteezy.com/system/resources/t...  \n",
       "6   https://static.vecteezy.com/system/resources/p...  \n",
       "7   https://img.freepik.com/vector-premium/lindo-p...  \n",
       "8   https://img.freepik.com/premium-vector/red-bow...  \n",
       "9   https://www.creativefabrica.com/wp-content/upl...  \n",
       "10  https://img.freepik.com/vector-premium/vector-...  \n",
       "11  https://static.vecteezy.com/system/resources/p...  \n",
       "12  https://static.vecteezy.com/system/resources/p...  \n",
       "13  https://img.freepik.com/vector-premium/cafe-ll...  \n",
       "14  https://th.bing.com/th/id/OIP.Uy-u6waKXr6SDzyL...  \n",
       "15  https://img.freepik.com/vector-premium/vector-...  \n",
       "16  https://img.freepik.com/vector-premium/vector-...  \n",
       "17  https://th.bing.com/th/id/OIP.vI6tU6ie1vvGuBHW...  \n",
       "18  https://static.vecteezy.com/system/resources/p...  \n",
       "19  https://img.freepik.com/fotos-premium/ilustrac...  \n",
       "20                      https://robohash.org/missing2  "
      ]
     },
     "execution_count": 22,
     "metadata": {},
     "output_type": "execute_result"
    }
   ],
   "source": [
    "departments['image_url'] = departments['department'].map(department_image_urls)\n",
    "departments\n",
    "#Esto crea una nueva columna image_url que contiene la imagen correspondiente a cada departamento."
   ]
  },
  {
   "cell_type": "markdown",
   "id": "e03e6708",
   "metadata": {},
   "source": [
    "Preparar los datos para un sistema colaborativo basado en usuarios\n",
    "------------------\n"
   ]
  },
  {
   "cell_type": "code",
   "execution_count": null,
   "id": "972ffc57",
   "metadata": {},
   "outputs": [],
   "source": [
    "products = products.merge(departments, on='department_id', how='left')\n",
    "#products['image_url'] = departments['department'].map(department_image_urls)\n"
   ]
  },
  {
   "cell_type": "code",
   "execution_count": null,
   "id": "7ef6afdb",
   "metadata": {},
   "outputs": [
    {
     "data": {
      "application/vnd.microsoft.datawrangler.viewer.v0+json": {
       "columns": [
        {
         "name": "index",
         "rawType": "int64",
         "type": "integer"
        },
        {
         "name": "product_id",
         "rawType": "int64",
         "type": "integer"
        },
        {
         "name": "product_name",
         "rawType": "object",
         "type": "string"
        },
        {
         "name": "aisle_id",
         "rawType": "int64",
         "type": "integer"
        },
        {
         "name": "department_id",
         "rawType": "int64",
         "type": "integer"
        },
        {
         "name": "department",
         "rawType": "object",
         "type": "string"
        },
        {
         "name": "image_url",
         "rawType": "object",
         "type": "string"
        }
       ],
       "conversionMethod": "pd.DataFrame",
       "ref": "423b6665-0a1d-4666-b5c1-451f3f706c80",
       "rows": [
        [
         "0",
         "1",
         "Chocolate Sandwich Cookies",
         "61",
         "19",
         "snacks",
         "https://static.vecteezy.com/system/resources/previews/011/188/971/original/snack-chips-bag-plastic-packaging-design-illustration-icon-for-food-and-beverage-business-potato-snack-branding-element-logo-vector.jpg"
        ],
        [
         "1",
         "2",
         "All-Seasons Salt",
         "104",
         "13",
         "pantry",
         "https://static.vecteezy.com/system/resources/previews/013/509/617/original/salt-cellar-illustration-on-white-background-free-vector.jpg"
        ],
        [
         "2",
         "3",
         "Robust Golden Unsweetened Oolong Tea",
         "94",
         "7",
         "beverages",
         "https://static.vecteezy.com/system/resources/previews/014/369/640/non_2x/green-pear-juice-glass-icon-cartoon-style-vector.jpg"
        ],
        [
         "3",
         "4",
         "Smart Ones Classic Favorites Mini Rigatoni With Vodka Cream Sauce",
         "38",
         "1",
         "frozen",
         "https://img.freepik.com/vector-premium/ilustracion-vectorial-fusion-cristales-cuadrados-azules_1137529-31387.jpg"
        ],
        [
         "4",
         "5",
         "Green Chile Anytime Sauce",
         "5",
         "13",
         "pantry",
         "https://static.vecteezy.com/system/resources/previews/013/509/617/original/salt-cellar-illustration-on-white-background-free-vector.jpg"
        ],
        [
         "5",
         "6",
         "Dry Nose Oil",
         "11",
         "11",
         "personal care",
         "https://img.freepik.com/vector-premium/vector-ilustracion-plana-par-cepillos-dientes_574806-756.jpg"
        ],
        [
         "6",
         "7",
         "Pure Coconut Water With Orange",
         "98",
         "7",
         "beverages",
         "https://static.vecteezy.com/system/resources/previews/014/369/640/non_2x/green-pear-juice-glass-icon-cartoon-style-vector.jpg"
        ],
        [
         "7",
         "8",
         "Cut Russet Potatoes Steam N' Mash",
         "116",
         "1",
         "frozen",
         "https://img.freepik.com/vector-premium/ilustracion-vectorial-fusion-cristales-cuadrados-azules_1137529-31387.jpg"
        ],
        [
         "8",
         "9",
         "Light Strawberry Blueberry Yogurt",
         "120",
         "16",
         "dairy eggs",
         "https://img.freepik.com/vector-premium/vector-of-three-stacked-oranges-isolated-on-white-background_410516-85251.jpg"
        ],
        [
         "9",
         "10",
         "Sparkling Orange Juice & Prickly Pear Beverage",
         "115",
         "7",
         "beverages",
         "https://static.vecteezy.com/system/resources/previews/014/369/640/non_2x/green-pear-juice-glass-icon-cartoon-style-vector.jpg"
        ],
        [
         "10",
         "11",
         "Peach Mango Juice",
         "31",
         "7",
         "beverages",
         "https://static.vecteezy.com/system/resources/previews/014/369/640/non_2x/green-pear-juice-glass-icon-cartoon-style-vector.jpg"
        ],
        [
         "11",
         "12",
         "Chocolate Fudge Layer Cake",
         "119",
         "1",
         "frozen",
         "https://img.freepik.com/vector-premium/ilustracion-vectorial-fusion-cristales-cuadrados-azules_1137529-31387.jpg"
        ],
        [
         "12",
         "13",
         "Saline Nasal Mist",
         "11",
         "11",
         "personal care",
         "https://img.freepik.com/vector-premium/vector-ilustracion-plana-par-cepillos-dientes_574806-756.jpg"
        ],
        [
         "13",
         "14",
         "Fresh Scent Dishwasher Cleaner",
         "74",
         "17",
         "household",
         "https://img.freepik.com/vector-premium/vector-icono-gratis-papel-higienico-rollo-tejido_777568-1121.jpg"
        ],
        [
         "14",
         "15",
         "Overnight Diapers Size 6",
         "56",
         "18",
         "babies",
         "https://th.bing.com/th/id/OIP.vI6tU6ie1vvGuBHWhef34wHaHa?cb=iwp2&rs=1&pid=ImgDetMain"
        ],
        [
         "15",
         "16",
         "Mint Chocolate Flavored Syrup",
         "103",
         "19",
         "snacks",
         "https://static.vecteezy.com/system/resources/previews/011/188/971/original/snack-chips-bag-plastic-packaging-design-illustration-icon-for-food-and-beverage-business-potato-snack-branding-element-logo-vector.jpg"
        ],
        [
         "16",
         "17",
         "Rendered Duck Fat",
         "35",
         "12",
         "meat seafood",
         "https://static.vecteezy.com/system/resources/previews/047/725/889/non_2x/illustration-of-meat-vector.jpg"
        ],
        [
         "17",
         "18",
         "Pizza for One Suprema  Frozen Pizza",
         "79",
         "1",
         "frozen",
         "https://img.freepik.com/vector-premium/ilustracion-vectorial-fusion-cristales-cuadrados-azules_1137529-31387.jpg"
        ],
        [
         "18",
         "19",
         "Gluten Free Quinoa Three Cheese & Mushroom Blend",
         "63",
         "9",
         "dry goods pasta",
         "https://img.freepik.com/premium-vector/red-bowl-filled-with-noodles-tomatoes_410516-77329.jpg"
        ],
        [
         "19",
         "20",
         "Pomegranate Cranberry & Aloe Vera Enrich Drink",
         "98",
         "7",
         "beverages",
         "https://static.vecteezy.com/system/resources/previews/014/369/640/non_2x/green-pear-juice-glass-icon-cartoon-style-vector.jpg"
        ],
        [
         "20",
         "21",
         "Small & Medium Dental Dog Treats",
         "40",
         "8",
         "pets",
         "https://img.freepik.com/vector-premium/lindo-perro-gato-amigo-dibujos-animados-vector-icono-ilustracion-animal-naturaleza-icono-concepto-aislado-plano_138676-4548.jpg?w=740"
        ],
        [
         "21",
         "22",
         "Fresh Breath Oral Rinse Mild Mint",
         "20",
         "11",
         "personal care",
         "https://img.freepik.com/vector-premium/vector-ilustracion-plana-par-cepillos-dientes_574806-756.jpg"
        ],
        [
         "22",
         "23",
         "Organic Turkey Burgers",
         "49",
         "12",
         "meat seafood",
         "https://static.vecteezy.com/system/resources/previews/047/725/889/non_2x/illustration-of-meat-vector.jpg"
        ],
        [
         "23",
         "24",
         "Tri-Vi-Sol® Vitamins A-C-and D Supplement Drops for Infants",
         "47",
         "11",
         "personal care",
         "https://img.freepik.com/vector-premium/vector-ilustracion-plana-par-cepillos-dientes_574806-756.jpg"
        ],
        [
         "24",
         "25",
         "Salted Caramel Lean Protein & Fiber Bar",
         "3",
         "19",
         "snacks",
         "https://static.vecteezy.com/system/resources/previews/011/188/971/original/snack-chips-bag-plastic-packaging-design-illustration-icon-for-food-and-beverage-business-potato-snack-branding-element-logo-vector.jpg"
        ],
        [
         "25",
         "26",
         "Fancy Feast Trout Feast Flaked Wet Cat Food",
         "41",
         "8",
         "pets",
         "https://img.freepik.com/vector-premium/lindo-perro-gato-amigo-dibujos-animados-vector-icono-ilustracion-animal-naturaleza-icono-concepto-aislado-plano_138676-4548.jpg?w=740"
        ],
        [
         "26",
         "27",
         "Complete Spring Water Foaming Antibacterial Hand Wash",
         "127",
         "11",
         "personal care",
         "https://img.freepik.com/vector-premium/vector-ilustracion-plana-par-cepillos-dientes_574806-756.jpg"
        ],
        [
         "27",
         "28",
         "Wheat Chex Cereal",
         "121",
         "14",
         "breakfast",
         "https://img.freepik.com/vector-premium/cafe-llevar-croissant-vector-icono-vector_951778-96844.jpg"
        ],
        [
         "28",
         "29",
         "Fresh Cut Golden Sweet No Salt Added Whole Kernel Corn",
         "81",
         "15",
         "canned goods",
         "https://th.bing.com/th/id/OIP.Uy-u6waKXr6SDzyLUMJbygHaHa?cb=iwp2&rs=1&pid=ImgDetMain"
        ],
        [
         "29",
         "30",
         "Three Cheese Ziti, Marinara with Meatballs",
         "38",
         "1",
         "frozen",
         "https://img.freepik.com/vector-premium/ilustracion-vectorial-fusion-cristales-cuadrados-azules_1137529-31387.jpg"
        ],
        [
         "30",
         "31",
         "White Pearl Onions",
         "123",
         "4",
         "produce",
         "https://img.freepik.com/vector-premium/ilustracion-brocoli-color-plano-dibujado-mano_614983-6508.jpg"
        ],
        [
         "31",
         "32",
         "Nacho Cheese White Bean Chips",
         "107",
         "19",
         "snacks",
         "https://static.vecteezy.com/system/resources/previews/011/188/971/original/snack-chips-bag-plastic-packaging-design-illustration-icon-for-food-and-beverage-business-potato-snack-branding-element-logo-vector.jpg"
        ],
        [
         "32",
         "33",
         "Organic Spaghetti Style Pasta",
         "131",
         "9",
         "dry goods pasta",
         "https://img.freepik.com/premium-vector/red-bowl-filled-with-noodles-tomatoes_410516-77329.jpg"
        ],
        [
         "33",
         "34",
         "Peanut Butter Cereal",
         "121",
         "14",
         "breakfast",
         "https://img.freepik.com/vector-premium/cafe-llevar-croissant-vector-icono-vector_951778-96844.jpg"
        ],
        [
         "34",
         "35",
         "Italian Herb Porcini Mushrooms Chicken Sausage",
         "106",
         "12",
         "meat seafood",
         "https://static.vecteezy.com/system/resources/previews/047/725/889/non_2x/illustration-of-meat-vector.jpg"
        ],
        [
         "35",
         "36",
         "Traditional Lasagna with Meat Sauce Savory Italian Recipes",
         "38",
         "1",
         "frozen",
         "https://img.freepik.com/vector-premium/ilustracion-vectorial-fusion-cristales-cuadrados-azules_1137529-31387.jpg"
        ],
        [
         "36",
         "37",
         "Noodle Soup Mix With Chicken Broth",
         "69",
         "15",
         "canned goods",
         "https://th.bing.com/th/id/OIP.Uy-u6waKXr6SDzyLUMJbygHaHa?cb=iwp2&rs=1&pid=ImgDetMain"
        ],
        [
         "37",
         "38",
         "Ultra Antibacterial Dish Liquid",
         "100",
         "21",
         "missing",
         "https://robohash.org/missing2"
        ],
        [
         "38",
         "39",
         "Daily Tangerine Citrus Flavored Beverage",
         "64",
         "7",
         "beverages",
         "https://static.vecteezy.com/system/resources/previews/014/369/640/non_2x/green-pear-juice-glass-icon-cartoon-style-vector.jpg"
        ],
        [
         "39",
         "40",
         "Beef Hot Links Beef Smoked Sausage With Chile Peppers",
         "106",
         "12",
         "meat seafood",
         "https://static.vecteezy.com/system/resources/previews/047/725/889/non_2x/illustration-of-meat-vector.jpg"
        ],
        [
         "40",
         "41",
         "Organic Sourdough Einkorn Crackers Rosemary",
         "78",
         "19",
         "snacks",
         "https://static.vecteezy.com/system/resources/previews/011/188/971/original/snack-chips-bag-plastic-packaging-design-illustration-icon-for-food-and-beverage-business-potato-snack-branding-element-logo-vector.jpg"
        ],
        [
         "41",
         "42",
         "Biotin 1000 mcg",
         "47",
         "11",
         "personal care",
         "https://img.freepik.com/vector-premium/vector-ilustracion-plana-par-cepillos-dientes_574806-756.jpg"
        ],
        [
         "42",
         "43",
         "Organic Clementines",
         "123",
         "4",
         "produce",
         "https://img.freepik.com/vector-premium/ilustracion-brocoli-color-plano-dibujado-mano_614983-6508.jpg"
        ],
        [
         "43",
         "44",
         "Sparkling Raspberry Seltzer",
         "115",
         "7",
         "beverages",
         "https://static.vecteezy.com/system/resources/previews/014/369/640/non_2x/green-pear-juice-glass-icon-cartoon-style-vector.jpg"
        ],
        [
         "44",
         "45",
         "European Cucumber",
         "83",
         "4",
         "produce",
         "https://img.freepik.com/vector-premium/ilustracion-brocoli-color-plano-dibujado-mano_614983-6508.jpg"
        ],
        [
         "45",
         "46",
         "Raisin Cinnamon Bagels 5 count",
         "58",
         "1",
         "frozen",
         "https://img.freepik.com/vector-premium/ilustracion-vectorial-fusion-cristales-cuadrados-azules_1137529-31387.jpg"
        ],
        [
         "46",
         "47",
         "Onion Flavor Organic Roasted Seaweed Snack",
         "66",
         "6",
         "international",
         "https://static.vecteezy.com/system/resources/thumbnails/004/218/748/small_2x/world-planet-earth-ecology-icon-free-vector.jpg"
        ],
        [
         "47",
         "48",
         "School Glue, Washable, No Run",
         "87",
         "17",
         "household",
         "https://img.freepik.com/vector-premium/vector-icono-gratis-papel-higienico-rollo-tejido_777568-1121.jpg"
        ],
        [
         "48",
         "49",
         "Vegetarian Grain Meat Sausages Italian - 4 CT",
         "14",
         "20",
         "deli",
         "https://img.freepik.com/fotos-premium/ilustracion-queso-2d-diseno-dibujos-animados_826849-2349.jpg?w=2000"
        ],
        [
         "49",
         "50",
         "Pumpkin Muffin Mix",
         "105",
         "13",
         "pantry",
         "https://static.vecteezy.com/system/resources/previews/013/509/617/original/salt-cellar-illustration-on-white-background-free-vector.jpg"
        ]
       ],
       "shape": {
        "columns": 6,
        "rows": 49688
       }
      },
      "text/html": [
       "<div>\n",
       "<style scoped>\n",
       "    .dataframe tbody tr th:only-of-type {\n",
       "        vertical-align: middle;\n",
       "    }\n",
       "\n",
       "    .dataframe tbody tr th {\n",
       "        vertical-align: top;\n",
       "    }\n",
       "\n",
       "    .dataframe thead th {\n",
       "        text-align: right;\n",
       "    }\n",
       "</style>\n",
       "<table border=\"1\" class=\"dataframe\">\n",
       "  <thead>\n",
       "    <tr style=\"text-align: right;\">\n",
       "      <th></th>\n",
       "      <th>product_id</th>\n",
       "      <th>product_name</th>\n",
       "      <th>aisle_id</th>\n",
       "      <th>department_id</th>\n",
       "      <th>department</th>\n",
       "      <th>image_url</th>\n",
       "    </tr>\n",
       "  </thead>\n",
       "  <tbody>\n",
       "    <tr>\n",
       "      <th>0</th>\n",
       "      <td>1</td>\n",
       "      <td>Chocolate Sandwich Cookies</td>\n",
       "      <td>61</td>\n",
       "      <td>19</td>\n",
       "      <td>snacks</td>\n",
       "      <td>https://static.vecteezy.com/system/resources/p...</td>\n",
       "    </tr>\n",
       "    <tr>\n",
       "      <th>1</th>\n",
       "      <td>2</td>\n",
       "      <td>All-Seasons Salt</td>\n",
       "      <td>104</td>\n",
       "      <td>13</td>\n",
       "      <td>pantry</td>\n",
       "      <td>https://static.vecteezy.com/system/resources/p...</td>\n",
       "    </tr>\n",
       "    <tr>\n",
       "      <th>2</th>\n",
       "      <td>3</td>\n",
       "      <td>Robust Golden Unsweetened Oolong Tea</td>\n",
       "      <td>94</td>\n",
       "      <td>7</td>\n",
       "      <td>beverages</td>\n",
       "      <td>https://static.vecteezy.com/system/resources/p...</td>\n",
       "    </tr>\n",
       "    <tr>\n",
       "      <th>3</th>\n",
       "      <td>4</td>\n",
       "      <td>Smart Ones Classic Favorites Mini Rigatoni Wit...</td>\n",
       "      <td>38</td>\n",
       "      <td>1</td>\n",
       "      <td>frozen</td>\n",
       "      <td>https://img.freepik.com/vector-premium/ilustra...</td>\n",
       "    </tr>\n",
       "    <tr>\n",
       "      <th>4</th>\n",
       "      <td>5</td>\n",
       "      <td>Green Chile Anytime Sauce</td>\n",
       "      <td>5</td>\n",
       "      <td>13</td>\n",
       "      <td>pantry</td>\n",
       "      <td>https://static.vecteezy.com/system/resources/p...</td>\n",
       "    </tr>\n",
       "    <tr>\n",
       "      <th>...</th>\n",
       "      <td>...</td>\n",
       "      <td>...</td>\n",
       "      <td>...</td>\n",
       "      <td>...</td>\n",
       "      <td>...</td>\n",
       "      <td>...</td>\n",
       "    </tr>\n",
       "    <tr>\n",
       "      <th>49683</th>\n",
       "      <td>49684</td>\n",
       "      <td>Vodka, Triple Distilled, Twist of Vanilla</td>\n",
       "      <td>124</td>\n",
       "      <td>5</td>\n",
       "      <td>alcohol</td>\n",
       "      <td>https://img.freepik.com/vector-premium/tres-co...</td>\n",
       "    </tr>\n",
       "    <tr>\n",
       "      <th>49684</th>\n",
       "      <td>49685</td>\n",
       "      <td>En Croute Roast Hazelnut Cranberry</td>\n",
       "      <td>42</td>\n",
       "      <td>1</td>\n",
       "      <td>frozen</td>\n",
       "      <td>https://img.freepik.com/vector-premium/ilustra...</td>\n",
       "    </tr>\n",
       "    <tr>\n",
       "      <th>49685</th>\n",
       "      <td>49686</td>\n",
       "      <td>Artisan Baguette</td>\n",
       "      <td>112</td>\n",
       "      <td>3</td>\n",
       "      <td>bakery</td>\n",
       "      <td>https://thumbs.dreamstime.com/b/watercolor-cro...</td>\n",
       "    </tr>\n",
       "    <tr>\n",
       "      <th>49686</th>\n",
       "      <td>49687</td>\n",
       "      <td>Smartblend Healthy Metabolism Dry Cat Food</td>\n",
       "      <td>41</td>\n",
       "      <td>8</td>\n",
       "      <td>pets</td>\n",
       "      <td>https://img.freepik.com/vector-premium/lindo-p...</td>\n",
       "    </tr>\n",
       "    <tr>\n",
       "      <th>49687</th>\n",
       "      <td>49688</td>\n",
       "      <td>Fresh Foaming Cleanser</td>\n",
       "      <td>73</td>\n",
       "      <td>11</td>\n",
       "      <td>personal care</td>\n",
       "      <td>https://img.freepik.com/vector-premium/vector-...</td>\n",
       "    </tr>\n",
       "  </tbody>\n",
       "</table>\n",
       "<p>49688 rows × 6 columns</p>\n",
       "</div>"
      ],
      "text/plain": [
       "       product_id                                       product_name  \\\n",
       "0               1                         Chocolate Sandwich Cookies   \n",
       "1               2                                   All-Seasons Salt   \n",
       "2               3               Robust Golden Unsweetened Oolong Tea   \n",
       "3               4  Smart Ones Classic Favorites Mini Rigatoni Wit...   \n",
       "4               5                          Green Chile Anytime Sauce   \n",
       "...           ...                                                ...   \n",
       "49683       49684          Vodka, Triple Distilled, Twist of Vanilla   \n",
       "49684       49685                 En Croute Roast Hazelnut Cranberry   \n",
       "49685       49686                                   Artisan Baguette   \n",
       "49686       49687         Smartblend Healthy Metabolism Dry Cat Food   \n",
       "49687       49688                             Fresh Foaming Cleanser   \n",
       "\n",
       "       aisle_id  department_id     department  \\\n",
       "0            61             19         snacks   \n",
       "1           104             13         pantry   \n",
       "2            94              7      beverages   \n",
       "3            38              1         frozen   \n",
       "4             5             13         pantry   \n",
       "...         ...            ...            ...   \n",
       "49683       124              5        alcohol   \n",
       "49684        42              1         frozen   \n",
       "49685       112              3         bakery   \n",
       "49686        41              8           pets   \n",
       "49687        73             11  personal care   \n",
       "\n",
       "                                               image_url  \n",
       "0      https://static.vecteezy.com/system/resources/p...  \n",
       "1      https://static.vecteezy.com/system/resources/p...  \n",
       "2      https://static.vecteezy.com/system/resources/p...  \n",
       "3      https://img.freepik.com/vector-premium/ilustra...  \n",
       "4      https://static.vecteezy.com/system/resources/p...  \n",
       "...                                                  ...  \n",
       "49683  https://img.freepik.com/vector-premium/tres-co...  \n",
       "49684  https://img.freepik.com/vector-premium/ilustra...  \n",
       "49685  https://thumbs.dreamstime.com/b/watercolor-cro...  \n",
       "49686  https://img.freepik.com/vector-premium/lindo-p...  \n",
       "49687  https://img.freepik.com/vector-premium/vector-...  \n",
       "\n",
       "[49688 rows x 6 columns]"
      ]
     },
     "execution_count": 24,
     "metadata": {},
     "output_type": "execute_result"
    }
   ],
   "source": [
    "products"
   ]
  },
  {
   "cell_type": "code",
   "execution_count": null,
   "id": "25452c74",
   "metadata": {},
   "outputs": [],
   "source": [
    "'''\n",
    "Usamos eval_set == 'prior' porque en el dataset de Instacart, la columna eval_set indica a qué conjunto de datos pertenece cada pedido. Tiene 3 valores posibles:\n",
    "| `eval_set` | Significado                                                                                 |\n",
    "| ---------- | ------------------------------------------------------------------------------------------- |\n",
    "| `'prior'`  | Pedidos **anteriores**, usados para entrenamiento. Contienen historial completo de compras. |\n",
    "| `'train'`  | El último pedido de algunos usuarios, usado como etiqueta para entrenamiento.               |\n",
    "| `'test'`   | El último pedido de otros usuarios, sin productos (para predicción).                        |\n",
    "¿Por qué usamos solo prior?\n",
    "Porque estamos haciendo un modelo colaborativo basado en usuarios, y para eso necesitamos el historial de compras completo, es decir, los productos que los usuarios compraron anteriormente.\n",
    "Los pedidos en eval_set == 'prior' representan todo el historial de compras antes del último pedido de cada usuario, y es lo que realmente te permite aprender los patrones de comportamiento.\n",
    "Los pedidos en 'train' y 'test' los dejamos para más adelante, cuando queramos evaluar o predecir.\n",
    "'''\n",
    "# 1. Filtra solo los pedidos 'prior'\n",
    "prior_orders = orders[orders['eval_set'] == 'prior']\n"
   ]
  },
  {
   "cell_type": "code",
   "execution_count": null,
   "id": "0692460b",
   "metadata": {},
   "outputs": [
    {
     "data": {
      "application/vnd.microsoft.datawrangler.viewer.v0+json": {
       "columns": [
        {
         "name": "index",
         "rawType": "int64",
         "type": "integer"
        },
        {
         "name": "order_id",
         "rawType": "int64",
         "type": "integer"
        },
        {
         "name": "user_id",
         "rawType": "int64",
         "type": "integer"
        },
        {
         "name": "eval_set",
         "rawType": "object",
         "type": "string"
        },
        {
         "name": "order_number",
         "rawType": "int64",
         "type": "integer"
        },
        {
         "name": "order_dow",
         "rawType": "int64",
         "type": "integer"
        },
        {
         "name": "order_hour_of_day",
         "rawType": "int64",
         "type": "integer"
        },
        {
         "name": "days_since_prior_order",
         "rawType": "float64",
         "type": "float"
        }
       ],
       "conversionMethod": "pd.DataFrame",
       "ref": "92055af4-3d7d-446e-82e1-e3a25e4d4803",
       "rows": [
        [
         "0",
         "2539329",
         "1",
         "prior",
         "1",
         "2",
         "8",
         null
        ],
        [
         "1",
         "2398795",
         "1",
         "prior",
         "2",
         "3",
         "7",
         "15.0"
        ],
        [
         "2",
         "473747",
         "1",
         "prior",
         "3",
         "3",
         "12",
         "21.0"
        ],
        [
         "3",
         "2254736",
         "1",
         "prior",
         "4",
         "4",
         "7",
         "29.0"
        ],
        [
         "4",
         "431534",
         "1",
         "prior",
         "5",
         "4",
         "15",
         "28.0"
        ],
        [
         "5",
         "3367565",
         "1",
         "prior",
         "6",
         "2",
         "7",
         "19.0"
        ],
        [
         "6",
         "550135",
         "1",
         "prior",
         "7",
         "1",
         "9",
         "20.0"
        ],
        [
         "7",
         "3108588",
         "1",
         "prior",
         "8",
         "1",
         "14",
         "14.0"
        ],
        [
         "8",
         "2295261",
         "1",
         "prior",
         "9",
         "1",
         "16",
         "0.0"
        ],
        [
         "9",
         "2550362",
         "1",
         "prior",
         "10",
         "4",
         "8",
         "30.0"
        ],
        [
         "11",
         "2168274",
         "2",
         "prior",
         "1",
         "2",
         "11",
         null
        ],
        [
         "12",
         "1501582",
         "2",
         "prior",
         "2",
         "5",
         "10",
         "10.0"
        ],
        [
         "13",
         "1901567",
         "2",
         "prior",
         "3",
         "1",
         "10",
         "3.0"
        ],
        [
         "14",
         "738281",
         "2",
         "prior",
         "4",
         "2",
         "10",
         "8.0"
        ],
        [
         "15",
         "1673511",
         "2",
         "prior",
         "5",
         "3",
         "11",
         "8.0"
        ],
        [
         "16",
         "1199898",
         "2",
         "prior",
         "6",
         "2",
         "9",
         "13.0"
        ],
        [
         "17",
         "3194192",
         "2",
         "prior",
         "7",
         "2",
         "12",
         "14.0"
        ],
        [
         "18",
         "788338",
         "2",
         "prior",
         "8",
         "1",
         "15",
         "27.0"
        ],
        [
         "19",
         "1718559",
         "2",
         "prior",
         "9",
         "2",
         "9",
         "8.0"
        ],
        [
         "20",
         "1447487",
         "2",
         "prior",
         "10",
         "1",
         "11",
         "6.0"
        ],
        [
         "21",
         "1402090",
         "2",
         "prior",
         "11",
         "1",
         "10",
         "30.0"
        ],
        [
         "22",
         "3186735",
         "2",
         "prior",
         "12",
         "1",
         "9",
         "28.0"
        ],
        [
         "23",
         "3268552",
         "2",
         "prior",
         "13",
         "4",
         "11",
         "30.0"
        ],
        [
         "24",
         "839880",
         "2",
         "prior",
         "14",
         "3",
         "10",
         "13.0"
        ],
        [
         "26",
         "1374495",
         "3",
         "prior",
         "1",
         "1",
         "14",
         null
        ],
        [
         "27",
         "444309",
         "3",
         "prior",
         "2",
         "3",
         "19",
         "9.0"
        ],
        [
         "28",
         "3002854",
         "3",
         "prior",
         "3",
         "3",
         "16",
         "21.0"
        ],
        [
         "29",
         "2037211",
         "3",
         "prior",
         "4",
         "2",
         "18",
         "20.0"
        ],
        [
         "30",
         "2710558",
         "3",
         "prior",
         "5",
         "0",
         "17",
         "12.0"
        ],
        [
         "31",
         "1972919",
         "3",
         "prior",
         "6",
         "0",
         "16",
         "7.0"
        ],
        [
         "32",
         "1839752",
         "3",
         "prior",
         "7",
         "0",
         "15",
         "7.0"
        ],
        [
         "33",
         "3225766",
         "3",
         "prior",
         "8",
         "0",
         "17",
         "7.0"
        ],
        [
         "34",
         "3160850",
         "3",
         "prior",
         "9",
         "0",
         "16",
         "7.0"
        ],
        [
         "35",
         "676467",
         "3",
         "prior",
         "10",
         "3",
         "16",
         "17.0"
        ],
        [
         "36",
         "521107",
         "3",
         "prior",
         "11",
         "0",
         "18",
         "11.0"
        ],
        [
         "37",
         "1402502",
         "3",
         "prior",
         "12",
         "1",
         "15",
         "15.0"
        ],
        [
         "39",
         "3343014",
         "4",
         "prior",
         "1",
         "6",
         "11",
         null
        ],
        [
         "40",
         "2030307",
         "4",
         "prior",
         "2",
         "4",
         "11",
         "19.0"
        ],
        [
         "41",
         "691089",
         "4",
         "prior",
         "3",
         "4",
         "15",
         "21.0"
        ],
        [
         "42",
         "94891",
         "4",
         "prior",
         "4",
         "5",
         "13",
         "15.0"
        ],
        [
         "43",
         "2557754",
         "4",
         "prior",
         "5",
         "5",
         "13",
         "0.0"
        ],
        [
         "45",
         "2717275",
         "5",
         "prior",
         "1",
         "3",
         "12",
         null
        ],
        [
         "46",
         "1909121",
         "5",
         "prior",
         "2",
         "0",
         "16",
         "11.0"
        ],
        [
         "47",
         "2267326",
         "5",
         "prior",
         "3",
         "3",
         "18",
         "10.0"
        ],
        [
         "48",
         "157374",
         "5",
         "prior",
         "4",
         "1",
         "18",
         "19.0"
        ],
        [
         "50",
         "2086598",
         "6",
         "prior",
         "1",
         "5",
         "18",
         null
        ],
        [
         "51",
         "298250",
         "6",
         "prior",
         "2",
         "4",
         "16",
         "6.0"
        ],
        [
         "52",
         "998866",
         "6",
         "prior",
         "3",
         "2",
         "18",
         "12.0"
        ],
        [
         "54",
         "2565571",
         "7",
         "prior",
         "1",
         "3",
         "9",
         null
        ],
        [
         "55",
         "2402008",
         "7",
         "prior",
         "2",
         "1",
         "19",
         "30.0"
        ]
       ],
       "shape": {
        "columns": 7,
        "rows": 3214874
       }
      },
      "text/html": [
       "<div>\n",
       "<style scoped>\n",
       "    .dataframe tbody tr th:only-of-type {\n",
       "        vertical-align: middle;\n",
       "    }\n",
       "\n",
       "    .dataframe tbody tr th {\n",
       "        vertical-align: top;\n",
       "    }\n",
       "\n",
       "    .dataframe thead th {\n",
       "        text-align: right;\n",
       "    }\n",
       "</style>\n",
       "<table border=\"1\" class=\"dataframe\">\n",
       "  <thead>\n",
       "    <tr style=\"text-align: right;\">\n",
       "      <th></th>\n",
       "      <th>order_id</th>\n",
       "      <th>user_id</th>\n",
       "      <th>eval_set</th>\n",
       "      <th>order_number</th>\n",
       "      <th>order_dow</th>\n",
       "      <th>order_hour_of_day</th>\n",
       "      <th>days_since_prior_order</th>\n",
       "    </tr>\n",
       "  </thead>\n",
       "  <tbody>\n",
       "    <tr>\n",
       "      <th>0</th>\n",
       "      <td>2539329</td>\n",
       "      <td>1</td>\n",
       "      <td>prior</td>\n",
       "      <td>1</td>\n",
       "      <td>2</td>\n",
       "      <td>8</td>\n",
       "      <td>NaN</td>\n",
       "    </tr>\n",
       "    <tr>\n",
       "      <th>1</th>\n",
       "      <td>2398795</td>\n",
       "      <td>1</td>\n",
       "      <td>prior</td>\n",
       "      <td>2</td>\n",
       "      <td>3</td>\n",
       "      <td>7</td>\n",
       "      <td>15.0</td>\n",
       "    </tr>\n",
       "    <tr>\n",
       "      <th>2</th>\n",
       "      <td>473747</td>\n",
       "      <td>1</td>\n",
       "      <td>prior</td>\n",
       "      <td>3</td>\n",
       "      <td>3</td>\n",
       "      <td>12</td>\n",
       "      <td>21.0</td>\n",
       "    </tr>\n",
       "    <tr>\n",
       "      <th>3</th>\n",
       "      <td>2254736</td>\n",
       "      <td>1</td>\n",
       "      <td>prior</td>\n",
       "      <td>4</td>\n",
       "      <td>4</td>\n",
       "      <td>7</td>\n",
       "      <td>29.0</td>\n",
       "    </tr>\n",
       "    <tr>\n",
       "      <th>4</th>\n",
       "      <td>431534</td>\n",
       "      <td>1</td>\n",
       "      <td>prior</td>\n",
       "      <td>5</td>\n",
       "      <td>4</td>\n",
       "      <td>15</td>\n",
       "      <td>28.0</td>\n",
       "    </tr>\n",
       "    <tr>\n",
       "      <th>...</th>\n",
       "      <td>...</td>\n",
       "      <td>...</td>\n",
       "      <td>...</td>\n",
       "      <td>...</td>\n",
       "      <td>...</td>\n",
       "      <td>...</td>\n",
       "      <td>...</td>\n",
       "    </tr>\n",
       "    <tr>\n",
       "      <th>3421077</th>\n",
       "      <td>2558525</td>\n",
       "      <td>206209</td>\n",
       "      <td>prior</td>\n",
       "      <td>9</td>\n",
       "      <td>4</td>\n",
       "      <td>15</td>\n",
       "      <td>22.0</td>\n",
       "    </tr>\n",
       "    <tr>\n",
       "      <th>3421078</th>\n",
       "      <td>2266710</td>\n",
       "      <td>206209</td>\n",
       "      <td>prior</td>\n",
       "      <td>10</td>\n",
       "      <td>5</td>\n",
       "      <td>18</td>\n",
       "      <td>29.0</td>\n",
       "    </tr>\n",
       "    <tr>\n",
       "      <th>3421079</th>\n",
       "      <td>1854736</td>\n",
       "      <td>206209</td>\n",
       "      <td>prior</td>\n",
       "      <td>11</td>\n",
       "      <td>4</td>\n",
       "      <td>10</td>\n",
       "      <td>30.0</td>\n",
       "    </tr>\n",
       "    <tr>\n",
       "      <th>3421080</th>\n",
       "      <td>626363</td>\n",
       "      <td>206209</td>\n",
       "      <td>prior</td>\n",
       "      <td>12</td>\n",
       "      <td>1</td>\n",
       "      <td>12</td>\n",
       "      <td>18.0</td>\n",
       "    </tr>\n",
       "    <tr>\n",
       "      <th>3421081</th>\n",
       "      <td>2977660</td>\n",
       "      <td>206209</td>\n",
       "      <td>prior</td>\n",
       "      <td>13</td>\n",
       "      <td>1</td>\n",
       "      <td>12</td>\n",
       "      <td>7.0</td>\n",
       "    </tr>\n",
       "  </tbody>\n",
       "</table>\n",
       "<p>3214874 rows × 7 columns</p>\n",
       "</div>"
      ],
      "text/plain": [
       "         order_id  user_id eval_set  order_number  order_dow  \\\n",
       "0         2539329        1    prior             1          2   \n",
       "1         2398795        1    prior             2          3   \n",
       "2          473747        1    prior             3          3   \n",
       "3         2254736        1    prior             4          4   \n",
       "4          431534        1    prior             5          4   \n",
       "...           ...      ...      ...           ...        ...   \n",
       "3421077   2558525   206209    prior             9          4   \n",
       "3421078   2266710   206209    prior            10          5   \n",
       "3421079   1854736   206209    prior            11          4   \n",
       "3421080    626363   206209    prior            12          1   \n",
       "3421081   2977660   206209    prior            13          1   \n",
       "\n",
       "         order_hour_of_day  days_since_prior_order  \n",
       "0                        8                     NaN  \n",
       "1                        7                    15.0  \n",
       "2                       12                    21.0  \n",
       "3                        7                    29.0  \n",
       "4                       15                    28.0  \n",
       "...                    ...                     ...  \n",
       "3421077                 15                    22.0  \n",
       "3421078                 18                    29.0  \n",
       "3421079                 10                    30.0  \n",
       "3421080                 12                    18.0  \n",
       "3421081                 12                     7.0  \n",
       "\n",
       "[3214874 rows x 7 columns]"
      ]
     },
     "execution_count": 26,
     "metadata": {},
     "output_type": "execute_result"
    }
   ],
   "source": [
    "prior_orders"
   ]
  },
  {
   "cell_type": "code",
   "execution_count": null,
   "id": "300d5e83",
   "metadata": {},
   "outputs": [
    {
     "name": "stdout",
     "output_type": "stream",
     "text": [
      "Shape después de fusionar items de pedido con info de producto: (32434489, 6)\n",
      "Columnas después de fusionar items de pedido con info de producto: ['order_id', 'product_id', 'product_name', 'department_id', 'department', 'image_url']\n",
      "NaNs en image_url después de la primera etapa: 0\n",
      "\n",
      "--- DESPUÉS DEL MERGE COMBINADO FINAL ---\n",
      "Shape del prior_merged_combined final: (32434489, 7)\n",
      "Columnas del prior_merged_combined final: ['order_id', 'user_id', 'product_id', 'product_name', 'department_id', 'department', 'image_url']\n",
      "Número de NaNs en 'image_url' en el resultado final: 0\n"
     ]
    }
   ],
   "source": [
    "\n",
    "order_items_with_product_info = pd.merge(\n",
    "    order_products_prior[['order_id', 'product_id']],\n",
    "    products[['product_id', 'product_name', 'department_id', \"department\", 'image_url']],\n",
    "    on='product_id',\n",
    "    how='left'\n",
    ")\n",
    "\n",
    "print(\"Shape después de fusionar items de pedido con info de producto:\", order_items_with_product_info.shape)\n",
    "print(\"Columnas después de fusionar items de pedido con info de producto:\", order_items_with_product_info.columns.tolist())\n",
    "print(\"NaNs en image_url después de la primera etapa:\", order_items_with_product_info['image_url'].isna().sum()) # --- VERIFICA AQUÍ ---\n",
    "\n",
    "\n",
    "# Combinar el resultado con los datos de orden/usuario de prior_orders\n",
    "\n",
    "prior_merged_combined = pd.merge(\n",
    "    prior_orders[['order_id', 'user_id']], # DataFrame de la izquierda: orders para user_id\n",
    "    order_items_with_product_info,         # DataFrame de la derecha: items con info de producto\n",
    "    on='order_id',\n",
    "    how='inner' \n",
    ")\n",
    "\n",
    "# El resultado final es prior_merged_combined\n",
    "\n",
    "print(\"\\n--- DESPUÉS DEL MERGE COMBINADO FINAL ---\")\n",
    "print(\"Shape del prior_merged_combined final:\", prior_merged_combined.shape)\n",
    "print(\"Columnas del prior_merged_combined final:\", prior_merged_combined.columns.tolist())\n",
    "\n",
    "# Verificar NaNs en la columna 'image_url' en el resultado final\n",
    "print(\"Número de NaNs en 'image_url' en el resultado final:\", prior_merged_combined['image_url'].isna().sum())\n",
    "\n",
    "if prior_merged_combined['image_url'].isna().sum() > 0:\n",
    "    print(\"\\nEjemplo de filas con NaN en 'image_url' en el resultado final:\")\n",
    "    print(prior_merged_combined[prior_merged_combined['image_url'].isna()].head())"
   ]
  },
  {
   "cell_type": "code",
   "execution_count": null,
   "id": "690de48e",
   "metadata": {},
   "outputs": [
    {
     "data": {
      "application/vnd.microsoft.datawrangler.viewer.v0+json": {
       "columns": [
        {
         "name": "index",
         "rawType": "int64",
         "type": "integer"
        },
        {
         "name": "order_id",
         "rawType": "int64",
         "type": "integer"
        },
        {
         "name": "user_id",
         "rawType": "int64",
         "type": "integer"
        },
        {
         "name": "product_id",
         "rawType": "int64",
         "type": "integer"
        },
        {
         "name": "product_name",
         "rawType": "object",
         "type": "string"
        },
        {
         "name": "department_id",
         "rawType": "int64",
         "type": "integer"
        },
        {
         "name": "department",
         "rawType": "object",
         "type": "string"
        },
        {
         "name": "image_url",
         "rawType": "object",
         "type": "string"
        }
       ],
       "conversionMethod": "pd.DataFrame",
       "ref": "dcdd7007-4f26-4dbe-bf12-36a6b2136306",
       "rows": [
        [
         "0",
         "2539329",
         "1",
         "196",
         "Soda",
         "7",
         "beverages",
         "https://static.vecteezy.com/system/resources/previews/014/369/640/non_2x/green-pear-juice-glass-icon-cartoon-style-vector.jpg"
        ],
        [
         "1",
         "2539329",
         "1",
         "14084",
         "Organic Unsweetened Vanilla Almond Milk",
         "16",
         "dairy eggs",
         "https://img.freepik.com/vector-premium/vector-of-three-stacked-oranges-isolated-on-white-background_410516-85251.jpg"
        ],
        [
         "2",
         "2539329",
         "1",
         "12427",
         "Original Beef Jerky",
         "19",
         "snacks",
         "https://static.vecteezy.com/system/resources/previews/011/188/971/original/snack-chips-bag-plastic-packaging-design-illustration-icon-for-food-and-beverage-business-potato-snack-branding-element-logo-vector.jpg"
        ],
        [
         "3",
         "2539329",
         "1",
         "26088",
         "Aged White Cheddar Popcorn",
         "19",
         "snacks",
         "https://static.vecteezy.com/system/resources/previews/011/188/971/original/snack-chips-bag-plastic-packaging-design-illustration-icon-for-food-and-beverage-business-potato-snack-branding-element-logo-vector.jpg"
        ],
        [
         "4",
         "2539329",
         "1",
         "26405",
         "XL Pick-A-Size Paper Towel Rolls",
         "17",
         "household",
         "https://img.freepik.com/vector-premium/vector-icono-gratis-papel-higienico-rollo-tejido_777568-1121.jpg"
        ],
        [
         "5",
         "2398795",
         "1",
         "196",
         "Soda",
         "7",
         "beverages",
         "https://static.vecteezy.com/system/resources/previews/014/369/640/non_2x/green-pear-juice-glass-icon-cartoon-style-vector.jpg"
        ],
        [
         "6",
         "2398795",
         "1",
         "10258",
         "Pistachios",
         "19",
         "snacks",
         "https://static.vecteezy.com/system/resources/previews/011/188/971/original/snack-chips-bag-plastic-packaging-design-illustration-icon-for-food-and-beverage-business-potato-snack-branding-element-logo-vector.jpg"
        ],
        [
         "7",
         "2398795",
         "1",
         "12427",
         "Original Beef Jerky",
         "19",
         "snacks",
         "https://static.vecteezy.com/system/resources/previews/011/188/971/original/snack-chips-bag-plastic-packaging-design-illustration-icon-for-food-and-beverage-business-potato-snack-branding-element-logo-vector.jpg"
        ],
        [
         "8",
         "2398795",
         "1",
         "13176",
         "Bag of Organic Bananas",
         "4",
         "produce",
         "https://img.freepik.com/vector-premium/ilustracion-brocoli-color-plano-dibujado-mano_614983-6508.jpg"
        ],
        [
         "9",
         "2398795",
         "1",
         "26088",
         "Aged White Cheddar Popcorn",
         "19",
         "snacks",
         "https://static.vecteezy.com/system/resources/previews/011/188/971/original/snack-chips-bag-plastic-packaging-design-illustration-icon-for-food-and-beverage-business-potato-snack-branding-element-logo-vector.jpg"
        ],
        [
         "10",
         "2398795",
         "1",
         "13032",
         "Cinnamon Toast Crunch",
         "14",
         "breakfast",
         "https://img.freepik.com/vector-premium/cafe-llevar-croissant-vector-icono-vector_951778-96844.jpg"
        ],
        [
         "11",
         "473747",
         "1",
         "196",
         "Soda",
         "7",
         "beverages",
         "https://static.vecteezy.com/system/resources/previews/014/369/640/non_2x/green-pear-juice-glass-icon-cartoon-style-vector.jpg"
        ],
        [
         "12",
         "473747",
         "1",
         "12427",
         "Original Beef Jerky",
         "19",
         "snacks",
         "https://static.vecteezy.com/system/resources/previews/011/188/971/original/snack-chips-bag-plastic-packaging-design-illustration-icon-for-food-and-beverage-business-potato-snack-branding-element-logo-vector.jpg"
        ],
        [
         "13",
         "473747",
         "1",
         "10258",
         "Pistachios",
         "19",
         "snacks",
         "https://static.vecteezy.com/system/resources/previews/011/188/971/original/snack-chips-bag-plastic-packaging-design-illustration-icon-for-food-and-beverage-business-potato-snack-branding-element-logo-vector.jpg"
        ],
        [
         "14",
         "473747",
         "1",
         "25133",
         "Organic String Cheese",
         "16",
         "dairy eggs",
         "https://img.freepik.com/vector-premium/vector-of-three-stacked-oranges-isolated-on-white-background_410516-85251.jpg"
        ],
        [
         "15",
         "473747",
         "1",
         "30450",
         "Creamy Almond Butter",
         "13",
         "pantry",
         "https://static.vecteezy.com/system/resources/previews/013/509/617/original/salt-cellar-illustration-on-white-background-free-vector.jpg"
        ],
        [
         "16",
         "2254736",
         "1",
         "196",
         "Soda",
         "7",
         "beverages",
         "https://static.vecteezy.com/system/resources/previews/014/369/640/non_2x/green-pear-juice-glass-icon-cartoon-style-vector.jpg"
        ],
        [
         "17",
         "2254736",
         "1",
         "12427",
         "Original Beef Jerky",
         "19",
         "snacks",
         "https://static.vecteezy.com/system/resources/previews/011/188/971/original/snack-chips-bag-plastic-packaging-design-illustration-icon-for-food-and-beverage-business-potato-snack-branding-element-logo-vector.jpg"
        ],
        [
         "18",
         "2254736",
         "1",
         "10258",
         "Pistachios",
         "19",
         "snacks",
         "https://static.vecteezy.com/system/resources/previews/011/188/971/original/snack-chips-bag-plastic-packaging-design-illustration-icon-for-food-and-beverage-business-potato-snack-branding-element-logo-vector.jpg"
        ],
        [
         "19",
         "2254736",
         "1",
         "25133",
         "Organic String Cheese",
         "16",
         "dairy eggs",
         "https://img.freepik.com/vector-premium/vector-of-three-stacked-oranges-isolated-on-white-background_410516-85251.jpg"
        ],
        [
         "20",
         "2254736",
         "1",
         "26405",
         "XL Pick-A-Size Paper Towel Rolls",
         "17",
         "household",
         "https://img.freepik.com/vector-premium/vector-icono-gratis-papel-higienico-rollo-tejido_777568-1121.jpg"
        ],
        [
         "21",
         "431534",
         "1",
         "196",
         "Soda",
         "7",
         "beverages",
         "https://static.vecteezy.com/system/resources/previews/014/369/640/non_2x/green-pear-juice-glass-icon-cartoon-style-vector.jpg"
        ],
        [
         "22",
         "431534",
         "1",
         "12427",
         "Original Beef Jerky",
         "19",
         "snacks",
         "https://static.vecteezy.com/system/resources/previews/011/188/971/original/snack-chips-bag-plastic-packaging-design-illustration-icon-for-food-and-beverage-business-potato-snack-branding-element-logo-vector.jpg"
        ],
        [
         "23",
         "431534",
         "1",
         "10258",
         "Pistachios",
         "19",
         "snacks",
         "https://static.vecteezy.com/system/resources/previews/011/188/971/original/snack-chips-bag-plastic-packaging-design-illustration-icon-for-food-and-beverage-business-potato-snack-branding-element-logo-vector.jpg"
        ],
        [
         "24",
         "431534",
         "1",
         "25133",
         "Organic String Cheese",
         "16",
         "dairy eggs",
         "https://img.freepik.com/vector-premium/vector-of-three-stacked-oranges-isolated-on-white-background_410516-85251.jpg"
        ],
        [
         "25",
         "431534",
         "1",
         "10326",
         "Organic Fuji Apples",
         "4",
         "produce",
         "https://img.freepik.com/vector-premium/ilustracion-brocoli-color-plano-dibujado-mano_614983-6508.jpg"
        ],
        [
         "26",
         "431534",
         "1",
         "17122",
         "Honeycrisp Apples",
         "4",
         "produce",
         "https://img.freepik.com/vector-premium/ilustracion-brocoli-color-plano-dibujado-mano_614983-6508.jpg"
        ],
        [
         "27",
         "431534",
         "1",
         "41787",
         "Bartlett Pears",
         "4",
         "produce",
         "https://img.freepik.com/vector-premium/ilustracion-brocoli-color-plano-dibujado-mano_614983-6508.jpg"
        ],
        [
         "28",
         "431534",
         "1",
         "13176",
         "Bag of Organic Bananas",
         "4",
         "produce",
         "https://img.freepik.com/vector-premium/ilustracion-brocoli-color-plano-dibujado-mano_614983-6508.jpg"
        ],
        [
         "29",
         "3367565",
         "1",
         "196",
         "Soda",
         "7",
         "beverages",
         "https://static.vecteezy.com/system/resources/previews/014/369/640/non_2x/green-pear-juice-glass-icon-cartoon-style-vector.jpg"
        ],
        [
         "30",
         "3367565",
         "1",
         "12427",
         "Original Beef Jerky",
         "19",
         "snacks",
         "https://static.vecteezy.com/system/resources/previews/011/188/971/original/snack-chips-bag-plastic-packaging-design-illustration-icon-for-food-and-beverage-business-potato-snack-branding-element-logo-vector.jpg"
        ],
        [
         "31",
         "3367565",
         "1",
         "10258",
         "Pistachios",
         "19",
         "snacks",
         "https://static.vecteezy.com/system/resources/previews/011/188/971/original/snack-chips-bag-plastic-packaging-design-illustration-icon-for-food-and-beverage-business-potato-snack-branding-element-logo-vector.jpg"
        ],
        [
         "32",
         "3367565",
         "1",
         "25133",
         "Organic String Cheese",
         "16",
         "dairy eggs",
         "https://img.freepik.com/vector-premium/vector-of-three-stacked-oranges-isolated-on-white-background_410516-85251.jpg"
        ],
        [
         "33",
         "550135",
         "1",
         "196",
         "Soda",
         "7",
         "beverages",
         "https://static.vecteezy.com/system/resources/previews/014/369/640/non_2x/green-pear-juice-glass-icon-cartoon-style-vector.jpg"
        ],
        [
         "34",
         "550135",
         "1",
         "10258",
         "Pistachios",
         "19",
         "snacks",
         "https://static.vecteezy.com/system/resources/previews/011/188/971/original/snack-chips-bag-plastic-packaging-design-illustration-icon-for-food-and-beverage-business-potato-snack-branding-element-logo-vector.jpg"
        ],
        [
         "35",
         "550135",
         "1",
         "12427",
         "Original Beef Jerky",
         "19",
         "snacks",
         "https://static.vecteezy.com/system/resources/previews/011/188/971/original/snack-chips-bag-plastic-packaging-design-illustration-icon-for-food-and-beverage-business-potato-snack-branding-element-logo-vector.jpg"
        ],
        [
         "36",
         "550135",
         "1",
         "25133",
         "Organic String Cheese",
         "16",
         "dairy eggs",
         "https://img.freepik.com/vector-premium/vector-of-three-stacked-oranges-isolated-on-white-background_410516-85251.jpg"
        ],
        [
         "37",
         "550135",
         "1",
         "13032",
         "Cinnamon Toast Crunch",
         "14",
         "breakfast",
         "https://img.freepik.com/vector-premium/cafe-llevar-croissant-vector-icono-vector_951778-96844.jpg"
        ],
        [
         "38",
         "3108588",
         "1",
         "12427",
         "Original Beef Jerky",
         "19",
         "snacks",
         "https://static.vecteezy.com/system/resources/previews/011/188/971/original/snack-chips-bag-plastic-packaging-design-illustration-icon-for-food-and-beverage-business-potato-snack-branding-element-logo-vector.jpg"
        ],
        [
         "39",
         "3108588",
         "1",
         "196",
         "Soda",
         "7",
         "beverages",
         "https://static.vecteezy.com/system/resources/previews/014/369/640/non_2x/green-pear-juice-glass-icon-cartoon-style-vector.jpg"
        ],
        [
         "40",
         "3108588",
         "1",
         "10258",
         "Pistachios",
         "19",
         "snacks",
         "https://static.vecteezy.com/system/resources/previews/011/188/971/original/snack-chips-bag-plastic-packaging-design-illustration-icon-for-food-and-beverage-business-potato-snack-branding-element-logo-vector.jpg"
        ],
        [
         "41",
         "3108588",
         "1",
         "25133",
         "Organic String Cheese",
         "16",
         "dairy eggs",
         "https://img.freepik.com/vector-premium/vector-of-three-stacked-oranges-isolated-on-white-background_410516-85251.jpg"
        ],
        [
         "42",
         "3108588",
         "1",
         "46149",
         "Zero Calorie Cola",
         "7",
         "beverages",
         "https://static.vecteezy.com/system/resources/previews/014/369/640/non_2x/green-pear-juice-glass-icon-cartoon-style-vector.jpg"
        ],
        [
         "43",
         "3108588",
         "1",
         "49235",
         "Organic Half & Half",
         "16",
         "dairy eggs",
         "https://img.freepik.com/vector-premium/vector-of-three-stacked-oranges-isolated-on-white-background_410516-85251.jpg"
        ],
        [
         "44",
         "2295261",
         "1",
         "49235",
         "Organic Half & Half",
         "16",
         "dairy eggs",
         "https://img.freepik.com/vector-premium/vector-of-three-stacked-oranges-isolated-on-white-background_410516-85251.jpg"
        ],
        [
         "45",
         "2295261",
         "1",
         "46149",
         "Zero Calorie Cola",
         "7",
         "beverages",
         "https://static.vecteezy.com/system/resources/previews/014/369/640/non_2x/green-pear-juice-glass-icon-cartoon-style-vector.jpg"
        ],
        [
         "46",
         "2295261",
         "1",
         "25133",
         "Organic String Cheese",
         "16",
         "dairy eggs",
         "https://img.freepik.com/vector-premium/vector-of-three-stacked-oranges-isolated-on-white-background_410516-85251.jpg"
        ],
        [
         "47",
         "2295261",
         "1",
         "196",
         "Soda",
         "7",
         "beverages",
         "https://static.vecteezy.com/system/resources/previews/014/369/640/non_2x/green-pear-juice-glass-icon-cartoon-style-vector.jpg"
        ],
        [
         "48",
         "2295261",
         "1",
         "10258",
         "Pistachios",
         "19",
         "snacks",
         "https://static.vecteezy.com/system/resources/previews/011/188/971/original/snack-chips-bag-plastic-packaging-design-illustration-icon-for-food-and-beverage-business-potato-snack-branding-element-logo-vector.jpg"
        ],
        [
         "49",
         "2295261",
         "1",
         "12427",
         "Original Beef Jerky",
         "19",
         "snacks",
         "https://static.vecteezy.com/system/resources/previews/011/188/971/original/snack-chips-bag-plastic-packaging-design-illustration-icon-for-food-and-beverage-business-potato-snack-branding-element-logo-vector.jpg"
        ]
       ],
       "shape": {
        "columns": 7,
        "rows": 32434489
       }
      },
      "text/html": [
       "<div>\n",
       "<style scoped>\n",
       "    .dataframe tbody tr th:only-of-type {\n",
       "        vertical-align: middle;\n",
       "    }\n",
       "\n",
       "    .dataframe tbody tr th {\n",
       "        vertical-align: top;\n",
       "    }\n",
       "\n",
       "    .dataframe thead th {\n",
       "        text-align: right;\n",
       "    }\n",
       "</style>\n",
       "<table border=\"1\" class=\"dataframe\">\n",
       "  <thead>\n",
       "    <tr style=\"text-align: right;\">\n",
       "      <th></th>\n",
       "      <th>order_id</th>\n",
       "      <th>user_id</th>\n",
       "      <th>product_id</th>\n",
       "      <th>product_name</th>\n",
       "      <th>department_id</th>\n",
       "      <th>department</th>\n",
       "      <th>image_url</th>\n",
       "    </tr>\n",
       "  </thead>\n",
       "  <tbody>\n",
       "    <tr>\n",
       "      <th>0</th>\n",
       "      <td>2539329</td>\n",
       "      <td>1</td>\n",
       "      <td>196</td>\n",
       "      <td>Soda</td>\n",
       "      <td>7</td>\n",
       "      <td>beverages</td>\n",
       "      <td>https://static.vecteezy.com/system/resources/p...</td>\n",
       "    </tr>\n",
       "    <tr>\n",
       "      <th>1</th>\n",
       "      <td>2539329</td>\n",
       "      <td>1</td>\n",
       "      <td>14084</td>\n",
       "      <td>Organic Unsweetened Vanilla Almond Milk</td>\n",
       "      <td>16</td>\n",
       "      <td>dairy eggs</td>\n",
       "      <td>https://img.freepik.com/vector-premium/vector-...</td>\n",
       "    </tr>\n",
       "    <tr>\n",
       "      <th>2</th>\n",
       "      <td>2539329</td>\n",
       "      <td>1</td>\n",
       "      <td>12427</td>\n",
       "      <td>Original Beef Jerky</td>\n",
       "      <td>19</td>\n",
       "      <td>snacks</td>\n",
       "      <td>https://static.vecteezy.com/system/resources/p...</td>\n",
       "    </tr>\n",
       "    <tr>\n",
       "      <th>3</th>\n",
       "      <td>2539329</td>\n",
       "      <td>1</td>\n",
       "      <td>26088</td>\n",
       "      <td>Aged White Cheddar Popcorn</td>\n",
       "      <td>19</td>\n",
       "      <td>snacks</td>\n",
       "      <td>https://static.vecteezy.com/system/resources/p...</td>\n",
       "    </tr>\n",
       "    <tr>\n",
       "      <th>4</th>\n",
       "      <td>2539329</td>\n",
       "      <td>1</td>\n",
       "      <td>26405</td>\n",
       "      <td>XL Pick-A-Size Paper Towel Rolls</td>\n",
       "      <td>17</td>\n",
       "      <td>household</td>\n",
       "      <td>https://img.freepik.com/vector-premium/vector-...</td>\n",
       "    </tr>\n",
       "    <tr>\n",
       "      <th>...</th>\n",
       "      <td>...</td>\n",
       "      <td>...</td>\n",
       "      <td>...</td>\n",
       "      <td>...</td>\n",
       "      <td>...</td>\n",
       "      <td>...</td>\n",
       "      <td>...</td>\n",
       "    </tr>\n",
       "    <tr>\n",
       "      <th>32434484</th>\n",
       "      <td>2977660</td>\n",
       "      <td>206209</td>\n",
       "      <td>14197</td>\n",
       "      <td>Tomato Paste</td>\n",
       "      <td>9</td>\n",
       "      <td>dry goods pasta</td>\n",
       "      <td>https://img.freepik.com/premium-vector/red-bow...</td>\n",
       "    </tr>\n",
       "    <tr>\n",
       "      <th>32434485</th>\n",
       "      <td>2977660</td>\n",
       "      <td>206209</td>\n",
       "      <td>38730</td>\n",
       "      <td>Brownie Crunch High Protein Bar</td>\n",
       "      <td>19</td>\n",
       "      <td>snacks</td>\n",
       "      <td>https://static.vecteezy.com/system/resources/p...</td>\n",
       "    </tr>\n",
       "    <tr>\n",
       "      <th>32434486</th>\n",
       "      <td>2977660</td>\n",
       "      <td>206209</td>\n",
       "      <td>31477</td>\n",
       "      <td>High Protein Bar Chunky Peanut Butter</td>\n",
       "      <td>19</td>\n",
       "      <td>snacks</td>\n",
       "      <td>https://static.vecteezy.com/system/resources/p...</td>\n",
       "    </tr>\n",
       "    <tr>\n",
       "      <th>32434487</th>\n",
       "      <td>2977660</td>\n",
       "      <td>206209</td>\n",
       "      <td>6567</td>\n",
       "      <td>Chocolate Peanut Butter Protein Bar</td>\n",
       "      <td>19</td>\n",
       "      <td>snacks</td>\n",
       "      <td>https://static.vecteezy.com/system/resources/p...</td>\n",
       "    </tr>\n",
       "    <tr>\n",
       "      <th>32434488</th>\n",
       "      <td>2977660</td>\n",
       "      <td>206209</td>\n",
       "      <td>22920</td>\n",
       "      <td>Roasted &amp; Salted Shelled Pistachios</td>\n",
       "      <td>19</td>\n",
       "      <td>snacks</td>\n",
       "      <td>https://static.vecteezy.com/system/resources/p...</td>\n",
       "    </tr>\n",
       "  </tbody>\n",
       "</table>\n",
       "<p>32434489 rows × 7 columns</p>\n",
       "</div>"
      ],
      "text/plain": [
       "          order_id  user_id  product_id  \\\n",
       "0          2539329        1         196   \n",
       "1          2539329        1       14084   \n",
       "2          2539329        1       12427   \n",
       "3          2539329        1       26088   \n",
       "4          2539329        1       26405   \n",
       "...            ...      ...         ...   \n",
       "32434484   2977660   206209       14197   \n",
       "32434485   2977660   206209       38730   \n",
       "32434486   2977660   206209       31477   \n",
       "32434487   2977660   206209        6567   \n",
       "32434488   2977660   206209       22920   \n",
       "\n",
       "                                     product_name  department_id  \\\n",
       "0                                            Soda              7   \n",
       "1         Organic Unsweetened Vanilla Almond Milk             16   \n",
       "2                             Original Beef Jerky             19   \n",
       "3                      Aged White Cheddar Popcorn             19   \n",
       "4                XL Pick-A-Size Paper Towel Rolls             17   \n",
       "...                                           ...            ...   \n",
       "32434484                             Tomato Paste              9   \n",
       "32434485          Brownie Crunch High Protein Bar             19   \n",
       "32434486    High Protein Bar Chunky Peanut Butter             19   \n",
       "32434487      Chocolate Peanut Butter Protein Bar             19   \n",
       "32434488      Roasted & Salted Shelled Pistachios             19   \n",
       "\n",
       "               department                                          image_url  \n",
       "0               beverages  https://static.vecteezy.com/system/resources/p...  \n",
       "1              dairy eggs  https://img.freepik.com/vector-premium/vector-...  \n",
       "2                  snacks  https://static.vecteezy.com/system/resources/p...  \n",
       "3                  snacks  https://static.vecteezy.com/system/resources/p...  \n",
       "4               household  https://img.freepik.com/vector-premium/vector-...  \n",
       "...                   ...                                                ...  \n",
       "32434484  dry goods pasta  https://img.freepik.com/premium-vector/red-bow...  \n",
       "32434485           snacks  https://static.vecteezy.com/system/resources/p...  \n",
       "32434486           snacks  https://static.vecteezy.com/system/resources/p...  \n",
       "32434487           snacks  https://static.vecteezy.com/system/resources/p...  \n",
       "32434488           snacks  https://static.vecteezy.com/system/resources/p...  \n",
       "\n",
       "[32434489 rows x 7 columns]"
      ]
     },
     "execution_count": 28,
     "metadata": {},
     "output_type": "execute_result"
    }
   ],
   "source": [
    "prior_merged_combined"
   ]
  },
  {
   "cell_type": "code",
   "execution_count": null,
   "id": "ad8e8c80",
   "metadata": {},
   "outputs": [],
   "source": [
    "\n",
    "# 3. Crea una tabla de interacciones usuario-producto\n",
    "user_product_interactions = prior_merged_combined.groupby(['user_id', 'product_id']).size().reset_index(name='count')\n",
    "\n",
    "\n"
   ]
  },
  {
   "cell_type": "code",
   "execution_count": null,
   "id": "8783e3a6",
   "metadata": {},
   "outputs": [
    {
     "data": {
      "application/vnd.microsoft.datawrangler.viewer.v0+json": {
       "columns": [
        {
         "name": "index",
         "rawType": "int64",
         "type": "integer"
        },
        {
         "name": "user_id",
         "rawType": "int64",
         "type": "integer"
        },
        {
         "name": "product_id",
         "rawType": "int64",
         "type": "integer"
        },
        {
         "name": "count",
         "rawType": "int64",
         "type": "integer"
        }
       ],
       "conversionMethod": "pd.DataFrame",
       "ref": "5384ba61-3f1b-46b8-8fdb-ebac0ae181c2",
       "rows": [
        [
         "0",
         "1",
         "196",
         "10"
        ],
        [
         "1",
         "1",
         "10258",
         "9"
        ],
        [
         "2",
         "1",
         "10326",
         "1"
        ],
        [
         "3",
         "1",
         "12427",
         "10"
        ],
        [
         "4",
         "1",
         "13032",
         "3"
        ],
        [
         "5",
         "1",
         "13176",
         "2"
        ],
        [
         "6",
         "1",
         "14084",
         "1"
        ],
        [
         "7",
         "1",
         "17122",
         "1"
        ],
        [
         "8",
         "1",
         "25133",
         "8"
        ],
        [
         "9",
         "1",
         "26088",
         "2"
        ],
        [
         "10",
         "1",
         "26405",
         "2"
        ],
        [
         "11",
         "1",
         "30450",
         "1"
        ],
        [
         "12",
         "1",
         "35951",
         "1"
        ],
        [
         "13",
         "1",
         "38928",
         "1"
        ],
        [
         "14",
         "1",
         "39657",
         "1"
        ],
        [
         "15",
         "1",
         "41787",
         "1"
        ],
        [
         "16",
         "1",
         "46149",
         "3"
        ],
        [
         "17",
         "1",
         "49235",
         "2"
        ],
        [
         "18",
         "2",
         "23",
         "1"
        ],
        [
         "19",
         "2",
         "79",
         "1"
        ],
        [
         "20",
         "2",
         "1559",
         "6"
        ],
        [
         "21",
         "2",
         "2002",
         "4"
        ],
        [
         "22",
         "2",
         "2573",
         "2"
        ],
        [
         "23",
         "2",
         "3151",
         "1"
        ],
        [
         "24",
         "2",
         "4071",
         "1"
        ],
        [
         "25",
         "2",
         "4957",
         "1"
        ],
        [
         "26",
         "2",
         "5212",
         "1"
        ],
        [
         "27",
         "2",
         "5322",
         "1"
        ],
        [
         "28",
         "2",
         "5450",
         "1"
        ],
        [
         "29",
         "2",
         "5869",
         "1"
        ],
        [
         "30",
         "2",
         "5907",
         "1"
        ],
        [
         "31",
         "2",
         "7781",
         "3"
        ],
        [
         "32",
         "2",
         "7963",
         "1"
        ],
        [
         "33",
         "2",
         "8138",
         "1"
        ],
        [
         "34",
         "2",
         "8296",
         "1"
        ],
        [
         "35",
         "2",
         "8479",
         "1"
        ],
        [
         "36",
         "2",
         "9124",
         "1"
        ],
        [
         "37",
         "2",
         "9681",
         "2"
        ],
        [
         "38",
         "2",
         "10305",
         "1"
        ],
        [
         "39",
         "2",
         "12000",
         "5"
        ],
        [
         "40",
         "2",
         "12258",
         "1"
        ],
        [
         "41",
         "2",
         "13176",
         "1"
        ],
        [
         "42",
         "2",
         "13351",
         "2"
        ],
        [
         "43",
         "2",
         "13742",
         "1"
        ],
        [
         "44",
         "2",
         "14306",
         "1"
        ],
        [
         "45",
         "2",
         "14553",
         "1"
        ],
        [
         "46",
         "2",
         "15841",
         "1"
        ],
        [
         "47",
         "2",
         "16521",
         "1"
        ],
        [
         "48",
         "2",
         "16589",
         "5"
        ],
        [
         "49",
         "2",
         "16797",
         "1"
        ]
       ],
       "shape": {
        "columns": 3,
        "rows": 13307953
       }
      },
      "text/html": [
       "<div>\n",
       "<style scoped>\n",
       "    .dataframe tbody tr th:only-of-type {\n",
       "        vertical-align: middle;\n",
       "    }\n",
       "\n",
       "    .dataframe tbody tr th {\n",
       "        vertical-align: top;\n",
       "    }\n",
       "\n",
       "    .dataframe thead th {\n",
       "        text-align: right;\n",
       "    }\n",
       "</style>\n",
       "<table border=\"1\" class=\"dataframe\">\n",
       "  <thead>\n",
       "    <tr style=\"text-align: right;\">\n",
       "      <th></th>\n",
       "      <th>user_id</th>\n",
       "      <th>product_id</th>\n",
       "      <th>count</th>\n",
       "    </tr>\n",
       "  </thead>\n",
       "  <tbody>\n",
       "    <tr>\n",
       "      <th>0</th>\n",
       "      <td>1</td>\n",
       "      <td>196</td>\n",
       "      <td>10</td>\n",
       "    </tr>\n",
       "    <tr>\n",
       "      <th>1</th>\n",
       "      <td>1</td>\n",
       "      <td>10258</td>\n",
       "      <td>9</td>\n",
       "    </tr>\n",
       "    <tr>\n",
       "      <th>2</th>\n",
       "      <td>1</td>\n",
       "      <td>10326</td>\n",
       "      <td>1</td>\n",
       "    </tr>\n",
       "    <tr>\n",
       "      <th>3</th>\n",
       "      <td>1</td>\n",
       "      <td>12427</td>\n",
       "      <td>10</td>\n",
       "    </tr>\n",
       "    <tr>\n",
       "      <th>4</th>\n",
       "      <td>1</td>\n",
       "      <td>13032</td>\n",
       "      <td>3</td>\n",
       "    </tr>\n",
       "    <tr>\n",
       "      <th>...</th>\n",
       "      <td>...</td>\n",
       "      <td>...</td>\n",
       "      <td>...</td>\n",
       "    </tr>\n",
       "    <tr>\n",
       "      <th>13307948</th>\n",
       "      <td>206209</td>\n",
       "      <td>43961</td>\n",
       "      <td>3</td>\n",
       "    </tr>\n",
       "    <tr>\n",
       "      <th>13307949</th>\n",
       "      <td>206209</td>\n",
       "      <td>44325</td>\n",
       "      <td>1</td>\n",
       "    </tr>\n",
       "    <tr>\n",
       "      <th>13307950</th>\n",
       "      <td>206209</td>\n",
       "      <td>48370</td>\n",
       "      <td>1</td>\n",
       "    </tr>\n",
       "    <tr>\n",
       "      <th>13307951</th>\n",
       "      <td>206209</td>\n",
       "      <td>48697</td>\n",
       "      <td>1</td>\n",
       "    </tr>\n",
       "    <tr>\n",
       "      <th>13307952</th>\n",
       "      <td>206209</td>\n",
       "      <td>48742</td>\n",
       "      <td>2</td>\n",
       "    </tr>\n",
       "  </tbody>\n",
       "</table>\n",
       "<p>13307953 rows × 3 columns</p>\n",
       "</div>"
      ],
      "text/plain": [
       "          user_id  product_id  count\n",
       "0               1         196     10\n",
       "1               1       10258      9\n",
       "2               1       10326      1\n",
       "3               1       12427     10\n",
       "4               1       13032      3\n",
       "...           ...         ...    ...\n",
       "13307948   206209       43961      3\n",
       "13307949   206209       44325      1\n",
       "13307950   206209       48370      1\n",
       "13307951   206209       48697      1\n",
       "13307952   206209       48742      2\n",
       "\n",
       "[13307953 rows x 3 columns]"
      ]
     },
     "execution_count": 30,
     "metadata": {},
     "output_type": "execute_result"
    }
   ],
   "source": [
    "user_product_interactions"
   ]
  },
  {
   "cell_type": "markdown",
   "id": "ce64eee1",
   "metadata": {},
   "source": [
    "Crear matriz dispersa (sparse matrix)\n",
    "---------\n",
    "Esto convierte la información de usuarios-productos en una matriz donde cada celda representa una interacción.\n",
    "Es ideal para trabajar con millones de filas sin consumir demasiada memoria."
   ]
  },
  {
   "cell_type": "code",
   "execution_count": null,
   "id": "c6935b96",
   "metadata": {},
   "outputs": [
    {
     "data": {
      "text/plain": [
       "<Compressed Sparse Row sparse matrix of dtype 'int64'\n",
       "\twith 13307953 stored elements and shape (206210, 49689)>"
      ]
     },
     "execution_count": 31,
     "metadata": {},
     "output_type": "execute_result"
    }
   ],
   "source": [
    "from scipy.sparse import csr_matrix\n",
    "\n",
    "rows = user_product_interactions['user_id'].values\n",
    "cols = user_product_interactions['product_id'].values\n",
    "data = user_product_interactions['count'].values  # O puedes usar np.ones(len(rows)) si prefieres binario\n",
    "\n",
    "sparse_matrix = csr_matrix((data, (rows, cols)))\n",
    "sparse_matrix\n"
   ]
  },
  {
   "cell_type": "code",
   "execution_count": null,
   "id": "de01d248",
   "metadata": {},
   "outputs": [
    {
     "data": {
      "text/plain": [
       "10"
      ]
     },
     "execution_count": 32,
     "metadata": {},
     "output_type": "execute_result"
    }
   ],
   "source": [
    "sparse_matrix[1, 196] # sparse_matrix[i, j] = número de veces que el usuario i compró el producto j. Usado para checkear que todo está bien."
   ]
  },
  {
   "cell_type": "markdown",
   "id": "a60fa8ef",
   "metadata": {},
   "source": [
    "Entrenar modelo KNN (User-Based Collaborative Filtering)\n",
    "------------\n",
    "Utilizo KNN (K-Nearest Neighbors) para encontrar usuarios similares.\n",
    "Este modelo no predice productos directamente, sino que permite buscar vecinos similares a un usuario."
   ]
  },
  {
   "cell_type": "code",
   "execution_count": null,
   "id": "a35b1011",
   "metadata": {},
   "outputs": [
    {
     "data": {
      "text/html": [
       "<style>#sk-container-id-2 {\n",
       "  /* Definition of color scheme common for light and dark mode */\n",
       "  --sklearn-color-text: #000;\n",
       "  --sklearn-color-text-muted: #666;\n",
       "  --sklearn-color-line: gray;\n",
       "  /* Definition of color scheme for unfitted estimators */\n",
       "  --sklearn-color-unfitted-level-0: #fff5e6;\n",
       "  --sklearn-color-unfitted-level-1: #f6e4d2;\n",
       "  --sklearn-color-unfitted-level-2: #ffe0b3;\n",
       "  --sklearn-color-unfitted-level-3: chocolate;\n",
       "  /* Definition of color scheme for fitted estimators */\n",
       "  --sklearn-color-fitted-level-0: #f0f8ff;\n",
       "  --sklearn-color-fitted-level-1: #d4ebff;\n",
       "  --sklearn-color-fitted-level-2: #b3dbfd;\n",
       "  --sklearn-color-fitted-level-3: cornflowerblue;\n",
       "\n",
       "  /* Specific color for light theme */\n",
       "  --sklearn-color-text-on-default-background: var(--sg-text-color, var(--theme-code-foreground, var(--jp-content-font-color1, black)));\n",
       "  --sklearn-color-background: var(--sg-background-color, var(--theme-background, var(--jp-layout-color0, white)));\n",
       "  --sklearn-color-border-box: var(--sg-text-color, var(--theme-code-foreground, var(--jp-content-font-color1, black)));\n",
       "  --sklearn-color-icon: #696969;\n",
       "\n",
       "  @media (prefers-color-scheme: dark) {\n",
       "    /* Redefinition of color scheme for dark theme */\n",
       "    --sklearn-color-text-on-default-background: var(--sg-text-color, var(--theme-code-foreground, var(--jp-content-font-color1, white)));\n",
       "    --sklearn-color-background: var(--sg-background-color, var(--theme-background, var(--jp-layout-color0, #111)));\n",
       "    --sklearn-color-border-box: var(--sg-text-color, var(--theme-code-foreground, var(--jp-content-font-color1, white)));\n",
       "    --sklearn-color-icon: #878787;\n",
       "  }\n",
       "}\n",
       "\n",
       "#sk-container-id-2 {\n",
       "  color: var(--sklearn-color-text);\n",
       "}\n",
       "\n",
       "#sk-container-id-2 pre {\n",
       "  padding: 0;\n",
       "}\n",
       "\n",
       "#sk-container-id-2 input.sk-hidden--visually {\n",
       "  border: 0;\n",
       "  clip: rect(1px 1px 1px 1px);\n",
       "  clip: rect(1px, 1px, 1px, 1px);\n",
       "  height: 1px;\n",
       "  margin: -1px;\n",
       "  overflow: hidden;\n",
       "  padding: 0;\n",
       "  position: absolute;\n",
       "  width: 1px;\n",
       "}\n",
       "\n",
       "#sk-container-id-2 div.sk-dashed-wrapped {\n",
       "  border: 1px dashed var(--sklearn-color-line);\n",
       "  margin: 0 0.4em 0.5em 0.4em;\n",
       "  box-sizing: border-box;\n",
       "  padding-bottom: 0.4em;\n",
       "  background-color: var(--sklearn-color-background);\n",
       "}\n",
       "\n",
       "#sk-container-id-2 div.sk-container {\n",
       "  /* jupyter's `normalize.less` sets `[hidden] { display: none; }`\n",
       "     but bootstrap.min.css set `[hidden] { display: none !important; }`\n",
       "     so we also need the `!important` here to be able to override the\n",
       "     default hidden behavior on the sphinx rendered scikit-learn.org.\n",
       "     See: https://github.com/scikit-learn/scikit-learn/issues/21755 */\n",
       "  display: inline-block !important;\n",
       "  position: relative;\n",
       "}\n",
       "\n",
       "#sk-container-id-2 div.sk-text-repr-fallback {\n",
       "  display: none;\n",
       "}\n",
       "\n",
       "div.sk-parallel-item,\n",
       "div.sk-serial,\n",
       "div.sk-item {\n",
       "  /* draw centered vertical line to link estimators */\n",
       "  background-image: linear-gradient(var(--sklearn-color-text-on-default-background), var(--sklearn-color-text-on-default-background));\n",
       "  background-size: 2px 100%;\n",
       "  background-repeat: no-repeat;\n",
       "  background-position: center center;\n",
       "}\n",
       "\n",
       "/* Parallel-specific style estimator block */\n",
       "\n",
       "#sk-container-id-2 div.sk-parallel-item::after {\n",
       "  content: \"\";\n",
       "  width: 100%;\n",
       "  border-bottom: 2px solid var(--sklearn-color-text-on-default-background);\n",
       "  flex-grow: 1;\n",
       "}\n",
       "\n",
       "#sk-container-id-2 div.sk-parallel {\n",
       "  display: flex;\n",
       "  align-items: stretch;\n",
       "  justify-content: center;\n",
       "  background-color: var(--sklearn-color-background);\n",
       "  position: relative;\n",
       "}\n",
       "\n",
       "#sk-container-id-2 div.sk-parallel-item {\n",
       "  display: flex;\n",
       "  flex-direction: column;\n",
       "}\n",
       "\n",
       "#sk-container-id-2 div.sk-parallel-item:first-child::after {\n",
       "  align-self: flex-end;\n",
       "  width: 50%;\n",
       "}\n",
       "\n",
       "#sk-container-id-2 div.sk-parallel-item:last-child::after {\n",
       "  align-self: flex-start;\n",
       "  width: 50%;\n",
       "}\n",
       "\n",
       "#sk-container-id-2 div.sk-parallel-item:only-child::after {\n",
       "  width: 0;\n",
       "}\n",
       "\n",
       "/* Serial-specific style estimator block */\n",
       "\n",
       "#sk-container-id-2 div.sk-serial {\n",
       "  display: flex;\n",
       "  flex-direction: column;\n",
       "  align-items: center;\n",
       "  background-color: var(--sklearn-color-background);\n",
       "  padding-right: 1em;\n",
       "  padding-left: 1em;\n",
       "}\n",
       "\n",
       "\n",
       "/* Toggleable style: style used for estimator/Pipeline/ColumnTransformer box that is\n",
       "clickable and can be expanded/collapsed.\n",
       "- Pipeline and ColumnTransformer use this feature and define the default style\n",
       "- Estimators will overwrite some part of the style using the `sk-estimator` class\n",
       "*/\n",
       "\n",
       "/* Pipeline and ColumnTransformer style (default) */\n",
       "\n",
       "#sk-container-id-2 div.sk-toggleable {\n",
       "  /* Default theme specific background. It is overwritten whether we have a\n",
       "  specific estimator or a Pipeline/ColumnTransformer */\n",
       "  background-color: var(--sklearn-color-background);\n",
       "}\n",
       "\n",
       "/* Toggleable label */\n",
       "#sk-container-id-2 label.sk-toggleable__label {\n",
       "  cursor: pointer;\n",
       "  display: flex;\n",
       "  width: 100%;\n",
       "  margin-bottom: 0;\n",
       "  padding: 0.5em;\n",
       "  box-sizing: border-box;\n",
       "  text-align: center;\n",
       "  align-items: start;\n",
       "  justify-content: space-between;\n",
       "  gap: 0.5em;\n",
       "}\n",
       "\n",
       "#sk-container-id-2 label.sk-toggleable__label .caption {\n",
       "  font-size: 0.6rem;\n",
       "  font-weight: lighter;\n",
       "  color: var(--sklearn-color-text-muted);\n",
       "}\n",
       "\n",
       "#sk-container-id-2 label.sk-toggleable__label-arrow:before {\n",
       "  /* Arrow on the left of the label */\n",
       "  content: \"▸\";\n",
       "  float: left;\n",
       "  margin-right: 0.25em;\n",
       "  color: var(--sklearn-color-icon);\n",
       "}\n",
       "\n",
       "#sk-container-id-2 label.sk-toggleable__label-arrow:hover:before {\n",
       "  color: var(--sklearn-color-text);\n",
       "}\n",
       "\n",
       "/* Toggleable content - dropdown */\n",
       "\n",
       "#sk-container-id-2 div.sk-toggleable__content {\n",
       "  max-height: 0;\n",
       "  max-width: 0;\n",
       "  overflow: hidden;\n",
       "  text-align: left;\n",
       "  /* unfitted */\n",
       "  background-color: var(--sklearn-color-unfitted-level-0);\n",
       "}\n",
       "\n",
       "#sk-container-id-2 div.sk-toggleable__content.fitted {\n",
       "  /* fitted */\n",
       "  background-color: var(--sklearn-color-fitted-level-0);\n",
       "}\n",
       "\n",
       "#sk-container-id-2 div.sk-toggleable__content pre {\n",
       "  margin: 0.2em;\n",
       "  border-radius: 0.25em;\n",
       "  color: var(--sklearn-color-text);\n",
       "  /* unfitted */\n",
       "  background-color: var(--sklearn-color-unfitted-level-0);\n",
       "}\n",
       "\n",
       "#sk-container-id-2 div.sk-toggleable__content.fitted pre {\n",
       "  /* unfitted */\n",
       "  background-color: var(--sklearn-color-fitted-level-0);\n",
       "}\n",
       "\n",
       "#sk-container-id-2 input.sk-toggleable__control:checked~div.sk-toggleable__content {\n",
       "  /* Expand drop-down */\n",
       "  max-height: 200px;\n",
       "  max-width: 100%;\n",
       "  overflow: auto;\n",
       "}\n",
       "\n",
       "#sk-container-id-2 input.sk-toggleable__control:checked~label.sk-toggleable__label-arrow:before {\n",
       "  content: \"▾\";\n",
       "}\n",
       "\n",
       "/* Pipeline/ColumnTransformer-specific style */\n",
       "\n",
       "#sk-container-id-2 div.sk-label input.sk-toggleable__control:checked~label.sk-toggleable__label {\n",
       "  color: var(--sklearn-color-text);\n",
       "  background-color: var(--sklearn-color-unfitted-level-2);\n",
       "}\n",
       "\n",
       "#sk-container-id-2 div.sk-label.fitted input.sk-toggleable__control:checked~label.sk-toggleable__label {\n",
       "  background-color: var(--sklearn-color-fitted-level-2);\n",
       "}\n",
       "\n",
       "/* Estimator-specific style */\n",
       "\n",
       "/* Colorize estimator box */\n",
       "#sk-container-id-2 div.sk-estimator input.sk-toggleable__control:checked~label.sk-toggleable__label {\n",
       "  /* unfitted */\n",
       "  background-color: var(--sklearn-color-unfitted-level-2);\n",
       "}\n",
       "\n",
       "#sk-container-id-2 div.sk-estimator.fitted input.sk-toggleable__control:checked~label.sk-toggleable__label {\n",
       "  /* fitted */\n",
       "  background-color: var(--sklearn-color-fitted-level-2);\n",
       "}\n",
       "\n",
       "#sk-container-id-2 div.sk-label label.sk-toggleable__label,\n",
       "#sk-container-id-2 div.sk-label label {\n",
       "  /* The background is the default theme color */\n",
       "  color: var(--sklearn-color-text-on-default-background);\n",
       "}\n",
       "\n",
       "/* On hover, darken the color of the background */\n",
       "#sk-container-id-2 div.sk-label:hover label.sk-toggleable__label {\n",
       "  color: var(--sklearn-color-text);\n",
       "  background-color: var(--sklearn-color-unfitted-level-2);\n",
       "}\n",
       "\n",
       "/* Label box, darken color on hover, fitted */\n",
       "#sk-container-id-2 div.sk-label.fitted:hover label.sk-toggleable__label.fitted {\n",
       "  color: var(--sklearn-color-text);\n",
       "  background-color: var(--sklearn-color-fitted-level-2);\n",
       "}\n",
       "\n",
       "/* Estimator label */\n",
       "\n",
       "#sk-container-id-2 div.sk-label label {\n",
       "  font-family: monospace;\n",
       "  font-weight: bold;\n",
       "  display: inline-block;\n",
       "  line-height: 1.2em;\n",
       "}\n",
       "\n",
       "#sk-container-id-2 div.sk-label-container {\n",
       "  text-align: center;\n",
       "}\n",
       "\n",
       "/* Estimator-specific */\n",
       "#sk-container-id-2 div.sk-estimator {\n",
       "  font-family: monospace;\n",
       "  border: 1px dotted var(--sklearn-color-border-box);\n",
       "  border-radius: 0.25em;\n",
       "  box-sizing: border-box;\n",
       "  margin-bottom: 0.5em;\n",
       "  /* unfitted */\n",
       "  background-color: var(--sklearn-color-unfitted-level-0);\n",
       "}\n",
       "\n",
       "#sk-container-id-2 div.sk-estimator.fitted {\n",
       "  /* fitted */\n",
       "  background-color: var(--sklearn-color-fitted-level-0);\n",
       "}\n",
       "\n",
       "/* on hover */\n",
       "#sk-container-id-2 div.sk-estimator:hover {\n",
       "  /* unfitted */\n",
       "  background-color: var(--sklearn-color-unfitted-level-2);\n",
       "}\n",
       "\n",
       "#sk-container-id-2 div.sk-estimator.fitted:hover {\n",
       "  /* fitted */\n",
       "  background-color: var(--sklearn-color-fitted-level-2);\n",
       "}\n",
       "\n",
       "/* Specification for estimator info (e.g. \"i\" and \"?\") */\n",
       "\n",
       "/* Common style for \"i\" and \"?\" */\n",
       "\n",
       ".sk-estimator-doc-link,\n",
       "a:link.sk-estimator-doc-link,\n",
       "a:visited.sk-estimator-doc-link {\n",
       "  float: right;\n",
       "  font-size: smaller;\n",
       "  line-height: 1em;\n",
       "  font-family: monospace;\n",
       "  background-color: var(--sklearn-color-background);\n",
       "  border-radius: 1em;\n",
       "  height: 1em;\n",
       "  width: 1em;\n",
       "  text-decoration: none !important;\n",
       "  margin-left: 0.5em;\n",
       "  text-align: center;\n",
       "  /* unfitted */\n",
       "  border: var(--sklearn-color-unfitted-level-1) 1pt solid;\n",
       "  color: var(--sklearn-color-unfitted-level-1);\n",
       "}\n",
       "\n",
       ".sk-estimator-doc-link.fitted,\n",
       "a:link.sk-estimator-doc-link.fitted,\n",
       "a:visited.sk-estimator-doc-link.fitted {\n",
       "  /* fitted */\n",
       "  border: var(--sklearn-color-fitted-level-1) 1pt solid;\n",
       "  color: var(--sklearn-color-fitted-level-1);\n",
       "}\n",
       "\n",
       "/* On hover */\n",
       "div.sk-estimator:hover .sk-estimator-doc-link:hover,\n",
       ".sk-estimator-doc-link:hover,\n",
       "div.sk-label-container:hover .sk-estimator-doc-link:hover,\n",
       ".sk-estimator-doc-link:hover {\n",
       "  /* unfitted */\n",
       "  background-color: var(--sklearn-color-unfitted-level-3);\n",
       "  color: var(--sklearn-color-background);\n",
       "  text-decoration: none;\n",
       "}\n",
       "\n",
       "div.sk-estimator.fitted:hover .sk-estimator-doc-link.fitted:hover,\n",
       ".sk-estimator-doc-link.fitted:hover,\n",
       "div.sk-label-container:hover .sk-estimator-doc-link.fitted:hover,\n",
       ".sk-estimator-doc-link.fitted:hover {\n",
       "  /* fitted */\n",
       "  background-color: var(--sklearn-color-fitted-level-3);\n",
       "  color: var(--sklearn-color-background);\n",
       "  text-decoration: none;\n",
       "}\n",
       "\n",
       "/* Span, style for the box shown on hovering the info icon */\n",
       ".sk-estimator-doc-link span {\n",
       "  display: none;\n",
       "  z-index: 9999;\n",
       "  position: relative;\n",
       "  font-weight: normal;\n",
       "  right: .2ex;\n",
       "  padding: .5ex;\n",
       "  margin: .5ex;\n",
       "  width: min-content;\n",
       "  min-width: 20ex;\n",
       "  max-width: 50ex;\n",
       "  color: var(--sklearn-color-text);\n",
       "  box-shadow: 2pt 2pt 4pt #999;\n",
       "  /* unfitted */\n",
       "  background: var(--sklearn-color-unfitted-level-0);\n",
       "  border: .5pt solid var(--sklearn-color-unfitted-level-3);\n",
       "}\n",
       "\n",
       ".sk-estimator-doc-link.fitted span {\n",
       "  /* fitted */\n",
       "  background: var(--sklearn-color-fitted-level-0);\n",
       "  border: var(--sklearn-color-fitted-level-3);\n",
       "}\n",
       "\n",
       ".sk-estimator-doc-link:hover span {\n",
       "  display: block;\n",
       "}\n",
       "\n",
       "/* \"?\"-specific style due to the `<a>` HTML tag */\n",
       "\n",
       "#sk-container-id-2 a.estimator_doc_link {\n",
       "  float: right;\n",
       "  font-size: 1rem;\n",
       "  line-height: 1em;\n",
       "  font-family: monospace;\n",
       "  background-color: var(--sklearn-color-background);\n",
       "  border-radius: 1rem;\n",
       "  height: 1rem;\n",
       "  width: 1rem;\n",
       "  text-decoration: none;\n",
       "  /* unfitted */\n",
       "  color: var(--sklearn-color-unfitted-level-1);\n",
       "  border: var(--sklearn-color-unfitted-level-1) 1pt solid;\n",
       "}\n",
       "\n",
       "#sk-container-id-2 a.estimator_doc_link.fitted {\n",
       "  /* fitted */\n",
       "  border: var(--sklearn-color-fitted-level-1) 1pt solid;\n",
       "  color: var(--sklearn-color-fitted-level-1);\n",
       "}\n",
       "\n",
       "/* On hover */\n",
       "#sk-container-id-2 a.estimator_doc_link:hover {\n",
       "  /* unfitted */\n",
       "  background-color: var(--sklearn-color-unfitted-level-3);\n",
       "  color: var(--sklearn-color-background);\n",
       "  text-decoration: none;\n",
       "}\n",
       "\n",
       "#sk-container-id-2 a.estimator_doc_link.fitted:hover {\n",
       "  /* fitted */\n",
       "  background-color: var(--sklearn-color-fitted-level-3);\n",
       "}\n",
       "</style><div id=\"sk-container-id-2\" class=\"sk-top-container\"><div class=\"sk-text-repr-fallback\"><pre>NearestNeighbors(algorithm=&#x27;brute&#x27;, metric=&#x27;cosine&#x27;, n_jobs=-1, n_neighbors=10)</pre><b>In a Jupyter environment, please rerun this cell to show the HTML representation or trust the notebook. <br />On GitHub, the HTML representation is unable to render, please try loading this page with nbviewer.org.</b></div><div class=\"sk-container\" hidden><div class=\"sk-item\"><div class=\"sk-estimator fitted sk-toggleable\"><input class=\"sk-toggleable__control sk-hidden--visually\" id=\"sk-estimator-id-2\" type=\"checkbox\" checked><label for=\"sk-estimator-id-2\" class=\"sk-toggleable__label fitted sk-toggleable__label-arrow\"><div><div>NearestNeighbors</div></div><div><a class=\"sk-estimator-doc-link fitted\" rel=\"noreferrer\" target=\"_blank\" href=\"https://scikit-learn.org/1.6/modules/generated/sklearn.neighbors.NearestNeighbors.html\">?<span>Documentation for NearestNeighbors</span></a><span class=\"sk-estimator-doc-link fitted\">i<span>Fitted</span></span></div></label><div class=\"sk-toggleable__content fitted\"><pre>NearestNeighbors(algorithm=&#x27;brute&#x27;, metric=&#x27;cosine&#x27;, n_jobs=-1, n_neighbors=10)</pre></div> </div></div></div></div>"
      ],
      "text/plain": [
       "NearestNeighbors(algorithm='brute', metric='cosine', n_jobs=-1, n_neighbors=10)"
      ]
     },
     "execution_count": 42,
     "metadata": {},
     "output_type": "execute_result"
    }
   ],
   "source": [
    "from sklearn.neighbors import NearestNeighbors\n",
    "\n",
    "'''\n",
    "¿Qué hace esto?\n",
    "El modelo se entrena sobre la matriz usuario-producto.\n",
    "\n",
    "Después podrás pedirle:\n",
    "👉 “Dame los 10 usuarios más parecidos al usuario 42”\n",
    "👉 “Dime qué productos compraron que el usuario 42 no ha comprado aún”\n",
    "'''\n",
    "\n",
    "busco_vecinos_similares_knn_model = NearestNeighbors(\n",
    "    metric='cosine',     # Similitud del coseno es común en sistemas de recomendación\n",
    "    algorithm='brute',   # Funciona bien con matrices dispersas grandes\n",
    "    n_neighbors=10,      # Número de vecinos (usuarios similares) a buscar\n",
    "    n_jobs=-1            # Usar todos los núcleos disponibles\n",
    ")\n",
    "\n",
    "busco_vecinos_similares_knn_model.fit(sparse_matrix)\n",
    "\n",
    "\n"
   ]
  },
  {
   "cell_type": "markdown",
   "id": "ba99f75f",
   "metadata": {},
   "source": [
    "Generar recomendaciones para un usuario usando el modelo KNN\n",
    "---------\n",
    "Ahora que el modelo KNN ya está entrenado con la sparse_matrix, vamos a:\n",
    "\n",
    "-Elegir un usuario.\n",
    "\n",
    "-Buscar otros usuarios parecidos.\n",
    "\n",
    "-Ver qué productos compraron esos usuarios que el usuario original no ha comprado aún.\n",
    "\n",
    "-Recomendarle esos productos."
   ]
  },
  {
   "cell_type": "code",
   "execution_count": null,
   "id": "bfe04caf",
   "metadata": {},
   "outputs": [],
   "source": [
    "from IPython.display import display, Image"
   ]
  },
  {
   "cell_type": "code",
   "execution_count": null,
   "id": "2c084ee6",
   "metadata": {},
   "outputs": [
    {
     "name": "stdout",
     "output_type": "stream",
     "text": [
      "Recomendaciones para usuario/a: 68660\n",
      "\n",
      "¿Aún no los has probado? Te recomendamos estos productos que seguro que te encantan:\n",
      "- Kombucha Gingerade (ID: 1710)\n"
     ]
    },
    {
     "data": {
      "text/html": [
       "<img src=\"https://static.vecteezy.com/system/resources/previews/014/369/640/non_2x/green-pear-juice-glass-icon-cartoon-style-vector.jpg\" width=\"70\"/>"
      ],
      "text/plain": [
       "<IPython.core.display.Image object>"
      ]
     },
     "metadata": {},
     "output_type": "display_data"
    },
    {
     "name": "stdout",
     "output_type": "stream",
     "text": [
      "------------------------------\n",
      "- Organic Lemon (ID: 5876)\n"
     ]
    },
    {
     "data": {
      "text/html": [
       "<img src=\"https://img.freepik.com/vector-premium/ilustracion-brocoli-color-plano-dibujado-mano_614983-6508.jpg\" width=\"70\"/>"
      ],
      "text/plain": [
       "<IPython.core.display.Image object>"
      ]
     },
     "metadata": {},
     "output_type": "display_data"
    },
    {
     "name": "stdout",
     "output_type": "stream",
     "text": [
      "------------------------------\n",
      "- Olive Oil & Vinegar Dressing (ID: 7821)\n"
     ]
    },
    {
     "data": {
      "text/html": [
       "<img src=\"https://static.vecteezy.com/system/resources/previews/013/509/617/original/salt-cellar-illustration-on-white-background-free-vector.jpg\" width=\"70\"/>"
      ],
      "text/plain": [
       "<IPython.core.display.Image object>"
      ]
     },
     "metadata": {},
     "output_type": "display_data"
    },
    {
     "name": "stdout",
     "output_type": "stream",
     "text": [
      "------------------------------\n",
      "- Chocolate Chip Cookie Dough Ice Cream (ID: 12276)\n"
     ]
    },
    {
     "data": {
      "text/html": [
       "<img src=\"https://img.freepik.com/vector-premium/ilustracion-vectorial-fusion-cristales-cuadrados-azules_1137529-31387.jpg\" width=\"70\"/>"
      ],
      "text/plain": [
       "<IPython.core.display.Image object>"
      ]
     },
     "metadata": {},
     "output_type": "display_data"
    },
    {
     "name": "stdout",
     "output_type": "stream",
     "text": [
      "------------------------------\n",
      "- Apple Cider Vinegar (ID: 18963)\n"
     ]
    },
    {
     "data": {
      "text/html": [
       "<img src=\"https://static.vecteezy.com/system/resources/previews/013/509/617/original/salt-cellar-illustration-on-white-background-free-vector.jpg\" width=\"70\"/>"
      ],
      "text/plain": [
       "<IPython.core.display.Image object>"
      ]
     },
     "metadata": {},
     "output_type": "display_data"
    },
    {
     "name": "stdout",
     "output_type": "stream",
     "text": [
      "------------------------------\n",
      "- Organic Baby Spinach (ID: 21903)\n"
     ]
    },
    {
     "data": {
      "text/html": [
       "<img src=\"https://img.freepik.com/vector-premium/ilustracion-brocoli-color-plano-dibujado-mano_614983-6508.jpg\" width=\"70\"/>"
      ],
      "text/plain": [
       "<IPython.core.display.Image object>"
      ]
     },
     "metadata": {},
     "output_type": "display_data"
    },
    {
     "name": "stdout",
     "output_type": "stream",
     "text": [
      "------------------------------\n",
      "- Pita Chips Simply Naked (ID: 25824)\n"
     ]
    },
    {
     "data": {
      "text/html": [
       "<img src=\"https://static.vecteezy.com/system/resources/previews/011/188/971/original/snack-chips-bag-plastic-packaging-design-illustration-icon-for-food-and-beverage-business-potato-snack-branding-element-logo-vector.jpg\" width=\"70\"/>"
      ],
      "text/plain": [
       "<IPython.core.display.Image object>"
      ]
     },
     "metadata": {},
     "output_type": "display_data"
    },
    {
     "name": "stdout",
     "output_type": "stream",
     "text": [
      "------------------------------\n",
      "- Organic Raw Kombucha Gingerade (ID: 30776)\n"
     ]
    },
    {
     "data": {
      "text/html": [
       "<img src=\"https://static.vecteezy.com/system/resources/previews/014/369/640/non_2x/green-pear-juice-glass-icon-cartoon-style-vector.jpg\" width=\"70\"/>"
      ],
      "text/plain": [
       "<IPython.core.display.Image object>"
      ]
     },
     "metadata": {},
     "output_type": "display_data"
    },
    {
     "name": "stdout",
     "output_type": "stream",
     "text": [
      "------------------------------\n",
      "- Organic Hass Avocado (ID: 47209)\n"
     ]
    },
    {
     "data": {
      "text/html": [
       "<img src=\"https://img.freepik.com/vector-premium/ilustracion-brocoli-color-plano-dibujado-mano_614983-6508.jpg\" width=\"70\"/>"
      ],
      "text/plain": [
       "<IPython.core.display.Image object>"
      ]
     },
     "metadata": {},
     "output_type": "display_data"
    },
    {
     "name": "stdout",
     "output_type": "stream",
     "text": [
      "------------------------------\n",
      "- Organic Avocado (ID: 47766)\n"
     ]
    },
    {
     "data": {
      "text/html": [
       "<img src=\"https://img.freepik.com/vector-premium/ilustracion-brocoli-color-plano-dibujado-mano_614983-6508.jpg\" width=\"70\"/>"
      ],
      "text/plain": [
       "<IPython.core.display.Image object>"
      ]
     },
     "metadata": {},
     "output_type": "display_data"
    },
    {
     "name": "stdout",
     "output_type": "stream",
     "text": [
      "------------------------------\n"
     ]
    }
   ],
   "source": [
    "\n",
    "\n",
    "from IPython.display import display, Image # Asegúrate de que Image esté importado\n",
    "\n",
    "# 1. Mostrar el ID del usuario al que se le recomienda\n",
    "print(f\"Recomendaciones para usuario/a: {user_id}\\n\")\n",
    "\n",
    "print(\"¿Aún no los has probado? Te recomendamos estos productos que seguro que te encantan:\")\n",
    "\n",
    "# 2. Mostrar con imagen: se puede ajustar el valor de 'width' o 'height'\n",
    "\n",
    "image_width = 70 # Define el ancho deseado para la imagen (en píxeles)\n",
    "\n",
    "for _, row in recommended_df.iterrows():\n",
    "    # Muestra el nombre y el ID del producto\n",
    "    print(f\"- {row['product_name']} (ID: {row['product_id']})\")\n",
    "\n",
    "    # Muestra la imagen usando la URL y especificando el ancho\n",
    "    # Si solo especificas width, la altura se ajustará automáticamente para mantener la proporción\n",
    "    # Si especificas ambos (width y height), la imagen podría distorsionarse\n",
    "    try:\n",
    "        # Intentar mostrar la imagen solo si la URL no es nula o vacía (doble seguridad)\n",
    "        if pd.notna(row['image_url']) and row['image_url'] != '':\n",
    "             display(Image(url=row['image_url'], width=image_width))\n",
    "        else:\n",
    "             print(\"  (No hay imagen disponible para este producto)\")\n",
    "    except Exception as e:\n",
    "        # Manejar posibles errores al cargar la imagen\n",
    "        print(f\"  (Error al mostrar imagen: {e})\")\n",
    "        print(f\"  URL: {row['image_url']}\")\n",
    "\n",
    "\n",
    "    # Separador entre productos para mayor claridad\n",
    "    print(\"-\" * 30)"
   ]
  },
  {
   "cell_type": "code",
   "execution_count": null,
   "id": "7f885849",
   "metadata": {},
   "outputs": [
    {
     "name": "stdout",
     "output_type": "stream",
     "text": [
      "Tu número de cliente es el 68660 ¿Todavía no has probado estos productos? Sabemos que te van a encantar :)\n",
      "Kombucha Gingerade (ID: 1710)\n",
      "Organic Lemon (ID: 5876)\n",
      "Olive Oil & Vinegar Dressing (ID: 7821)\n",
      "Chocolate Chip Cookie Dough Ice Cream (ID: 12276)\n",
      "Apple Cider Vinegar (ID: 18963)\n",
      "Organic Baby Spinach (ID: 21903)\n",
      "Pita Chips Simply Naked (ID: 25824)\n",
      "Organic Raw Kombucha Gingerade (ID: 30776)\n",
      "Organic Hass Avocado (ID: 47209)\n",
      "Organic Avocado (ID: 47766)\n"
     ]
    },
    {
     "data": {
      "text/html": [
       "<table><tr><td><div style=\"text-align:center; vertical-align:top; padding:10px;\"><img src=\"https://static.vecteezy.com/system/resources/previews/014/369/640/non_2x/green-pear-juice-glass-icon-cartoon-style-vector.jpg\" style=\"max-width:100px; max-height:100px;\"><br><strong>Kombucha Gingerade</strong><br>(ID: 1710)<br><small>beverages</small></div></td><td><div style=\"text-align:center; vertical-align:top; padding:10px;\"><img src=\"https://img.freepik.com/vector-premium/ilustracion-brocoli-color-plano-dibujado-mano_614983-6508.jpg\" style=\"max-width:100px; max-height:100px;\"><br><strong>Organic Lemon</strong><br>(ID: 5876)<br><small>produce</small></div></td><td><div style=\"text-align:center; vertical-align:top; padding:10px;\"><img src=\"https://static.vecteezy.com/system/resources/previews/013/509/617/original/salt-cellar-illustration-on-white-background-free-vector.jpg\" style=\"max-width:100px; max-height:100px;\"><br><strong>Olive Oil & Vinegar Dressing</strong><br>(ID: 7821)<br><small>pantry</small></div></td><td><div style=\"text-align:center; vertical-align:top; padding:10px;\"><img src=\"https://img.freepik.com/vector-premium/ilustracion-vectorial-fusion-cristales-cuadrados-azules_1137529-31387.jpg\" style=\"max-width:100px; max-height:100px;\"><br><strong>Chocolate Chip Cookie Dough Ice Cream</strong><br>(ID: 12276)<br><small>frozen</small></div></td><td><div style=\"text-align:center; vertical-align:top; padding:10px;\"><img src=\"https://static.vecteezy.com/system/resources/previews/013/509/617/original/salt-cellar-illustration-on-white-background-free-vector.jpg\" style=\"max-width:100px; max-height:100px;\"><br><strong>Apple Cider Vinegar</strong><br>(ID: 18963)<br><small>pantry</small></div></td></tr><tr><td><div style=\"text-align:center; vertical-align:top; padding:10px;\"><img src=\"https://img.freepik.com/vector-premium/ilustracion-brocoli-color-plano-dibujado-mano_614983-6508.jpg\" style=\"max-width:100px; max-height:100px;\"><br><strong>Organic Baby Spinach</strong><br>(ID: 21903)<br><small>produce</small></div></td><td><div style=\"text-align:center; vertical-align:top; padding:10px;\"><img src=\"https://static.vecteezy.com/system/resources/previews/011/188/971/original/snack-chips-bag-plastic-packaging-design-illustration-icon-for-food-and-beverage-business-potato-snack-branding-element-logo-vector.jpg\" style=\"max-width:100px; max-height:100px;\"><br><strong>Pita Chips Simply Naked</strong><br>(ID: 25824)<br><small>snacks</small></div></td><td><div style=\"text-align:center; vertical-align:top; padding:10px;\"><img src=\"https://static.vecteezy.com/system/resources/previews/014/369/640/non_2x/green-pear-juice-glass-icon-cartoon-style-vector.jpg\" style=\"max-width:100px; max-height:100px;\"><br><strong>Organic Raw Kombucha Gingerade</strong><br>(ID: 30776)<br><small>beverages</small></div></td><td><div style=\"text-align:center; vertical-align:top; padding:10px;\"><img src=\"https://img.freepik.com/vector-premium/ilustracion-brocoli-color-plano-dibujado-mano_614983-6508.jpg\" style=\"max-width:100px; max-height:100px;\"><br><strong>Organic Hass Avocado</strong><br>(ID: 47209)<br><small>produce</small></div></td><td><div style=\"text-align:center; vertical-align:top; padding:10px;\"><img src=\"https://img.freepik.com/vector-premium/ilustracion-brocoli-color-plano-dibujado-mano_614983-6508.jpg\" style=\"max-width:100px; max-height:100px;\"><br><strong>Organic Avocado</strong><br>(ID: 47766)<br><small>produce</small></div></td></tr></table>"
      ],
      "text/plain": [
       "<IPython.core.display.HTML object>"
      ]
     },
     "metadata": {},
     "output_type": "display_data"
    }
   ],
   "source": [
    "import random\n",
    "# Por ejemplo: recomendar productos para el usuario X\n",
    "user_id = random.choice(user_product_interactions[\"user_id\"].unique())\n",
    "print(f\"Tu número de cliente es el {user_id} ¿Todavía no has probado estos productos? Sabemos que te van a encantar :)\")\n",
    "\n",
    "distances, indices = busco_vecinos_similares_knn_model.kneighbors(sparse_matrix[user_id], n_neighbors=10)\n",
    "\n",
    "# Vamos a recomendar productos que compraron los usuarios similares\n",
    "similar_users = indices[0][1:]  # quitamos el propio usuario\n",
    "\n",
    "# Encuentra todos los productos que han comprado esos usuarios similares\n",
    "similar_users_products = sparse_matrix[similar_users].nonzero()[1]\n",
    "\n",
    "# Contamos cuántas veces aparece cada producto\n",
    "from collections import Counter\n",
    "product_counts = Counter(similar_users_products)\n",
    "\n",
    "# Ordenamos los productos por frecuencia y elegimos los más comunes\n",
    "recommended_products = [prod for prod, count in product_counts.most_common(10)]\n",
    "\n",
    "recommended_df = products[products['product_id'].isin(recommended_products)]\n",
    "\n",
    "for _, row in recommended_df.iterrows():\n",
    "    print(f\"{row['product_name']} (ID: {row['product_id']})\")\n",
    "\n",
    "\n",
    "from IPython.display import display, HTML\n",
    "\n",
    "\n",
    "# --- Preparar las celdas HTML para cada producto ---\n",
    "image_width = 100 # Define el ancho deseado para las imágenes en la tabla\n",
    "cell_style = \"text-align:center; vertical-align:top; padding:10px;\" # Estilo para cada celda de la tabla\n",
    "img_style = f\"max-width:{image_width}px; max-height:{image_width}px;\" # Estilo para las imágenes\n",
    "\n",
    "all_cells_html = [] # Lista para guardar el HTML de cada celda de producto\n",
    "\n",
    "# Itera sobre el DataFrame de productos recomendados\n",
    "# Asegúrate de que recommended_df tiene exactamente las 10 filas que esperas,\n",
    "# o maneja el caso si hay menos.\n",
    "for index, row in recommended_df.iterrows():\n",
    "    product_name = row.get('product_name', 'Nombre desconocido')\n",
    "    product_id = row.get('product_id', 'ID desconocido')\n",
    "    department = row.get('department', 'Departamento desconocido')\n",
    "    image_url = row.get('image_url')\n",
    "\n",
    "    # Construir el contenido HTML para una sola celda de producto\n",
    "    item_html = f'<div style=\"{cell_style}\">' # Usamos un div dentro de la celda para mejor control\n",
    "\n",
    "    # Añadir la imagen o un placeholder si falta\n",
    "    if pd.notna(image_url) and str(image_url).strip() != '':\n",
    "        # try/except para la carga de imagen no es necesario aquí,\n",
    "        # el navegador simplemente mostrará un icono roto si la URL es inválida\n",
    "        item_html += f'<img src=\"{image_url}\" style=\"{img_style}\"><br>'\n",
    "    else:\n",
    "        # Placeholder si no hay imagen\n",
    "        item_html += f'<div style=\"{img_style} border:1px solid #ccc; display:inline-block; line-height:{image_width}px;\">No Image</div><br>'\n",
    "\n",
    "\n",
    "    # Añadir el nombre del producto y otros detalles\n",
    "    item_html += f'<strong>{product_name}</strong><br>'\n",
    "    item_html += f'(ID: {product_id})<br>'\n",
    "    item_html += f'<small>{department}</small>' # Mostrar departamento también\n",
    "\n",
    "    item_html += '</div>' # Cerrar el div\n",
    "\n",
    "    # Envolver el contenido del ítem en una celda de tabla (<td>)\n",
    "    cell_html = f'<td>{item_html}</td>'\n",
    "\n",
    "    all_cells_html.append(cell_html)\n",
    "\n",
    "\n",
    "# --- Construir la estructura de la tabla HTML (2x5) ---\n",
    "table_html = '<table>'\n",
    "\n",
    "# Primera fila (5 productos)\n",
    "table_html += '<tr>'\n",
    "for i in range(5):\n",
    "    if i < len(all_cells_html): # Asegura que no intentas acceder a un índice que no existe\n",
    "        table_html += all_cells_html[i]\n",
    "    else:\n",
    "        # Añadir celdas vacías si hay menos de 10 productos recomendados\n",
    "        table_html += '<td></td>'\n",
    "table_html += '</tr>'\n",
    "\n",
    "# Segunda fila (los siguientes 5 productos)\n",
    "table_html += '<tr>'\n",
    "for i in range(5, 10): # Empieza desde el índice 5\n",
    "    if i < len(all_cells_html):\n",
    "        table_html += all_cells_html[i]\n",
    "    else:\n",
    "        # Añadir celdas vacías si hay menos de 10 productos recomendados\n",
    "        table_html += '<td></td>'\n",
    "table_html += '</tr>'\n",
    "\n",
    "table_html += '</table>'\n",
    "\n",
    "# --- Mostrar la tabla HTML en Jupyter ---\n",
    "display(HTML(table_html))"
   ]
  }
 ],
 "metadata": {
  "kernelspec": {
   "display_name": "Python 3",
   "language": "python",
   "name": "python3"
  },
  "language_info": {
   "codemirror_mode": {
    "name": "ipython",
    "version": 3
   },
   "file_extension": ".py",
   "mimetype": "text/x-python",
   "name": "python",
   "nbconvert_exporter": "python",
   "pygments_lexer": "ipython3",
   "version": "3.11.9"
  }
 },
 "nbformat": 4,
 "nbformat_minor": 5
}
