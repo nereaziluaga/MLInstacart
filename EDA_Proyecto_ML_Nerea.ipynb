{
 "cells": [
  {
   "cell_type": "markdown",
   "id": "d9f34cc1",
   "metadata": {},
   "source": [
    "--------------------------\n",
    "PROYECTO MACHINE LEARNING: Instacart Market Basket Analysis\n",
    "---------------------------"
   ]
  },
  {
   "cell_type": "markdown",
   "id": "9cfc139d",
   "metadata": {},
   "source": [
    "1. Segmentación de clientes (Clustering)\n",
    "2. Sistema de recomendación de productos\n",
    "\n"
   ]
  },
  {
   "cell_type": "code",
   "execution_count": 7,
   "id": "7b7abb6a",
   "metadata": {},
   "outputs": [],
   "source": [
    "\n",
    "\n",
    "# Importar librerías necesarias\n",
    "import pandas as pd\n",
    "import numpy as np\n",
    "import matplotlib.pyplot as plt\n",
    "import seaborn as sns\n",
    "\n",
    "# Configuración de estilos\n",
    "sns.set(style='whitegrid')\n",
    "%matplotlib inline\n"
   ]
  },
  {
   "cell_type": "markdown",
   "id": "dddc68c4",
   "metadata": {},
   "source": [
    "Mis datasets\n",
    "-----"
   ]
  },
  {
   "cell_type": "code",
   "execution_count": 3,
   "id": "99ad9f9e",
   "metadata": {},
   "outputs": [],
   "source": [
    "\n",
    "# Cargar los datos\n",
    "orders = pd.read_csv('../data/orders.csv')\n",
    "order_products_prior = pd.read_csv('../data/order_products__prior.csv')\n",
    "products = pd.read_csv('../data/products.csv')\n",
    "aisles = pd.read_csv('../data/aisles.csv')\n",
    "departments = pd.read_csv('../data/departments.csv')\n",
    "\n",
    "\n",
    "\n"
   ]
  },
  {
   "cell_type": "code",
   "execution_count": 14,
   "id": "958395dc",
   "metadata": {},
   "outputs": [
    {
     "data": {
      "text/plain": [
       "<bound method IndexOpsMixin.tolist of Index(['department_id', 'department'], dtype='object')>"
      ]
     },
     "execution_count": 14,
     "metadata": {},
     "output_type": "execute_result"
    }
   ],
   "source": [
    "departments.columns.to_list"
   ]
  },
  {
   "cell_type": "markdown",
   "id": "8f6dbf99",
   "metadata": {},
   "source": [
    "Revisión de valores nulos (NaN)"
   ]
  },
  {
   "cell_type": "code",
   "execution_count": 4,
   "id": "6c8234fe",
   "metadata": {},
   "outputs": [
    {
     "name": "stdout",
     "output_type": "stream",
     "text": [
      "Valores nulos en 'orders':\n",
      "order_id                       0\n",
      "user_id                        0\n",
      "eval_set                       0\n",
      "order_number                   0\n",
      "order_dow                      0\n",
      "order_hour_of_day              0\n",
      "days_since_prior_order    206209\n",
      "dtype: int64\n",
      "\n",
      "Valores nulos en 'order_products_prior':\n",
      "order_id             0\n",
      "product_id           0\n",
      "add_to_cart_order    0\n",
      "reordered            0\n",
      "dtype: int64\n",
      "\n",
      "Valores nulos en 'products':\n",
      "product_id       0\n",
      "product_name     0\n",
      "aisle_id         0\n",
      "department_id    0\n",
      "dtype: int64\n",
      "\n",
      "Valores nulos en 'aisles':\n",
      "aisle_id    0\n",
      "aisle       0\n",
      "dtype: int64\n",
      "\n",
      "Valores nulos en 'departments':\n",
      "department_id    0\n",
      "department       0\n",
      "dtype: int64\n"
     ]
    }
   ],
   "source": [
    "# Verificar valores nulos en los datasets principales\n",
    "print(\"Valores nulos en 'orders':\")\n",
    "print(orders.isnull().sum())\n",
    "print(\"\\nValores nulos en 'order_products_prior':\")\n",
    "print(order_products_prior.isnull().sum())\n",
    "print(\"\\nValores nulos en 'products':\")\n",
    "print(products.isnull().sum())\n",
    "print(\"\\nValores nulos en 'aisles':\")\n",
    "print(aisles.isnull().sum())\n",
    "print(\"\\nValores nulos en 'departments':\")\n",
    "print(departments.isnull().sum())\n"
   ]
  },
  {
   "cell_type": "markdown",
   "id": "8e16e4f0",
   "metadata": {},
   "source": [
    "Revisión y explicación de cada uno de los datasets"
   ]
  },
  {
   "cell_type": "code",
   "execution_count": 5,
   "id": "6a398876",
   "metadata": {},
   "outputs": [
    {
     "data": {
      "application/vnd.microsoft.datawrangler.viewer.v0+json": {
       "columns": [
        {
         "name": "index",
         "rawType": "int64",
         "type": "integer"
        },
        {
         "name": "order_id",
         "rawType": "int64",
         "type": "integer"
        },
        {
         "name": "user_id",
         "rawType": "int64",
         "type": "integer"
        },
        {
         "name": "eval_set",
         "rawType": "object",
         "type": "string"
        },
        {
         "name": "order_number",
         "rawType": "int64",
         "type": "integer"
        },
        {
         "name": "order_dow",
         "rawType": "int64",
         "type": "integer"
        },
        {
         "name": "order_hour_of_day",
         "rawType": "int64",
         "type": "integer"
        },
        {
         "name": "days_since_prior_order",
         "rawType": "float64",
         "type": "float"
        }
       ],
       "conversionMethod": "pd.DataFrame",
       "ref": "9facb326-fdf1-431c-8549-f1ab2c3c6063",
       "rows": [
        [
         "0",
         "2539329",
         "1",
         "prior",
         "1",
         "2",
         "8",
         null
        ],
        [
         "1",
         "2398795",
         "1",
         "prior",
         "2",
         "3",
         "7",
         "15.0"
        ],
        [
         "2",
         "473747",
         "1",
         "prior",
         "3",
         "3",
         "12",
         "21.0"
        ],
        [
         "3",
         "2254736",
         "1",
         "prior",
         "4",
         "4",
         "7",
         "29.0"
        ],
        [
         "4",
         "431534",
         "1",
         "prior",
         "5",
         "4",
         "15",
         "28.0"
        ],
        [
         "5",
         "3367565",
         "1",
         "prior",
         "6",
         "2",
         "7",
         "19.0"
        ],
        [
         "6",
         "550135",
         "1",
         "prior",
         "7",
         "1",
         "9",
         "20.0"
        ],
        [
         "7",
         "3108588",
         "1",
         "prior",
         "8",
         "1",
         "14",
         "14.0"
        ],
        [
         "8",
         "2295261",
         "1",
         "prior",
         "9",
         "1",
         "16",
         "0.0"
        ],
        [
         "9",
         "2550362",
         "1",
         "prior",
         "10",
         "4",
         "8",
         "30.0"
        ],
        [
         "10",
         "1187899",
         "1",
         "train",
         "11",
         "4",
         "8",
         "14.0"
        ],
        [
         "11",
         "2168274",
         "2",
         "prior",
         "1",
         "2",
         "11",
         null
        ],
        [
         "12",
         "1501582",
         "2",
         "prior",
         "2",
         "5",
         "10",
         "10.0"
        ],
        [
         "13",
         "1901567",
         "2",
         "prior",
         "3",
         "1",
         "10",
         "3.0"
        ],
        [
         "14",
         "738281",
         "2",
         "prior",
         "4",
         "2",
         "10",
         "8.0"
        ],
        [
         "15",
         "1673511",
         "2",
         "prior",
         "5",
         "3",
         "11",
         "8.0"
        ],
        [
         "16",
         "1199898",
         "2",
         "prior",
         "6",
         "2",
         "9",
         "13.0"
        ],
        [
         "17",
         "3194192",
         "2",
         "prior",
         "7",
         "2",
         "12",
         "14.0"
        ],
        [
         "18",
         "788338",
         "2",
         "prior",
         "8",
         "1",
         "15",
         "27.0"
        ],
        [
         "19",
         "1718559",
         "2",
         "prior",
         "9",
         "2",
         "9",
         "8.0"
        ],
        [
         "20",
         "1447487",
         "2",
         "prior",
         "10",
         "1",
         "11",
         "6.0"
        ],
        [
         "21",
         "1402090",
         "2",
         "prior",
         "11",
         "1",
         "10",
         "30.0"
        ],
        [
         "22",
         "3186735",
         "2",
         "prior",
         "12",
         "1",
         "9",
         "28.0"
        ],
        [
         "23",
         "3268552",
         "2",
         "prior",
         "13",
         "4",
         "11",
         "30.0"
        ],
        [
         "24",
         "839880",
         "2",
         "prior",
         "14",
         "3",
         "10",
         "13.0"
        ],
        [
         "25",
         "1492625",
         "2",
         "train",
         "15",
         "1",
         "11",
         "30.0"
        ],
        [
         "26",
         "1374495",
         "3",
         "prior",
         "1",
         "1",
         "14",
         null
        ],
        [
         "27",
         "444309",
         "3",
         "prior",
         "2",
         "3",
         "19",
         "9.0"
        ],
        [
         "28",
         "3002854",
         "3",
         "prior",
         "3",
         "3",
         "16",
         "21.0"
        ],
        [
         "29",
         "2037211",
         "3",
         "prior",
         "4",
         "2",
         "18",
         "20.0"
        ],
        [
         "30",
         "2710558",
         "3",
         "prior",
         "5",
         "0",
         "17",
         "12.0"
        ],
        [
         "31",
         "1972919",
         "3",
         "prior",
         "6",
         "0",
         "16",
         "7.0"
        ],
        [
         "32",
         "1839752",
         "3",
         "prior",
         "7",
         "0",
         "15",
         "7.0"
        ],
        [
         "33",
         "3225766",
         "3",
         "prior",
         "8",
         "0",
         "17",
         "7.0"
        ],
        [
         "34",
         "3160850",
         "3",
         "prior",
         "9",
         "0",
         "16",
         "7.0"
        ],
        [
         "35",
         "676467",
         "3",
         "prior",
         "10",
         "3",
         "16",
         "17.0"
        ],
        [
         "36",
         "521107",
         "3",
         "prior",
         "11",
         "0",
         "18",
         "11.0"
        ],
        [
         "37",
         "1402502",
         "3",
         "prior",
         "12",
         "1",
         "15",
         "15.0"
        ],
        [
         "38",
         "2774568",
         "3",
         "test",
         "13",
         "5",
         "15",
         "11.0"
        ],
        [
         "39",
         "3343014",
         "4",
         "prior",
         "1",
         "6",
         "11",
         null
        ],
        [
         "40",
         "2030307",
         "4",
         "prior",
         "2",
         "4",
         "11",
         "19.0"
        ],
        [
         "41",
         "691089",
         "4",
         "prior",
         "3",
         "4",
         "15",
         "21.0"
        ],
        [
         "42",
         "94891",
         "4",
         "prior",
         "4",
         "5",
         "13",
         "15.0"
        ],
        [
         "43",
         "2557754",
         "4",
         "prior",
         "5",
         "5",
         "13",
         "0.0"
        ],
        [
         "44",
         "329954",
         "4",
         "test",
         "6",
         "3",
         "12",
         "30.0"
        ],
        [
         "45",
         "2717275",
         "5",
         "prior",
         "1",
         "3",
         "12",
         null
        ],
        [
         "46",
         "1909121",
         "5",
         "prior",
         "2",
         "0",
         "16",
         "11.0"
        ],
        [
         "47",
         "2267326",
         "5",
         "prior",
         "3",
         "3",
         "18",
         "10.0"
        ],
        [
         "48",
         "157374",
         "5",
         "prior",
         "4",
         "1",
         "18",
         "19.0"
        ],
        [
         "49",
         "2196797",
         "5",
         "train",
         "5",
         "0",
         "11",
         "6.0"
        ]
       ],
       "shape": {
        "columns": 7,
        "rows": 3421083
       }
      },
      "text/html": [
       "<div>\n",
       "<style scoped>\n",
       "    .dataframe tbody tr th:only-of-type {\n",
       "        vertical-align: middle;\n",
       "    }\n",
       "\n",
       "    .dataframe tbody tr th {\n",
       "        vertical-align: top;\n",
       "    }\n",
       "\n",
       "    .dataframe thead th {\n",
       "        text-align: right;\n",
       "    }\n",
       "</style>\n",
       "<table border=\"1\" class=\"dataframe\">\n",
       "  <thead>\n",
       "    <tr style=\"text-align: right;\">\n",
       "      <th></th>\n",
       "      <th>order_id</th>\n",
       "      <th>user_id</th>\n",
       "      <th>eval_set</th>\n",
       "      <th>order_number</th>\n",
       "      <th>order_dow</th>\n",
       "      <th>order_hour_of_day</th>\n",
       "      <th>days_since_prior_order</th>\n",
       "    </tr>\n",
       "  </thead>\n",
       "  <tbody>\n",
       "    <tr>\n",
       "      <th>0</th>\n",
       "      <td>2539329</td>\n",
       "      <td>1</td>\n",
       "      <td>prior</td>\n",
       "      <td>1</td>\n",
       "      <td>2</td>\n",
       "      <td>8</td>\n",
       "      <td>NaN</td>\n",
       "    </tr>\n",
       "    <tr>\n",
       "      <th>1</th>\n",
       "      <td>2398795</td>\n",
       "      <td>1</td>\n",
       "      <td>prior</td>\n",
       "      <td>2</td>\n",
       "      <td>3</td>\n",
       "      <td>7</td>\n",
       "      <td>15.0</td>\n",
       "    </tr>\n",
       "    <tr>\n",
       "      <th>2</th>\n",
       "      <td>473747</td>\n",
       "      <td>1</td>\n",
       "      <td>prior</td>\n",
       "      <td>3</td>\n",
       "      <td>3</td>\n",
       "      <td>12</td>\n",
       "      <td>21.0</td>\n",
       "    </tr>\n",
       "    <tr>\n",
       "      <th>3</th>\n",
       "      <td>2254736</td>\n",
       "      <td>1</td>\n",
       "      <td>prior</td>\n",
       "      <td>4</td>\n",
       "      <td>4</td>\n",
       "      <td>7</td>\n",
       "      <td>29.0</td>\n",
       "    </tr>\n",
       "    <tr>\n",
       "      <th>4</th>\n",
       "      <td>431534</td>\n",
       "      <td>1</td>\n",
       "      <td>prior</td>\n",
       "      <td>5</td>\n",
       "      <td>4</td>\n",
       "      <td>15</td>\n",
       "      <td>28.0</td>\n",
       "    </tr>\n",
       "    <tr>\n",
       "      <th>...</th>\n",
       "      <td>...</td>\n",
       "      <td>...</td>\n",
       "      <td>...</td>\n",
       "      <td>...</td>\n",
       "      <td>...</td>\n",
       "      <td>...</td>\n",
       "      <td>...</td>\n",
       "    </tr>\n",
       "    <tr>\n",
       "      <th>3421078</th>\n",
       "      <td>2266710</td>\n",
       "      <td>206209</td>\n",
       "      <td>prior</td>\n",
       "      <td>10</td>\n",
       "      <td>5</td>\n",
       "      <td>18</td>\n",
       "      <td>29.0</td>\n",
       "    </tr>\n",
       "    <tr>\n",
       "      <th>3421079</th>\n",
       "      <td>1854736</td>\n",
       "      <td>206209</td>\n",
       "      <td>prior</td>\n",
       "      <td>11</td>\n",
       "      <td>4</td>\n",
       "      <td>10</td>\n",
       "      <td>30.0</td>\n",
       "    </tr>\n",
       "    <tr>\n",
       "      <th>3421080</th>\n",
       "      <td>626363</td>\n",
       "      <td>206209</td>\n",
       "      <td>prior</td>\n",
       "      <td>12</td>\n",
       "      <td>1</td>\n",
       "      <td>12</td>\n",
       "      <td>18.0</td>\n",
       "    </tr>\n",
       "    <tr>\n",
       "      <th>3421081</th>\n",
       "      <td>2977660</td>\n",
       "      <td>206209</td>\n",
       "      <td>prior</td>\n",
       "      <td>13</td>\n",
       "      <td>1</td>\n",
       "      <td>12</td>\n",
       "      <td>7.0</td>\n",
       "    </tr>\n",
       "    <tr>\n",
       "      <th>3421082</th>\n",
       "      <td>272231</td>\n",
       "      <td>206209</td>\n",
       "      <td>train</td>\n",
       "      <td>14</td>\n",
       "      <td>6</td>\n",
       "      <td>14</td>\n",
       "      <td>30.0</td>\n",
       "    </tr>\n",
       "  </tbody>\n",
       "</table>\n",
       "<p>3421083 rows × 7 columns</p>\n",
       "</div>"
      ],
      "text/plain": [
       "         order_id  user_id eval_set  order_number  order_dow  \\\n",
       "0         2539329        1    prior             1          2   \n",
       "1         2398795        1    prior             2          3   \n",
       "2          473747        1    prior             3          3   \n",
       "3         2254736        1    prior             4          4   \n",
       "4          431534        1    prior             5          4   \n",
       "...           ...      ...      ...           ...        ...   \n",
       "3421078   2266710   206209    prior            10          5   \n",
       "3421079   1854736   206209    prior            11          4   \n",
       "3421080    626363   206209    prior            12          1   \n",
       "3421081   2977660   206209    prior            13          1   \n",
       "3421082    272231   206209    train            14          6   \n",
       "\n",
       "         order_hour_of_day  days_since_prior_order  \n",
       "0                        8                     NaN  \n",
       "1                        7                    15.0  \n",
       "2                       12                    21.0  \n",
       "3                        7                    29.0  \n",
       "4                       15                    28.0  \n",
       "...                    ...                     ...  \n",
       "3421078                 18                    29.0  \n",
       "3421079                 10                    30.0  \n",
       "3421080                 12                    18.0  \n",
       "3421081                 12                     7.0  \n",
       "3421082                 14                    30.0  \n",
       "\n",
       "[3421083 rows x 7 columns]"
      ]
     },
     "execution_count": 5,
     "metadata": {},
     "output_type": "execute_result"
    }
   ],
   "source": [
    "orders"
   ]
  },
  {
   "cell_type": "markdown",
   "id": "1d9019fd",
   "metadata": {},
   "source": [
    "| Columna                  | Descripción                                                                                                                 |\n",
    "| ------------------------ | --------------------------------------------------------------------------------------------------------------------------- |\n",
    "| `order_id`               | Identificador único del pedido.                                                                                             |\n",
    "| `user_id`                | Identificador único del usuario que hizo el pedido.                                                                         |\n",
    "| `eval_set`               | Conjunto de datos (train, test, validation). Indica si el pedido está en el conjunto de entrenamiento, prueba o validación. |\n",
    "| `order_number`           | Número del pedido. El primer pedido de un usuario será `1`, el segundo será `2`, etc.                                       |\n",
    "| `order_dow`              | Día de la semana en que se hizo el pedido (0 = lunes, 1 = martes, ..., 6 = domingo).                                        |\n",
    "| `order_hour_of_day`      | Hora del día en la que se hizo el pedido (0 a 23).                                                                          |\n",
    "| `days_since_prior_order` | Días transcurridos desde el último pedido. Si es el primer pedido, será `NaN`.                                              |\n"
   ]
  },
  {
   "cell_type": "code",
   "execution_count": 6,
   "id": "c536292d",
   "metadata": {},
   "outputs": [
    {
     "data": {
      "application/vnd.microsoft.datawrangler.viewer.v0+json": {
       "columns": [
        {
         "name": "index",
         "rawType": "int64",
         "type": "integer"
        },
        {
         "name": "order_id",
         "rawType": "int64",
         "type": "integer"
        },
        {
         "name": "product_id",
         "rawType": "int64",
         "type": "integer"
        },
        {
         "name": "add_to_cart_order",
         "rawType": "int64",
         "type": "integer"
        },
        {
         "name": "reordered",
         "rawType": "int64",
         "type": "integer"
        }
       ],
       "conversionMethod": "pd.DataFrame",
       "ref": "bfbf16ca-0cf1-4063-bdfe-3b363f9d2267",
       "rows": [
        [
         "0",
         "2",
         "33120",
         "1",
         "1"
        ],
        [
         "1",
         "2",
         "28985",
         "2",
         "1"
        ],
        [
         "2",
         "2",
         "9327",
         "3",
         "0"
        ],
        [
         "3",
         "2",
         "45918",
         "4",
         "1"
        ],
        [
         "4",
         "2",
         "30035",
         "5",
         "0"
        ]
       ],
       "shape": {
        "columns": 4,
        "rows": 5
       }
      },
      "text/html": [
       "<div>\n",
       "<style scoped>\n",
       "    .dataframe tbody tr th:only-of-type {\n",
       "        vertical-align: middle;\n",
       "    }\n",
       "\n",
       "    .dataframe tbody tr th {\n",
       "        vertical-align: top;\n",
       "    }\n",
       "\n",
       "    .dataframe thead th {\n",
       "        text-align: right;\n",
       "    }\n",
       "</style>\n",
       "<table border=\"1\" class=\"dataframe\">\n",
       "  <thead>\n",
       "    <tr style=\"text-align: right;\">\n",
       "      <th></th>\n",
       "      <th>order_id</th>\n",
       "      <th>product_id</th>\n",
       "      <th>add_to_cart_order</th>\n",
       "      <th>reordered</th>\n",
       "    </tr>\n",
       "  </thead>\n",
       "  <tbody>\n",
       "    <tr>\n",
       "      <th>0</th>\n",
       "      <td>2</td>\n",
       "      <td>33120</td>\n",
       "      <td>1</td>\n",
       "      <td>1</td>\n",
       "    </tr>\n",
       "    <tr>\n",
       "      <th>1</th>\n",
       "      <td>2</td>\n",
       "      <td>28985</td>\n",
       "      <td>2</td>\n",
       "      <td>1</td>\n",
       "    </tr>\n",
       "    <tr>\n",
       "      <th>2</th>\n",
       "      <td>2</td>\n",
       "      <td>9327</td>\n",
       "      <td>3</td>\n",
       "      <td>0</td>\n",
       "    </tr>\n",
       "    <tr>\n",
       "      <th>3</th>\n",
       "      <td>2</td>\n",
       "      <td>45918</td>\n",
       "      <td>4</td>\n",
       "      <td>1</td>\n",
       "    </tr>\n",
       "    <tr>\n",
       "      <th>4</th>\n",
       "      <td>2</td>\n",
       "      <td>30035</td>\n",
       "      <td>5</td>\n",
       "      <td>0</td>\n",
       "    </tr>\n",
       "  </tbody>\n",
       "</table>\n",
       "</div>"
      ],
      "text/plain": [
       "   order_id  product_id  add_to_cart_order  reordered\n",
       "0         2       33120                  1          1\n",
       "1         2       28985                  2          1\n",
       "2         2        9327                  3          0\n",
       "3         2       45918                  4          1\n",
       "4         2       30035                  5          0"
      ]
     },
     "execution_count": 6,
     "metadata": {},
     "output_type": "execute_result"
    }
   ],
   "source": [
    "order_products_prior.head()"
   ]
  },
  {
   "cell_type": "markdown",
   "id": "96ed48c4",
   "metadata": {},
   "source": [
    "| Columna             | Descripción                                                                  |\n",
    "| ------------------- | ---------------------------------------------------------------------------- |\n",
    "| `order_id`          | Identificador único del pedido. Relacionado con `orders.csv`.                |\n",
    "| `product_id`        | Identificador único del producto comprado. Relacionado con `products.csv`.   |\n",
    "| `add_to_cart_order` | Posición en que el producto fue añadido al carrito de compras en ese pedido. |\n",
    "| `reordered`         | Si el producto fue **vuelto a ordenar** en ese pedido (1 = sí, 0 = no).      |\n"
   ]
  },
  {
   "cell_type": "code",
   "execution_count": 8,
   "id": "d1d3073e",
   "metadata": {},
   "outputs": [
    {
     "data": {
      "application/vnd.microsoft.datawrangler.viewer.v0+json": {
       "columns": [
        {
         "name": "index",
         "rawType": "int64",
         "type": "integer"
        },
        {
         "name": "product_id",
         "rawType": "int64",
         "type": "integer"
        },
        {
         "name": "product_name",
         "rawType": "object",
         "type": "string"
        },
        {
         "name": "aisle_id",
         "rawType": "int64",
         "type": "integer"
        },
        {
         "name": "department_id",
         "rawType": "int64",
         "type": "integer"
        }
       ],
       "conversionMethod": "pd.DataFrame",
       "ref": "bcc4bfbc-5bf6-4a7a-86fa-2412af6def97",
       "rows": [
        [
         "0",
         "1",
         "Chocolate Sandwich Cookies",
         "61",
         "19"
        ],
        [
         "1",
         "2",
         "All-Seasons Salt",
         "104",
         "13"
        ],
        [
         "2",
         "3",
         "Robust Golden Unsweetened Oolong Tea",
         "94",
         "7"
        ],
        [
         "3",
         "4",
         "Smart Ones Classic Favorites Mini Rigatoni With Vodka Cream Sauce",
         "38",
         "1"
        ],
        [
         "4",
         "5",
         "Green Chile Anytime Sauce",
         "5",
         "13"
        ],
        [
         "5",
         "6",
         "Dry Nose Oil",
         "11",
         "11"
        ],
        [
         "6",
         "7",
         "Pure Coconut Water With Orange",
         "98",
         "7"
        ],
        [
         "7",
         "8",
         "Cut Russet Potatoes Steam N' Mash",
         "116",
         "1"
        ],
        [
         "8",
         "9",
         "Light Strawberry Blueberry Yogurt",
         "120",
         "16"
        ],
        [
         "9",
         "10",
         "Sparkling Orange Juice & Prickly Pear Beverage",
         "115",
         "7"
        ],
        [
         "10",
         "11",
         "Peach Mango Juice",
         "31",
         "7"
        ],
        [
         "11",
         "12",
         "Chocolate Fudge Layer Cake",
         "119",
         "1"
        ],
        [
         "12",
         "13",
         "Saline Nasal Mist",
         "11",
         "11"
        ],
        [
         "13",
         "14",
         "Fresh Scent Dishwasher Cleaner",
         "74",
         "17"
        ],
        [
         "14",
         "15",
         "Overnight Diapers Size 6",
         "56",
         "18"
        ],
        [
         "15",
         "16",
         "Mint Chocolate Flavored Syrup",
         "103",
         "19"
        ],
        [
         "16",
         "17",
         "Rendered Duck Fat",
         "35",
         "12"
        ],
        [
         "17",
         "18",
         "Pizza for One Suprema  Frozen Pizza",
         "79",
         "1"
        ],
        [
         "18",
         "19",
         "Gluten Free Quinoa Three Cheese & Mushroom Blend",
         "63",
         "9"
        ],
        [
         "19",
         "20",
         "Pomegranate Cranberry & Aloe Vera Enrich Drink",
         "98",
         "7"
        ],
        [
         "20",
         "21",
         "Small & Medium Dental Dog Treats",
         "40",
         "8"
        ],
        [
         "21",
         "22",
         "Fresh Breath Oral Rinse Mild Mint",
         "20",
         "11"
        ],
        [
         "22",
         "23",
         "Organic Turkey Burgers",
         "49",
         "12"
        ],
        [
         "23",
         "24",
         "Tri-Vi-Sol® Vitamins A-C-and D Supplement Drops for Infants",
         "47",
         "11"
        ],
        [
         "24",
         "25",
         "Salted Caramel Lean Protein & Fiber Bar",
         "3",
         "19"
        ],
        [
         "25",
         "26",
         "Fancy Feast Trout Feast Flaked Wet Cat Food",
         "41",
         "8"
        ],
        [
         "26",
         "27",
         "Complete Spring Water Foaming Antibacterial Hand Wash",
         "127",
         "11"
        ],
        [
         "27",
         "28",
         "Wheat Chex Cereal",
         "121",
         "14"
        ],
        [
         "28",
         "29",
         "Fresh Cut Golden Sweet No Salt Added Whole Kernel Corn",
         "81",
         "15"
        ],
        [
         "29",
         "30",
         "Three Cheese Ziti, Marinara with Meatballs",
         "38",
         "1"
        ],
        [
         "30",
         "31",
         "White Pearl Onions",
         "123",
         "4"
        ],
        [
         "31",
         "32",
         "Nacho Cheese White Bean Chips",
         "107",
         "19"
        ],
        [
         "32",
         "33",
         "Organic Spaghetti Style Pasta",
         "131",
         "9"
        ],
        [
         "33",
         "34",
         "Peanut Butter Cereal",
         "121",
         "14"
        ],
        [
         "34",
         "35",
         "Italian Herb Porcini Mushrooms Chicken Sausage",
         "106",
         "12"
        ],
        [
         "35",
         "36",
         "Traditional Lasagna with Meat Sauce Savory Italian Recipes",
         "38",
         "1"
        ],
        [
         "36",
         "37",
         "Noodle Soup Mix With Chicken Broth",
         "69",
         "15"
        ],
        [
         "37",
         "38",
         "Ultra Antibacterial Dish Liquid",
         "100",
         "21"
        ],
        [
         "38",
         "39",
         "Daily Tangerine Citrus Flavored Beverage",
         "64",
         "7"
        ],
        [
         "39",
         "40",
         "Beef Hot Links Beef Smoked Sausage With Chile Peppers",
         "106",
         "12"
        ],
        [
         "40",
         "41",
         "Organic Sourdough Einkorn Crackers Rosemary",
         "78",
         "19"
        ],
        [
         "41",
         "42",
         "Biotin 1000 mcg",
         "47",
         "11"
        ],
        [
         "42",
         "43",
         "Organic Clementines",
         "123",
         "4"
        ],
        [
         "43",
         "44",
         "Sparkling Raspberry Seltzer",
         "115",
         "7"
        ],
        [
         "44",
         "45",
         "European Cucumber",
         "83",
         "4"
        ],
        [
         "45",
         "46",
         "Raisin Cinnamon Bagels 5 count",
         "58",
         "1"
        ],
        [
         "46",
         "47",
         "Onion Flavor Organic Roasted Seaweed Snack",
         "66",
         "6"
        ],
        [
         "47",
         "48",
         "School Glue, Washable, No Run",
         "87",
         "17"
        ],
        [
         "48",
         "49",
         "Vegetarian Grain Meat Sausages Italian - 4 CT",
         "14",
         "20"
        ],
        [
         "49",
         "50",
         "Pumpkin Muffin Mix",
         "105",
         "13"
        ]
       ],
       "shape": {
        "columns": 4,
        "rows": 49688
       }
      },
      "text/html": [
       "<div>\n",
       "<style scoped>\n",
       "    .dataframe tbody tr th:only-of-type {\n",
       "        vertical-align: middle;\n",
       "    }\n",
       "\n",
       "    .dataframe tbody tr th {\n",
       "        vertical-align: top;\n",
       "    }\n",
       "\n",
       "    .dataframe thead th {\n",
       "        text-align: right;\n",
       "    }\n",
       "</style>\n",
       "<table border=\"1\" class=\"dataframe\">\n",
       "  <thead>\n",
       "    <tr style=\"text-align: right;\">\n",
       "      <th></th>\n",
       "      <th>product_id</th>\n",
       "      <th>product_name</th>\n",
       "      <th>aisle_id</th>\n",
       "      <th>department_id</th>\n",
       "    </tr>\n",
       "  </thead>\n",
       "  <tbody>\n",
       "    <tr>\n",
       "      <th>0</th>\n",
       "      <td>1</td>\n",
       "      <td>Chocolate Sandwich Cookies</td>\n",
       "      <td>61</td>\n",
       "      <td>19</td>\n",
       "    </tr>\n",
       "    <tr>\n",
       "      <th>1</th>\n",
       "      <td>2</td>\n",
       "      <td>All-Seasons Salt</td>\n",
       "      <td>104</td>\n",
       "      <td>13</td>\n",
       "    </tr>\n",
       "    <tr>\n",
       "      <th>2</th>\n",
       "      <td>3</td>\n",
       "      <td>Robust Golden Unsweetened Oolong Tea</td>\n",
       "      <td>94</td>\n",
       "      <td>7</td>\n",
       "    </tr>\n",
       "    <tr>\n",
       "      <th>3</th>\n",
       "      <td>4</td>\n",
       "      <td>Smart Ones Classic Favorites Mini Rigatoni Wit...</td>\n",
       "      <td>38</td>\n",
       "      <td>1</td>\n",
       "    </tr>\n",
       "    <tr>\n",
       "      <th>4</th>\n",
       "      <td>5</td>\n",
       "      <td>Green Chile Anytime Sauce</td>\n",
       "      <td>5</td>\n",
       "      <td>13</td>\n",
       "    </tr>\n",
       "    <tr>\n",
       "      <th>...</th>\n",
       "      <td>...</td>\n",
       "      <td>...</td>\n",
       "      <td>...</td>\n",
       "      <td>...</td>\n",
       "    </tr>\n",
       "    <tr>\n",
       "      <th>49683</th>\n",
       "      <td>49684</td>\n",
       "      <td>Vodka, Triple Distilled, Twist of Vanilla</td>\n",
       "      <td>124</td>\n",
       "      <td>5</td>\n",
       "    </tr>\n",
       "    <tr>\n",
       "      <th>49684</th>\n",
       "      <td>49685</td>\n",
       "      <td>En Croute Roast Hazelnut Cranberry</td>\n",
       "      <td>42</td>\n",
       "      <td>1</td>\n",
       "    </tr>\n",
       "    <tr>\n",
       "      <th>49685</th>\n",
       "      <td>49686</td>\n",
       "      <td>Artisan Baguette</td>\n",
       "      <td>112</td>\n",
       "      <td>3</td>\n",
       "    </tr>\n",
       "    <tr>\n",
       "      <th>49686</th>\n",
       "      <td>49687</td>\n",
       "      <td>Smartblend Healthy Metabolism Dry Cat Food</td>\n",
       "      <td>41</td>\n",
       "      <td>8</td>\n",
       "    </tr>\n",
       "    <tr>\n",
       "      <th>49687</th>\n",
       "      <td>49688</td>\n",
       "      <td>Fresh Foaming Cleanser</td>\n",
       "      <td>73</td>\n",
       "      <td>11</td>\n",
       "    </tr>\n",
       "  </tbody>\n",
       "</table>\n",
       "<p>49688 rows × 4 columns</p>\n",
       "</div>"
      ],
      "text/plain": [
       "       product_id                                       product_name  \\\n",
       "0               1                         Chocolate Sandwich Cookies   \n",
       "1               2                                   All-Seasons Salt   \n",
       "2               3               Robust Golden Unsweetened Oolong Tea   \n",
       "3               4  Smart Ones Classic Favorites Mini Rigatoni Wit...   \n",
       "4               5                          Green Chile Anytime Sauce   \n",
       "...           ...                                                ...   \n",
       "49683       49684          Vodka, Triple Distilled, Twist of Vanilla   \n",
       "49684       49685                 En Croute Roast Hazelnut Cranberry   \n",
       "49685       49686                                   Artisan Baguette   \n",
       "49686       49687         Smartblend Healthy Metabolism Dry Cat Food   \n",
       "49687       49688                             Fresh Foaming Cleanser   \n",
       "\n",
       "       aisle_id  department_id  \n",
       "0            61             19  \n",
       "1           104             13  \n",
       "2            94              7  \n",
       "3            38              1  \n",
       "4             5             13  \n",
       "...         ...            ...  \n",
       "49683       124              5  \n",
       "49684        42              1  \n",
       "49685       112              3  \n",
       "49686        41              8  \n",
       "49687        73             11  \n",
       "\n",
       "[49688 rows x 4 columns]"
      ]
     },
     "execution_count": 8,
     "metadata": {},
     "output_type": "execute_result"
    }
   ],
   "source": [
    "products"
   ]
  },
  {
   "cell_type": "markdown",
   "id": "1c140a47",
   "metadata": {},
   "source": [
    "| Columna         | Descripción                                                                                         |\n",
    "| --------------- | --------------------------------------------------------------------------------------------------- |\n",
    "| `product_id`    | Identificador único del producto.                                                                   |\n",
    "| `product_name`  | Nombre del producto.                                                                                |\n",
    "| `aisle_id`      | Identificador de la **estantería** donde se encuentra el producto. Relacionado con `aisles.csv`.    |\n",
    "| `department_id` | Identificador del **departamento** al que pertenece el producto. Relacionado con `departments.csv`. |\n"
   ]
  },
  {
   "cell_type": "code",
   "execution_count": 18,
   "id": "70a8c1ce",
   "metadata": {},
   "outputs": [
    {
     "data": {
      "application/vnd.microsoft.datawrangler.viewer.v0+json": {
       "columns": [
        {
         "name": "index",
         "rawType": "int64",
         "type": "integer"
        },
        {
         "name": "aisle_id",
         "rawType": "int64",
         "type": "integer"
        },
        {
         "name": "aisle",
         "rawType": "object",
         "type": "string"
        }
       ],
       "conversionMethod": "pd.DataFrame",
       "ref": "392e39c9-3a2b-45d4-93c6-8caeeee9d4e6",
       "rows": [
        [
         "0",
         "1",
         "prepared soups salads"
        ],
        [
         "1",
         "2",
         "specialty cheeses"
        ],
        [
         "2",
         "3",
         "energy granola bars"
        ],
        [
         "3",
         "4",
         "instant foods"
        ],
        [
         "4",
         "5",
         "marinades meat preparation"
        ]
       ],
       "shape": {
        "columns": 2,
        "rows": 5
       }
      },
      "text/html": [
       "<div>\n",
       "<style scoped>\n",
       "    .dataframe tbody tr th:only-of-type {\n",
       "        vertical-align: middle;\n",
       "    }\n",
       "\n",
       "    .dataframe tbody tr th {\n",
       "        vertical-align: top;\n",
       "    }\n",
       "\n",
       "    .dataframe thead th {\n",
       "        text-align: right;\n",
       "    }\n",
       "</style>\n",
       "<table border=\"1\" class=\"dataframe\">\n",
       "  <thead>\n",
       "    <tr style=\"text-align: right;\">\n",
       "      <th></th>\n",
       "      <th>aisle_id</th>\n",
       "      <th>aisle</th>\n",
       "    </tr>\n",
       "  </thead>\n",
       "  <tbody>\n",
       "    <tr>\n",
       "      <th>0</th>\n",
       "      <td>1</td>\n",
       "      <td>prepared soups salads</td>\n",
       "    </tr>\n",
       "    <tr>\n",
       "      <th>1</th>\n",
       "      <td>2</td>\n",
       "      <td>specialty cheeses</td>\n",
       "    </tr>\n",
       "    <tr>\n",
       "      <th>2</th>\n",
       "      <td>3</td>\n",
       "      <td>energy granola bars</td>\n",
       "    </tr>\n",
       "    <tr>\n",
       "      <th>3</th>\n",
       "      <td>4</td>\n",
       "      <td>instant foods</td>\n",
       "    </tr>\n",
       "    <tr>\n",
       "      <th>4</th>\n",
       "      <td>5</td>\n",
       "      <td>marinades meat preparation</td>\n",
       "    </tr>\n",
       "  </tbody>\n",
       "</table>\n",
       "</div>"
      ],
      "text/plain": [
       "   aisle_id                       aisle\n",
       "0         1       prepared soups salads\n",
       "1         2           specialty cheeses\n",
       "2         3         energy granola bars\n",
       "3         4               instant foods\n",
       "4         5  marinades meat preparation"
      ]
     },
     "execution_count": 18,
     "metadata": {},
     "output_type": "execute_result"
    }
   ],
   "source": [
    "aisles.head()"
   ]
  },
  {
   "cell_type": "markdown",
   "id": "384ff378",
   "metadata": {},
   "source": [
    "| Columna    | Descripción                                                                                           |\n",
    "| ---------- | ----------------------------------------------------------------------------------------------------- |\n",
    "| `aisle_id` | Identificador único de la **estantería**.                                                             |\n",
    "| `aisle`    | Nombre de la **estantería** o categoría del producto (por ejemplo, \"bebidas\", \"frutas\", \"panadería\"). |\n"
   ]
  },
  {
   "cell_type": "code",
   "execution_count": 19,
   "id": "d2c6549f",
   "metadata": {},
   "outputs": [
    {
     "data": {
      "application/vnd.microsoft.datawrangler.viewer.v0+json": {
       "columns": [
        {
         "name": "index",
         "rawType": "int64",
         "type": "integer"
        },
        {
         "name": "department_id",
         "rawType": "int64",
         "type": "integer"
        },
        {
         "name": "department",
         "rawType": "object",
         "type": "string"
        }
       ],
       "conversionMethod": "pd.DataFrame",
       "ref": "240b131e-e45f-4e24-9643-f29155583b24",
       "rows": [
        [
         "0",
         "1",
         "frozen"
        ],
        [
         "1",
         "2",
         "other"
        ],
        [
         "2",
         "3",
         "bakery"
        ],
        [
         "3",
         "4",
         "produce"
        ],
        [
         "4",
         "5",
         "alcohol"
        ]
       ],
       "shape": {
        "columns": 2,
        "rows": 5
       }
      },
      "text/html": [
       "<div>\n",
       "<style scoped>\n",
       "    .dataframe tbody tr th:only-of-type {\n",
       "        vertical-align: middle;\n",
       "    }\n",
       "\n",
       "    .dataframe tbody tr th {\n",
       "        vertical-align: top;\n",
       "    }\n",
       "\n",
       "    .dataframe thead th {\n",
       "        text-align: right;\n",
       "    }\n",
       "</style>\n",
       "<table border=\"1\" class=\"dataframe\">\n",
       "  <thead>\n",
       "    <tr style=\"text-align: right;\">\n",
       "      <th></th>\n",
       "      <th>department_id</th>\n",
       "      <th>department</th>\n",
       "    </tr>\n",
       "  </thead>\n",
       "  <tbody>\n",
       "    <tr>\n",
       "      <th>0</th>\n",
       "      <td>1</td>\n",
       "      <td>frozen</td>\n",
       "    </tr>\n",
       "    <tr>\n",
       "      <th>1</th>\n",
       "      <td>2</td>\n",
       "      <td>other</td>\n",
       "    </tr>\n",
       "    <tr>\n",
       "      <th>2</th>\n",
       "      <td>3</td>\n",
       "      <td>bakery</td>\n",
       "    </tr>\n",
       "    <tr>\n",
       "      <th>3</th>\n",
       "      <td>4</td>\n",
       "      <td>produce</td>\n",
       "    </tr>\n",
       "    <tr>\n",
       "      <th>4</th>\n",
       "      <td>5</td>\n",
       "      <td>alcohol</td>\n",
       "    </tr>\n",
       "  </tbody>\n",
       "</table>\n",
       "</div>"
      ],
      "text/plain": [
       "   department_id department\n",
       "0              1     frozen\n",
       "1              2      other\n",
       "2              3     bakery\n",
       "3              4    produce\n",
       "4              5    alcohol"
      ]
     },
     "execution_count": 19,
     "metadata": {},
     "output_type": "execute_result"
    }
   ],
   "source": [
    "departments.head()"
   ]
  },
  {
   "cell_type": "markdown",
   "id": "7dbbdaad",
   "metadata": {},
   "source": [
    "| Columna         | Descripción                                                                      |\n",
    "| --------------- | -------------------------------------------------------------------------------- |\n",
    "| `department_id` | Identificador único del **departamento**.                                        |\n",
    "| `department`    | Nombre del **departamento** (por ejemplo, \"alimentos\", \"bebidas\", \"cosméticos\"). |\n"
   ]
  },
  {
   "cell_type": "code",
   "execution_count": 15,
   "id": "2b0b451e",
   "metadata": {},
   "outputs": [
    {
     "data": {
      "text/plain": [
       "(3421083, 7)"
      ]
     },
     "execution_count": 15,
     "metadata": {},
     "output_type": "execute_result"
    }
   ],
   "source": [
    "orders.shape"
   ]
  },
  {
   "cell_type": "markdown",
   "id": "dc2c0183",
   "metadata": {},
   "source": [
    "Merge de datasets"
   ]
  },
  {
   "cell_type": "code",
   "execution_count": 5,
   "id": "d163beb0",
   "metadata": {},
   "outputs": [],
   "source": [
    "\n",
    "# Unir datos para análisis\n",
    "order_products = order_products_prior.merge(products, on='product_id', how='left')\n",
    "order_products = order_products.merge(aisles, on='aisle_id', how='left')\n",
    "order_products = order_products.merge(departments, on='department_id', how='left')"
   ]
  },
  {
   "cell_type": "markdown",
   "id": "f541149f",
   "metadata": {},
   "source": [
    "Usuarios únicos, número de productos únicos y número de pedidos"
   ]
  },
  {
   "cell_type": "code",
   "execution_count": 12,
   "id": "009e8b16",
   "metadata": {},
   "outputs": [
    {
     "name": "stdout",
     "output_type": "stream",
     "text": [
      "Número de usuarios: 206209\n",
      "Número de productos: 49688\n",
      "Número de pedidos: 3421083\n"
     ]
    }
   ],
   "source": [
    "# Análisis exploratorio\n",
    "# Número total de usuarios, productos y pedidos\n",
    "num_users = orders['user_id'].nunique()\n",
    "num_products = products['product_id'].nunique()\n",
    "num_orders = orders['order_id'].nunique()\n",
    "\n",
    "print(f'Número de usuarios: {num_users}')\n",
    "print(f'Número de productos: {num_products}')\n",
    "print(f'Número de pedidos: {num_orders}')\n"
   ]
  },
  {
   "cell_type": "markdown",
   "id": "09281568",
   "metadata": {},
   "source": [
    "Compras por usuario/a"
   ]
  },
  {
   "cell_type": "code",
   "execution_count": 13,
   "id": "8417d362",
   "metadata": {},
   "outputs": [
    {
     "data": {
      "image/png": "[encoded data removed]",
      "text/plain": [
       "<Figure size 1000x600 with 1 Axes>"
      ]
     },
     "metadata": {},
     "output_type": "display_data"
    }
   ],
   "source": [
    "# Frecuencia de compra por usuario\n",
    "user_order_counts = orders.groupby('user_id')['order_number'].max()\n",
    "plt.figure(figsize=(10,6))\n",
    "sns.histplot(user_order_counts, bins=30, kde=False)\n",
    "plt.title('Distribución del número de pedidos por usuario')\n",
    "plt.xlabel('Número de pedidos')\n",
    "plt.ylabel('Número de usuarios')\n",
    "plt.show()\n"
   ]
  },
  {
   "cell_type": "code",
   "execution_count": 22,
   "id": "1f674d6a",
   "metadata": {},
   "outputs": [
    {
     "data": {
      "text/plain": [
       "user_id\n",
       "1         11\n",
       "2         15\n",
       "3         13\n",
       "4          6\n",
       "5          5\n",
       "          ..\n",
       "206205     4\n",
       "206206    68\n",
       "206207    17\n",
       "206208    50\n",
       "206209    14\n",
       "Name: order_number, Length: 206209, dtype: int64"
      ]
     },
     "execution_count": 22,
     "metadata": {},
     "output_type": "execute_result"
    }
   ],
   "source": [
    "user_order_counts"
   ]
  },
  {
   "cell_type": "markdown",
   "id": "ce80c3b7",
   "metadata": {},
   "source": [
    "Frecuencia de compras en función del día de la semana (order_dow):"
   ]
  },
  {
   "cell_type": "code",
   "execution_count": 28,
   "id": "fb4957e0",
   "metadata": {},
   "outputs": [
    {
     "name": "stderr",
     "output_type": "stream",
     "text": [
      "C:\\Users\\nerea\\AppData\\Local\\Temp\\ipykernel_1564\\3517552447.py:2: FutureWarning: \n",
      "\n",
      "Passing `palette` without assigning `hue` is deprecated and will be removed in v0.14.0. Assign the `x` variable to `hue` and set `legend=False` for the same effect.\n",
      "\n",
      "  sns.countplot(x='order_dow', data=orders, palette='Set2')\n"
     ]
    },
    {
     "data": {
      "image/png": "[encoded data removed]",
      "text/plain": [
       "<Figure size 1000x600 with 1 Axes>"
      ]
     },
     "metadata": {},
     "output_type": "display_data"
    }
   ],
   "source": [
    "plt.figure(figsize=(10,6))\n",
    "sns.countplot(x='order_dow', data=orders, palette='Set2')\n",
    "plt.title('Frecuencia de compras por día de la semana')\n",
    "plt.xlabel('Día de la semana')\n",
    "plt.ylabel('Número de compras')\n",
    "plt.show()\n"
   ]
  },
  {
   "cell_type": "markdown",
   "id": "f6ceb140",
   "metadata": {},
   "source": [
    "Frecuencia de compras según la hora del día (order_hour_of_day):"
   ]
  },
  {
   "cell_type": "code",
   "execution_count": 29,
   "id": "6640c639",
   "metadata": {},
   "outputs": [
    {
     "name": "stderr",
     "output_type": "stream",
     "text": [
      "C:\\Users\\nerea\\AppData\\Local\\Temp\\ipykernel_1564\\2588490532.py:2: FutureWarning: \n",
      "\n",
      "Passing `palette` without assigning `hue` is deprecated and will be removed in v0.14.0. Assign the `x` variable to `hue` and set `legend=False` for the same effect.\n",
      "\n",
      "  sns.countplot(x='order_hour_of_day', data=orders, palette='Set2')\n"
     ]
    },
    {
     "data": {
      "image/png": "[encoded data removed]",
      "text/plain": [
       "<Figure size 1000x600 with 1 Axes>"
      ]
     },
     "metadata": {},
     "output_type": "display_data"
    }
   ],
   "source": [
    "plt.figure(figsize=(10,6))\n",
    "sns.countplot(x='order_hour_of_day', data=orders, palette='Set2')\n",
    "plt.title('Frecuencia de compras por hora del día')\n",
    "plt.xlabel('Hora del día')\n",
    "plt.ylabel('Número de compras')\n",
    "plt.show()\n"
   ]
  },
  {
   "cell_type": "markdown",
   "id": "dc685812",
   "metadata": {},
   "source": [
    "Días desde la última compra (days_since_prior_order):"
   ]
  },
  {
   "cell_type": "code",
   "execution_count": 30,
   "id": "d3871cbe",
   "metadata": {},
   "outputs": [
    {
     "data": {
      "image/png": "[encoded data removed]",
      "text/plain": [
       "<Figure size 1000x600 with 1 Axes>"
      ]
     },
     "metadata": {},
     "output_type": "display_data"
    }
   ],
   "source": [
    "plt.figure(figsize=(10,6))\n",
    "sns.histplot(orders['days_since_prior_order'].dropna(), bins=50, kde=True)\n",
    "plt.title('Distribución de días desde la última compra')\n",
    "plt.xlabel('Días desde la última compra')\n",
    "plt.ylabel('Frecuencia')\n",
    "plt.show()\n"
   ]
  },
  {
   "cell_type": "code",
   "execution_count": 24,
   "id": "418cbccc",
   "metadata": {},
   "outputs": [
    {
     "data": {
      "image/png": "[encoded data removed]",
      "text/plain": [
       "<Figure size 1000x600 with 1 Axes>"
      ]
     },
     "metadata": {},
     "output_type": "display_data"
    }
   ],
   "source": [
    "# Análisis de la frecuencia de compras por usuario\n",
    "user_order_counts = orders.groupby('user_id')['order_number'].max()\n",
    "plt.figure(figsize=(10,6))\n",
    "sns.histplot(user_order_counts, bins=30, kde=True)\n",
    "plt.title('Distribución del número de pedidos por usuario')\n",
    "plt.xlabel('Número de pedidos')\n",
    "plt.ylabel('Número de usuarios')\n",
    "plt.show()"
   ]
  },
  {
   "cell_type": "markdown",
   "id": "1fa74b7f",
   "metadata": {},
   "source": [
    "Productos más vendidos"
   ]
  },
  {
   "cell_type": "code",
   "execution_count": 14,
   "id": "31d4b095",
   "metadata": {},
   "outputs": [
    {
     "name": "stderr",
     "output_type": "stream",
     "text": [
      "C:\\Users\\nerea\\AppData\\Local\\Temp\\ipykernel_1564\\3360586586.py:4: FutureWarning: \n",
      "\n",
      "Passing `palette` without assigning `hue` is deprecated and will be removed in v0.14.0. Assign the `y` variable to `hue` and set `legend=False` for the same effect.\n",
      "\n",
      "  sns.barplot(x=top_products.values, y=top_products.index, palette='viridis')\n"
     ]
    },
    {
     "data": {
      "image/png": "[encoded data removed]",
      "text/plain": [
       "<Figure size 1000x600 with 1 Axes>"
      ]
     },
     "metadata": {},
     "output_type": "display_data"
    }
   ],
   "source": [
    "\n",
    "# Productos más vendidos\n",
    "top_products = order_products['product_name'].value_counts().head(10)\n",
    "plt.figure(figsize=(10,6))\n",
    "sns.barplot(x=top_products.values, y=top_products.index, palette='viridis')\n",
    "plt.title('Top 10 productos más vendidos')\n",
    "plt.xlabel('Número de veces vendido')\n",
    "plt.ylabel('Producto')\n",
    "plt.show()"
   ]
  },
  {
   "cell_type": "markdown",
   "id": "04f11698",
   "metadata": {},
   "source": [
    "Productos reordenados:\n",
    "¿Qué porcentaje de productos se reordenan?"
   ]
  },
  {
   "cell_type": "code",
   "execution_count": 31,
   "id": "e0b8054b",
   "metadata": {},
   "outputs": [
    {
     "name": "stdout",
     "output_type": "stream",
     "text": [
      "Porcentaje de productos reordenados: 58.97%\n"
     ]
    }
   ],
   "source": [
    "reorder_percentage = order_products['reordered'].mean()\n",
    "print(f\"Porcentaje de productos reordenados: {reorder_percentage * 100:.2f}%\")\n"
   ]
  },
  {
   "cell_type": "markdown",
   "id": "6dffcaa0",
   "metadata": {},
   "source": [
    "Número de productos por pedido:"
   ]
  },
  {
   "cell_type": "code",
   "execution_count": 37,
   "id": "a45d4f38",
   "metadata": {},
   "outputs": [
    {
     "data": {
      "image/png": "[encoded data removed]",
      "text/plain": [
       "<Figure size 640x480 with 1 Axes>"
      ]
     },
     "metadata": {},
     "output_type": "display_data"
    }
   ],
   "source": [
    "products_per_order = order_products.groupby('order_id')['product_id'].count()\n",
    "sns.histplot(products_per_order, bins=15, kde=True)\n",
    "plt.title('Número de productos por pedido')\n",
    "plt.xlabel('Número de productos por pedido')\n",
    "plt.ylabel('Frecuencia')\n",
    "plt.show()\n"
   ]
  }
 ],
 "metadata": {
  "kernelspec": {
   "display_name": "Python 3",
   "language": "python",
   "name": "python3"
  },
  "language_info": {
   "codemirror_mode": {
    "name": "ipython",
    "version": 3
   },
   "file_extension": ".py",
   "mimetype": "text/x-python",
   "name": "python",
   "nbconvert_exporter": "python",
   "pygments_lexer": "ipython3",
   "version": "3.11.9"
  }
 },
 "nbformat": 4,
 "nbformat_minor": 5
}
